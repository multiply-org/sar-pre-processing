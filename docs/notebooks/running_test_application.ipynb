{
 "cells": [
  {
   "cell_type": "markdown",
   "metadata": {},
   "source": [
    "# Example of running sar-pre-processing package"
   ]
  },
  {
   "cell_type": "markdown",
   "metadata": {},
   "source": [
    "## 1. Requirements\n",
    "\n",
    "- Installation of sar-pre-processing package\n",
    "    - Problem: gdal package might not be installed correctly\n",
    "- Installation of ESA's SNAP Toolbox (https://step.esa.int/main/download/snap-download/)\n",
    "- Sentinel-1 SLC data\n",
    "    - location where files are stored (locally)<br>\n",
    "    **or**  \n",
    "    - use 2. to download data from the internet\n",
    "        - Free account for Copernicus Sentinel Data Hub needs to be created (https://scihub.copernicus.eu/dhus/#/self-registration)\n",
    "        - python package \"sentinelsat version 0.13\" will be installed\n",
    "        - may require some free disk space"
   ]
  },
  {
   "cell_type": "markdown",
   "metadata": {},
   "source": [
    "#### Problem with installed GDAL"
   ]
  },
  {
   "cell_type": "code",
   "execution_count": 1,
   "metadata": {},
   "outputs": [],
   "source": [
    "try:\n",
    "    import gdal\n",
    "except ModuleNotFoundError:\n",
    "    ! gdalinfo --version"
   ]
  },
  {
   "cell_type": "code",
   "execution_count": 2,
   "metadata": {},
   "outputs": [
    {
     "name": "stdout",
     "output_type": "stream",
     "text": [
      "Requirement already satisfied: gdal==3.0.4 in /home/tweiss/anaconda3/envs/sarpre/lib/python3.6/site-packages (3.0.4)\r\n"
     ]
    }
   ],
   "source": [
    "# if GDAL is already installed globally installed version of GDAL should be specified above.\n",
    "# If not GDAL might no be installed at all.\n",
    "# install GDAL version (version needs to be specified!)\n",
    "\n",
    "try:\n",
    "    import gdal\n",
    "    print(\"gdal installed - requirement satisfied.\")\n",
    "except ModuleNotFoundError:\n",
    "    print('gdal module not installed!')\n",
    "    yes = input(\"Do you want do install now? (type y)\")\n",
    "    if yes in ['yes', 'y', 'Y']:\n",
    "        print(\"trying to install..\")\n",
    "        ! pip install gdal==3.0.4\n",
    "    else:\n",
    "        print(\"not installing..\")"
   ]
  },
  {
   "cell_type": "code",
   "execution_count": 3,
   "metadata": {},
   "outputs": [
    {
     "name": "stdout",
     "output_type": "stream",
     "text": [
      "sentinelsat installed - requirement satisfied.\n"
     ]
    }
   ],
   "source": [
    "# Install python package sentinelsat\n",
    "try:\n",
    "    import sentinelsat\n",
    "    print(\"sentinelsat installed - requirement satisfied.\")\n",
    "except ModuleNotFoundError:\n",
    "    print('sentinelsat module not installed!')\n",
    "    yes = input(\"Do you want do install now? (type y)\")\n",
    "    if yes in ['yes', 'y', 'Y']:\n",
    "        print(\"trying to install..\")\n",
    "        ! pip install sentinelsat==0.13 --user\n",
    "    else:\n",
    "        print(\"not installing..\")"
   ]
  },
  {
   "cell_type": "markdown",
   "metadata": {},
   "source": [
    "## 2. Download sample data from Sentinel Data Hub"
   ]
  },
  {
   "cell_type": "markdown",
   "metadata": {},
   "source": [
    "### <span style=\"color:red\">Create Account (https://scihub.copernicus.eu/dhus/#/self-registration) and change user and password below</span>."
   ]
  },
  {
   "cell_type": "code",
   "execution_count": 16,
   "metadata": {},
   "outputs": [],
   "source": [
    "# connect to the API\n",
    "from sentinelsat import SentinelAPI, read_geojson, geojson_to_wkt\n",
    "from datetime import date\n",
    "user = 'username'\n",
    "password = 'password'\n",
    "# initialize settings\n",
    "api = SentinelAPI(user, password, 'https://scihub.copernicus.eu/apihub/')"
   ]
  },
  {
   "cell_type": "markdown",
   "metadata": {},
   "source": [
    "If package sentinelsat cannot be imported please restart kernel and try again"
   ]
  },
  {
   "cell_type": "code",
   "execution_count": 5,
   "metadata": {},
   "outputs": [
    {
     "name": "stdout",
     "output_type": "stream",
     "text": [
      "Following products will be downloaded\n",
      "['S1A_IW_SLC__1SDV_20200119T052619_20200119T052647_030865_038AB8_A3E8'\n",
      " 'S1B_IW_SLC__1SDV_20200116T165849_20200116T165916_019845_025868_C2F7'\n",
      " 'S1B_IW_SLC__1SDV_20200116T165823_20200116T165851_019845_025868_7734'\n",
      " 'S1A_IW_SLC__1SDV_20200115T170724_20200115T170751_030814_0388F3_901F'\n",
      " 'S1A_IW_SLC__1SDV_20200114T051810_20200114T051838_030792_038823_B323'\n",
      " 'S1B_IW_SLC__1SDV_20200113T052538_20200113T052605_019794_0256CD_CFF9'\n",
      " 'S1A_IW_SLC__1SDV_20200110T165932_20200110T170000_030741_03864C_E827'\n",
      " 'S1A_IW_SLC__1SDV_20200110T165907_20200110T165934_030741_03864C_88B8'\n",
      " 'S1B_IW_SLC__1SDV_20200109T170642_20200109T170709_019743_025539_BDD7'\n",
      " 'S1B_IW_SLC__1SDV_20200108T051746_20200108T051813_019721_025492_422D'\n",
      " 'S1A_IW_SLC__1SDV_20200107T052619_20200107T052647_030690_038490_1F39'\n",
      " 'S1B_IW_SLC__1SDV_20200104T165824_20200104T165852_019670_0252D8_3D51'\n",
      " 'S1B_IW_SLC__1SDV_20200104T165849_20200104T165916_019670_0252D8_0278'\n",
      " 'S1A_IW_SLC__1SDV_20200103T170725_20200103T170752_030639_0382D5_7345'\n",
      " 'S1A_IW_SLC__1SDV_20200102T051811_20200102T051839_030617_038202_B1AD'\n",
      " 'S1B_IW_SLC__1SDV_20200101T052539_20200101T052606_019619_025146_5770']\n",
      "These 16 product need 122.76 Gb of disk space\n"
     ]
    }
   ],
   "source": [
    "# search by polygon (MNI test site coordinates), time, and SciHub query keywords\n",
    "footprint = geojson_to_wkt(read_geojson('coordinates_mni.geojson'))\n",
    "products = api.query(footprint,\n",
    "                     date=('20200101', '20200120'),\n",
    "                     platformname='Sentinel-1',\n",
    "                     producttype='SLC')\n",
    "print('Following products will be downloaded')\n",
    "print(api.to_dataframe(products).title.values)\n",
    "\n",
    "print('These {} product need {} Gb of disk space'.format(len(products), api.get_products_size(products)))"
   ]
  },
  {
   "cell_type": "markdown",
   "metadata": {},
   "source": [
    "**Start download process (<span style=\"color:red\">Attention: might take a while and data will requries some free disk space</span>)**"
   ]
  },
  {
   "cell_type": "code",
   "execution_count": 6,
   "metadata": {},
   "outputs": [
    {
     "data": {
      "text/plain": [
       "(OrderedDict([('9bbb44fd-687f-46f6-8ab6-a03a3978dfb0',\n",
       "               {'id': '9bbb44fd-687f-46f6-8ab6-a03a3978dfb0',\n",
       "                'title': 'S1A_IW_SLC__1SDV_20200119T052619_20200119T052647_030865_038AB8_A3E8',\n",
       "                'size': 4890155753,\n",
       "                'md5': '8A28A2076E5721A001F9D6B76FB7B410',\n",
       "                'date': datetime.datetime(2020, 1, 19, 5, 26, 19, 467000),\n",
       "                'footprint': 'POLYGON((12.721289 47.890324,9.288409 48.291393,9.678197 49.963123,13.230704 49.560402,12.721289 47.890324))',\n",
       "                'url': \"https://scihub.copernicus.eu/apihub/odata/v1/Products('9bbb44fd-687f-46f6-8ab6-a03a3978dfb0')/$value\",\n",
       "                'Online': True,\n",
       "                'Creation Date': datetime.datetime(2020, 1, 19, 8, 44, 0, 159000),\n",
       "                'Ingestion Date': datetime.datetime(2020, 1, 19, 8, 43, 4, 426000),\n",
       "                'path': '/media/tweiss/Work/GIT/GitHub/multiply-org/sar-pre-processing/docs/notebooks/test_files/S1A_IW_SLC__1SDV_20200119T052619_20200119T052647_030865_038AB8_A3E8.zip',\n",
       "                'downloaded_bytes': 0}),\n",
       "              ('e296aa22-4c36-41ab-8fc9-e2d26de44eea',\n",
       "               {'id': 'e296aa22-4c36-41ab-8fc9-e2d26de44eea',\n",
       "                'title': 'S1B_IW_SLC__1SDV_20200116T165849_20200116T165916_019845_025868_C2F7',\n",
       "                'size': 4717861590,\n",
       "                'md5': 'AE24B7BE314CA807CD573B17D634C476',\n",
       "                'date': datetime.datetime(2020, 1, 16, 16, 58, 49, 392000),\n",
       "                'footprint': 'POLYGON((10.672153 49.681503,14.257116 50.087559,14.634671 48.473198,11.166965 48.068844,10.672153 49.681503))',\n",
       "                'url': \"https://scihub.copernicus.eu/apihub/odata/v1/Products('e296aa22-4c36-41ab-8fc9-e2d26de44eea')/$value\",\n",
       "                'Online': True,\n",
       "                'Creation Date': datetime.datetime(2020, 1, 16, 20, 45, 3, 24000),\n",
       "                'Ingestion Date': datetime.datetime(2020, 1, 16, 20, 44, 39, 316000),\n",
       "                'path': '/media/tweiss/Work/GIT/GitHub/multiply-org/sar-pre-processing/docs/notebooks/test_files/S1B_IW_SLC__1SDV_20200116T165849_20200116T165916_019845_025868_C2F7.zip',\n",
       "                'downloaded_bytes': 0}),\n",
       "              ('79599d69-2265-4e51-9c6c-c82df52a50d8',\n",
       "               {'id': '79599d69-2265-4e51-9c6c-c82df52a50d8',\n",
       "                'title': 'S1B_IW_SLC__1SDV_20200116T165823_20200116T165851_019845_025868_7734',\n",
       "                'size': 4870475765,\n",
       "                'md5': 'C41BD830565E9E584C57B5AA7D54C7E7',\n",
       "                'date': datetime.datetime(2020, 1, 16, 16, 58, 23, 621000),\n",
       "                'footprint': 'POLYGON((11.138941 48.198147,14.611101 48.601830,14.992247 46.929916,11.631907 46.527386,11.138941 48.198147))',\n",
       "                'url': \"https://scihub.copernicus.eu/apihub/odata/v1/Products('79599d69-2265-4e51-9c6c-c82df52a50d8')/$value\",\n",
       "                'Online': True,\n",
       "                'Creation Date': datetime.datetime(2020, 1, 16, 20, 20, 1, 722000),\n",
       "                'Ingestion Date': datetime.datetime(2020, 1, 16, 20, 19, 28, 604000),\n",
       "                'path': '/media/tweiss/Work/GIT/GitHub/multiply-org/sar-pre-processing/docs/notebooks/test_files/S1B_IW_SLC__1SDV_20200116T165823_20200116T165851_019845_025868_7734.zip',\n",
       "                'downloaded_bytes': 0}),\n",
       "              ('95d179ee-2c63-41ac-9117-e958f693496c',\n",
       "               {'id': '95d179ee-2c63-41ac-9117-e958f693496c',\n",
       "                'title': 'S1A_IW_SLC__1SDV_20200115T170724_20200115T170751_030814_0388F3_901F',\n",
       "                'size': 4692894084,\n",
       "                'md5': 'CD927BDDFF265D9C0E8335D85F78D9D1',\n",
       "                'date': datetime.datetime(2020, 1, 15, 17, 7, 24, 632000),\n",
       "                'footprint': 'POLYGON((9.010144 48.467201,12.460204 48.866734,12.831261 47.250980,9.489684 46.852673,9.010144 48.467201))',\n",
       "                'url': \"https://scihub.copernicus.eu/apihub/odata/v1/Products('95d179ee-2c63-41ac-9117-e958f693496c')/$value\",\n",
       "                'Online': True,\n",
       "                'Creation Date': datetime.datetime(2020, 1, 15, 22, 39, 3, 314000),\n",
       "                'Ingestion Date': datetime.datetime(2020, 1, 15, 22, 38, 44, 621000),\n",
       "                'path': '/media/tweiss/Work/GIT/GitHub/multiply-org/sar-pre-processing/docs/notebooks/test_files/S1A_IW_SLC__1SDV_20200115T170724_20200115T170751_030814_0388F3_901F.zip',\n",
       "                'downloaded_bytes': 0}),\n",
       "              ('88ea18c1-7105-44e2-9f15-faea9cdecf0f',\n",
       "               {'id': '88ea18c1-7105-44e2-9f15-faea9cdecf0f',\n",
       "                'title': 'S1A_IW_SLC__1SDV_20200114T051810_20200114T051838_030792_038823_B323',\n",
       "                'size': 4788717095,\n",
       "                'md5': '48D6C96232ECE564193D94657679118E',\n",
       "                'date': datetime.datetime(2020, 1, 14, 5, 18, 10, 665000),\n",
       "                'footprint': 'POLYGON((14.704418 47.601688,11.278624 48.004154,11.666617 49.676544,15.210676 49.272518,14.704418 47.601688))',\n",
       "                'url': \"https://scihub.copernicus.eu/apihub/odata/v1/Products('88ea18c1-7105-44e2-9f15-faea9cdecf0f')/$value\",\n",
       "                'Online': True,\n",
       "                'Creation Date': datetime.datetime(2020, 1, 14, 10, 2, 1, 591000),\n",
       "                'Ingestion Date': datetime.datetime(2020, 1, 14, 10, 1, 23, 556000),\n",
       "                'path': '/media/tweiss/Work/GIT/GitHub/multiply-org/sar-pre-processing/docs/notebooks/test_files/S1A_IW_SLC__1SDV_20200114T051810_20200114T051838_030792_038823_B323.zip',\n",
       "                'downloaded_bytes': 0}),\n",
       "              ('72f17839-c5ca-4822-b2b7-8b0ac485872a',\n",
       "               {'id': '72f17839-c5ca-4822-b2b7-8b0ac485872a',\n",
       "                'title': 'S1B_IW_SLC__1SDV_20200113T052538_20200113T052605_019794_0256CD_CFF9',\n",
       "                'size': 4708125157,\n",
       "                'md5': '7AA44E08B0143CCEF5259F1DC891BC66',\n",
       "                'date': datetime.datetime(2020, 1, 13, 5, 25, 38, 742000),\n",
       "                'footprint': 'POLYGON((12.705557 47.892673,9.327076 48.287720,9.704534 49.901886,13.196507 49.505253,12.705557 47.892673))',\n",
       "                'url': \"https://scihub.copernicus.eu/apihub/odata/v1/Products('72f17839-c5ca-4822-b2b7-8b0ac485872a')/$value\",\n",
       "                'Online': True,\n",
       "                'Creation Date': datetime.datetime(2020, 1, 13, 9, 4, 1, 493000),\n",
       "                'Ingestion Date': datetime.datetime(2020, 1, 13, 9, 3, 22, 316000),\n",
       "                'path': '/media/tweiss/Work/GIT/GitHub/multiply-org/sar-pre-processing/docs/notebooks/test_files/S1B_IW_SLC__1SDV_20200113T052538_20200113T052605_019794_0256CD_CFF9.zip',\n",
       "                'downloaded_bytes': 0}),\n",
       "              ('258a7d91-d23d-4cf2-a4c8-81309025611f',\n",
       "               {'id': '258a7d91-d23d-4cf2-a4c8-81309025611f',\n",
       "                'title': 'S1A_IW_SLC__1SDV_20200110T165932_20200110T170000_030741_03864C_E827',\n",
       "                'size': 4966965288,\n",
       "                'md5': '614FC9AA870700F2227D072FE16F6488',\n",
       "                'date': datetime.datetime(2020, 1, 10, 16, 59, 32, 561000),\n",
       "                'footprint': 'POLYGON((10.657566 49.801254,14.232532 50.204849,14.624266 48.531696,11.170767 48.129868,10.657566 49.801254))',\n",
       "                'url': \"https://scihub.copernicus.eu/apihub/odata/v1/Products('258a7d91-d23d-4cf2-a4c8-81309025611f')/$value\",\n",
       "                'Online': True,\n",
       "                'Creation Date': datetime.datetime(2020, 1, 10, 20, 14, 0, 205000),\n",
       "                'Ingestion Date': datetime.datetime(2020, 1, 10, 20, 13, 10, 500000),\n",
       "                'path': '/media/tweiss/Work/GIT/GitHub/multiply-org/sar-pre-processing/docs/notebooks/test_files/S1A_IW_SLC__1SDV_20200110T165932_20200110T170000_030741_03864C_E827.zip',\n",
       "                'downloaded_bytes': 0}),\n",
       "              ('16071701-74d5-4ee3-a668-691c14fdea85',\n",
       "               {'id': '16071701-74d5-4ee3-a668-691c14fdea85',\n",
       "                'title': 'S1A_IW_SLC__1SDV_20200110T165907_20200110T165934_030741_03864C_88B8',\n",
       "                'size': 4739181513,\n",
       "                'md5': '8FDF5C361653A7116B9320E599F163A2',\n",
       "                'date': datetime.datetime(2020, 1, 10, 16, 59, 7, 738000),\n",
       "                'footprint': 'POLYGON((11.141557 48.259907,14.599970 48.661133,14.968721 47.045166,11.618324 46.645054,11.141557 48.259907))',\n",
       "                'url': \"https://scihub.copernicus.eu/apihub/odata/v1/Products('16071701-74d5-4ee3-a668-691c14fdea85')/$value\",\n",
       "                'Online': True,\n",
       "                'Creation Date': datetime.datetime(2020, 1, 10, 20, 8, 0, 827000),\n",
       "                'Ingestion Date': datetime.datetime(2020, 1, 10, 20, 7, 7, 321000),\n",
       "                'path': '/media/tweiss/Work/GIT/GitHub/multiply-org/sar-pre-processing/docs/notebooks/test_files/S1A_IW_SLC__1SDV_20200110T165907_20200110T165934_030741_03864C_88B8.zip',\n",
       "                'downloaded_bytes': 0}),\n",
       "              ('eaa486b7-4bd7-4aa6-96bb-31c414071d59',\n",
       "               {'id': 'eaa486b7-4bd7-4aa6-96bb-31c414071d59',\n",
       "                'title': 'S1B_IW_SLC__1SDV_20200109T170642_20200109T170709_019743_025539_BDD7',\n",
       "                'size': 4710577701,\n",
       "                'md5': '4F6ECD72A2526703275CC8B5927085A2',\n",
       "                'date': datetime.datetime(2020, 1, 9, 17, 6, 42, 166000),\n",
       "                'footprint': 'POLYGON((9.057631 48.412727,12.495003 48.810356,12.864929 47.194942,9.535410 46.798470,9.057631 48.412727))',\n",
       "                'url': \"https://scihub.copernicus.eu/apihub/odata/v1/Products('eaa486b7-4bd7-4aa6-96bb-31c414071d59')/$value\",\n",
       "                'Online': True,\n",
       "                'Creation Date': datetime.datetime(2020, 1, 9, 23, 48, 2, 273000),\n",
       "                'Ingestion Date': datetime.datetime(2020, 1, 9, 23, 47, 16, 285000),\n",
       "                'path': '/media/tweiss/Work/GIT/GitHub/multiply-org/sar-pre-processing/docs/notebooks/test_files/S1B_IW_SLC__1SDV_20200109T170642_20200109T170709_019743_025539_BDD7.zip',\n",
       "                'downloaded_bytes': 0}),\n",
       "              ('6bbea609-78c3-41ed-9a50-4a572ea7c923',\n",
       "               {'id': '6bbea609-78c3-41ed-9a50-4a572ea7c923',\n",
       "                'title': 'S1B_IW_SLC__1SDV_20200108T051746_20200108T051813_019721_025492_422D',\n",
       "                'size': 4627341479,\n",
       "                'md5': 'FAAE408A7D2AA6AFFAC6B8577B02C5CD',\n",
       "                'date': datetime.datetime(2020, 1, 8, 5, 17, 46, 641000),\n",
       "                'footprint': 'POLYGON((14.419553 46.610783,11.087766 47.009762,11.457422 48.625214,14.896459 48.225082,14.419553 46.610783))',\n",
       "                'url': \"https://scihub.copernicus.eu/apihub/odata/v1/Products('6bbea609-78c3-41ed-9a50-4a572ea7c923')/$value\",\n",
       "                'Online': True,\n",
       "                'Creation Date': datetime.datetime(2020, 1, 8, 8, 51, 1, 62000),\n",
       "                'Ingestion Date': datetime.datetime(2020, 1, 8, 8, 50, 59, 255000),\n",
       "                'path': '/media/tweiss/Work/GIT/GitHub/multiply-org/sar-pre-processing/docs/notebooks/test_files/S1B_IW_SLC__1SDV_20200108T051746_20200108T051813_019721_025492_422D.zip',\n",
       "                'downloaded_bytes': 0}),\n",
       "              ('629b5896-ff2c-45f5-b6ff-532b5a316e07',\n",
       "               {'id': '629b5896-ff2c-45f5-b6ff-532b5a316e07',\n",
       "                'title': 'S1A_IW_SLC__1SDV_20200107T052619_20200107T052647_030690_038490_1F39',\n",
       "                'size': 4802990840,\n",
       "                'md5': '3F88A83462DB86DBCC1FE112B6C8A4AC',\n",
       "                'date': datetime.datetime(2020, 1, 7, 5, 26, 19, 957000),\n",
       "                'footprint': 'POLYGON((12.720630 47.890255,9.287652 48.291290,9.677359 49.962898,13.229959 49.560207,12.720630 47.890255))',\n",
       "                'url': \"https://scihub.copernicus.eu/apihub/odata/v1/Products('629b5896-ff2c-45f5-b6ff-532b5a316e07')/$value\",\n",
       "                'Online': True,\n",
       "                'Creation Date': datetime.datetime(2020, 1, 7, 9, 58, 3, 69000),\n",
       "                'Ingestion Date': datetime.datetime(2020, 1, 7, 9, 57, 48, 926000),\n",
       "                'path': '/media/tweiss/Work/GIT/GitHub/multiply-org/sar-pre-processing/docs/notebooks/test_files/S1A_IW_SLC__1SDV_20200107T052619_20200107T052647_030690_038490_1F39.zip',\n",
       "                'downloaded_bytes': 0}),\n",
       "              ('3cf3b3b7-0898-4bab-8051-7981ac23f08d',\n",
       "               {'id': '3cf3b3b7-0898-4bab-8051-7981ac23f08d',\n",
       "                'title': 'S1B_IW_SLC__1SDV_20200104T165824_20200104T165852_019670_0252D8_3D51',\n",
       "                'size': 4867853836,\n",
       "                'md5': 'B96D7010179FD16DCFABCA5A814F2575',\n",
       "                'date': datetime.datetime(2020, 1, 4, 16, 58, 24, 202000),\n",
       "                'footprint': 'POLYGON((11.139160 48.198547,14.611394 48.602219,14.992550 46.930180,11.632152 46.527664,11.139160 48.198547))',\n",
       "                'url': \"https://scihub.copernicus.eu/apihub/odata/v1/Products('3cf3b3b7-0898-4bab-8051-7981ac23f08d')/$value\",\n",
       "                'Online': True,\n",
       "                'Creation Date': datetime.datetime(2020, 1, 4, 20, 36, 2, 594000),\n",
       "                'Ingestion Date': datetime.datetime(2020, 1, 4, 20, 35, 18, 829000),\n",
       "                'path': '/media/tweiss/Work/GIT/GitHub/multiply-org/sar-pre-processing/docs/notebooks/test_files/S1B_IW_SLC__1SDV_20200104T165824_20200104T165852_019670_0252D8_3D51.zip',\n",
       "                'downloaded_bytes': 0}),\n",
       "              ('7ba02c7d-b45b-4e17-b04c-738b80472358',\n",
       "               {'id': '7ba02c7d-b45b-4e17-b04c-738b80472358',\n",
       "                'title': 'S1B_IW_SLC__1SDV_20200104T165849_20200104T165916_019670_0252D8_0278',\n",
       "                'size': 4760455642,\n",
       "                'md5': '888541FF762ED1295ABD972724F526A5',\n",
       "                'date': datetime.datetime(2020, 1, 4, 16, 58, 49, 975000),\n",
       "                'footprint': 'POLYGON((10.672400 49.682037,14.257427 50.088074,14.634995 48.473591,11.167240 48.069252,10.672400 49.682037))',\n",
       "                'url': \"https://scihub.copernicus.eu/apihub/odata/v1/Products('7ba02c7d-b45b-4e17-b04c-738b80472358')/$value\",\n",
       "                'Online': True,\n",
       "                'Creation Date': datetime.datetime(2020, 1, 4, 20, 36, 2, 256000),\n",
       "                'Ingestion Date': datetime.datetime(2020, 1, 4, 20, 35, 16, 771000),\n",
       "                'path': '/media/tweiss/Work/GIT/GitHub/multiply-org/sar-pre-processing/docs/notebooks/test_files/S1B_IW_SLC__1SDV_20200104T165849_20200104T165916_019670_0252D8_0278.zip',\n",
       "                'downloaded_bytes': 0}),\n",
       "              ('4122d664-b942-4ad0-8946-37f141152139',\n",
       "               {'id': '4122d664-b942-4ad0-8946-37f141152139',\n",
       "                'title': 'S1A_IW_SLC__1SDV_20200103T170725_20200103T170752_030639_0382D5_7345',\n",
       "                'size': 4729833869,\n",
       "                'md5': '9E41137C92156071E5B7D18D2AD09EA2',\n",
       "                'date': datetime.datetime(2020, 1, 3, 17, 7, 25, 161000),\n",
       "                'footprint': 'POLYGON((9.010249 48.467606,12.460344 48.867138,12.831462 47.251137,9.489870 46.852833,9.010249 48.467606))',\n",
       "                'url': \"https://scihub.copernicus.eu/apihub/odata/v1/Products('4122d664-b942-4ad0-8946-37f141152139')/$value\",\n",
       "                'Online': True,\n",
       "                'Creation Date': datetime.datetime(2020, 1, 3, 20, 35, 1, 655000),\n",
       "                'Ingestion Date': datetime.datetime(2020, 1, 3, 20, 34, 42, 102000),\n",
       "                'path': '/media/tweiss/Work/GIT/GitHub/multiply-org/sar-pre-processing/docs/notebooks/test_files/S1A_IW_SLC__1SDV_20200103T170725_20200103T170752_030639_0382D5_7345.zip',\n",
       "                'downloaded_bytes': 0}),\n",
       "              ('914a7a4d-439c-4a81-bf99-a28074bf74e0',\n",
       "               {'id': '914a7a4d-439c-4a81-bf99-a28074bf74e0',\n",
       "                'title': 'S1A_IW_SLC__1SDV_20200102T051811_20200102T051839_030617_038202_B1AD',\n",
       "                'size': 4742347619,\n",
       "                'md5': 'CD1B5032BE40D6B8FE74892B7EC9A7BC',\n",
       "                'date': datetime.datetime(2020, 1, 2, 5, 18, 11, 114000),\n",
       "                'footprint': 'POLYGON((14.705724 47.601616,11.279858 48.004131,11.667832 49.676266,15.211945 49.272194,14.705724 47.601616))',\n",
       "                'url': \"https://scihub.copernicus.eu/apihub/odata/v1/Products('914a7a4d-439c-4a81-bf99-a28074bf74e0')/$value\",\n",
       "                'Online': True,\n",
       "                'Creation Date': datetime.datetime(2020, 1, 2, 9, 17, 1, 551000),\n",
       "                'Ingestion Date': datetime.datetime(2020, 1, 2, 9, 16, 22, 430000),\n",
       "                'path': '/media/tweiss/Work/GIT/GitHub/multiply-org/sar-pre-processing/docs/notebooks/test_files/S1A_IW_SLC__1SDV_20200102T051811_20200102T051839_030617_038202_B1AD.zip',\n",
       "                'downloaded_bytes': 0}),\n",
       "              ('69b38be8-a08b-4953-8239-928e82df684b',\n",
       "               {'id': '69b38be8-a08b-4953-8239-928e82df684b',\n",
       "                'title': 'S1B_IW_SLC__1SDV_20200101T052539_20200101T052606_019619_025146_5770',\n",
       "                'size': 4565210772,\n",
       "                'md5': '776D8D9B5F19DD8A2605614E3B4456A6',\n",
       "                'date': datetime.datetime(2020, 1, 1, 5, 25, 39, 231000),\n",
       "                'footprint': 'POLYGON((12.706711 47.892326,9.328205 48.287434,9.705801 49.901958,13.197826 49.505268,12.706711 47.892326))',\n",
       "                'url': \"https://scihub.copernicus.eu/apihub/odata/v1/Products('69b38be8-a08b-4953-8239-928e82df684b')/$value\",\n",
       "                'Online': True,\n",
       "                'Creation Date': datetime.datetime(2020, 1, 1, 9, 8, 2, 349000),\n",
       "                'Ingestion Date': datetime.datetime(2020, 1, 1, 9, 7, 4, 982000),\n",
       "                'path': '/media/tweiss/Work/GIT/GitHub/multiply-org/sar-pre-processing/docs/notebooks/test_files/S1B_IW_SLC__1SDV_20200101T052539_20200101T052606_019619_025146_5770.zip',\n",
       "                'downloaded_bytes': 0})]),\n",
       " OrderedDict(),\n",
       " set())"
      ]
     },
     "execution_count": 6,
     "metadata": {},
     "output_type": "execute_result"
    }
   ],
   "source": [
    "import os\n",
    "path = \"/path/to/data/\"\n",
    "# download all results from the search\n",
    "# files will be downloaded in subolder \"test_files\" of current directory\n",
    "try:\n",
    "    os.makedirs(path)\n",
    "except: FileExistsError\n",
    "api.download_all(products, path)"
   ]
  },
  {
   "cell_type": "markdown",
   "metadata": {},
   "source": [
    "## 2. Use sar-pre-processing package to process Sentinel-1 SLC data"
   ]
  },
  {
   "cell_type": "markdown",
   "metadata": {},
   "source": [
    "Set paths for\n",
    "- input_folder (location with stored Sentinel-1 SLC data)\n",
    "- output_folder (location where processed data will be stored)\n",
    "- gpt_loction (location of ESA's SNAP toolbox installation, usually something like 'home/snap/bin/gpt' "
   ]
  },
  {
   "cell_type": "code",
   "execution_count": 7,
   "metadata": {},
   "outputs": [],
   "source": [
    "input_folder = path\n",
    "output_folder = path\n",
    "gpt_location = os.path.expanduser('~/snap/bin/gpt')"
   ]
  },
  {
   "cell_type": "markdown",
   "metadata": {},
   "source": [
    "Create config file with information about input, output and gpt loction"
   ]
  },
  {
   "cell_type": "code",
   "execution_count": 8,
   "metadata": {},
   "outputs": [],
   "source": [
    "import yaml\n",
    "\n",
    "with open('sample_config_file.yaml') as stream:\n",
    "   data = yaml.safe_load(stream)\n",
    "\n",
    "data['input_folder'] = input_folder\n",
    "data['output_folder'] = output_folder\n",
    "data['gpt'] = gpt_location\n",
    "\n",
    "with open('test_config_file.yaml', 'wb') as stream:\n",
    "   yaml.safe_dump(data, stream, default_flow_style=False, \n",
    "                  explicit_start=True, allow_unicode=True, encoding='utf-8')"
   ]
  },
  {
   "cell_type": "markdown",
   "metadata": {},
   "source": [
    "Start pre-processing steps"
   ]
  },
  {
   "cell_type": "code",
   "execution_count": 9,
   "metadata": {
    "scrolled": false
   },
   "outputs": [
    {
     "name": "stderr",
     "output_type": "stream",
     "text": [
      "INFO:root:Found files within input folder: 17\n",
      "INFO:root:Number of found files for year 2020: 16\n",
      "INFO:root:Number of found files containing area of interest: 16\n",
      "INFO:root:Number of found files that were double processed: 0.0\n",
      "INFO:root:Number of found files with border issues: 6\n",
      "INFO:root:normalisation angle not specified, default value of 35 is used for processing\n",
      "INFO:ComponentProgress:0\n",
      "INFO:ComponentProgress:0\n",
      "INFO:root:Process S1A_IW_SLC__1SDV_20200102T051811_20200102T051839_030617_038202_B1AD.zip with SNAP.\n"
     ]
    },
    {
     "name": "stdout",
     "output_type": "stream",
     "text": [
      "start step 1\n"
     ]
    },
    {
     "name": "stderr",
     "output_type": "stream",
     "text": [
      "INFO:root:0\n",
      "INFO:ComponentProgress:6\n",
      "INFO:ComponentProgress:6\n",
      "INFO:root:Process S1A_IW_SLC__1SDV_20200103T170725_20200103T170752_030639_0382D5_7345.zip with SNAP.\n",
      "INFO:root:0\n",
      "INFO:ComponentProgress:12\n",
      "INFO:ComponentProgress:12\n",
      "INFO:root:Process S1A_IW_SLC__1SDV_20200107T052619_20200107T052647_030690_038490_1F39.zip with SNAP.\n",
      "INFO:root:0\n",
      "INFO:ComponentProgress:18\n",
      "INFO:ComponentProgress:18\n",
      "INFO:root:Process S1A_IW_SLC__1SDV_20200114T051810_20200114T051838_030792_038823_B323.zip with SNAP.\n",
      "INFO:root:0\n",
      "INFO:ComponentProgress:25\n",
      "INFO:ComponentProgress:25\n",
      "INFO:root:Process S1A_IW_SLC__1SDV_20200115T170724_20200115T170751_030814_0388F3_901F.zip with SNAP.\n",
      "INFO:root:0\n",
      "INFO:ComponentProgress:31\n",
      "INFO:ComponentProgress:31\n",
      "INFO:root:Process S1A_IW_SLC__1SDV_20200119T052619_20200119T052647_030865_038AB8_A3E8.zip with SNAP.\n",
      "INFO:root:0\n",
      "INFO:ComponentProgress:37\n",
      "INFO:ComponentProgress:37\n",
      "INFO:root:Process S1B_IW_SLC__1SDV_20200101T052539_20200101T052606_019619_025146_5770.zip with SNAP.\n",
      "INFO:root:0\n",
      "INFO:ComponentProgress:43\n",
      "INFO:ComponentProgress:43\n",
      "INFO:root:Process S1B_IW_SLC__1SDV_20200108T051746_20200108T051813_019721_025492_422D.zip with SNAP.\n",
      "INFO:root:0\n",
      "INFO:ComponentProgress:50\n",
      "INFO:ComponentProgress:50\n",
      "INFO:root:Process S1B_IW_SLC__1SDV_20200109T170642_20200109T170709_019743_025539_BDD7.zip with SNAP.\n",
      "INFO:root:0\n",
      "INFO:ComponentProgress:56\n",
      "INFO:ComponentProgress:56\n",
      "INFO:root:Process S1B_IW_SLC__1SDV_20200113T052538_20200113T052605_019794_0256CD_CFF9.zip with SNAP.\n",
      "INFO:root:0\n",
      "INFO:ComponentProgress:62\n",
      "INFO:ComponentProgress:62\n",
      "INFO:root:Process S1A_IW_SLC__1SDV_20200110T165907_20200110T165934_030741_03864C_88B8.zip with SNAP.\n",
      "INFO:root:0\n",
      "INFO:ComponentProgress:68\n",
      "INFO:ComponentProgress:68\n",
      "INFO:root:Process S1B_IW_SLC__1SDV_20200104T165824_20200104T165852_019670_0252D8_3D51.zip with SNAP.\n",
      "INFO:root:0\n",
      "INFO:ComponentProgress:75\n",
      "INFO:ComponentProgress:75\n",
      "INFO:root:Process S1B_IW_SLC__1SDV_20200116T165823_20200116T165851_019845_025868_7734.zip with SNAP.\n",
      "INFO:root:0\n",
      "INFO:root:skip processing for /media/tweiss/Work/GIT/GitHub/multiply-org/sar-pre-processing/docs/notebooks/test_files/S1A_IW_SLC__1SDV_20200110T165932_20200110T170000_030741_03864C_E827.zip. File does not exist\n",
      "INFO:root:skip processing for /media/tweiss/Work/GIT/GitHub/multiply-org/sar-pre-processing/docs/notebooks/test_files/S1B_IW_SLC__1SDV_20200104T165849_20200104T165916_019670_0252D8_0278.zip. File does not exist\n",
      "INFO:root:skip processing for /media/tweiss/Work/GIT/GitHub/multiply-org/sar-pre-processing/docs/notebooks/test_files/S1B_IW_SLC__1SDV_20200116T165849_20200116T165916_019845_025868_C2F7.zip. File does not exist\n",
      "INFO:ComponentProgress:0\n",
      "INFO:ComponentProgress:0\n",
      "INFO:root:Scene 1 of 13\n",
      "INFO:root:Process S1A_IW_SLC__1SDV_20200102T051811_20200102T051839_030617_038202_B1AD_GC_RC_No_Su.dim with SNAP.\n"
     ]
    },
    {
     "name": "stdout",
     "output_type": "stream",
     "text": [
      "start step 2\n"
     ]
    },
    {
     "name": "stderr",
     "output_type": "stream",
     "text": [
      "INFO:root:0\n",
      "INFO:root:2020-09-17 14:29:02.089963\n",
      "INFO:ComponentProgress:7\n",
      "INFO:ComponentProgress:7\n",
      "INFO:root:Scene 2 of 13\n",
      "INFO:root:Process S1A_IW_SLC__1SDV_20200103T170725_20200103T170752_030639_0382D5_7345_GC_RC_No_Su.dim with SNAP.\n",
      "INFO:root:0\n",
      "INFO:root:2020-09-17 14:29:32.342669\n",
      "INFO:ComponentProgress:15\n",
      "INFO:ComponentProgress:15\n",
      "INFO:root:Scene 3 of 13\n",
      "INFO:root:Process S1A_IW_SLC__1SDV_20200107T052619_20200107T052647_030690_038490_1F39_GC_RC_No_Su.dim with SNAP.\n",
      "INFO:root:0\n",
      "INFO:root:2020-09-17 14:30:00.930290\n",
      "INFO:ComponentProgress:23\n",
      "INFO:ComponentProgress:23\n",
      "INFO:root:Scene 4 of 13\n",
      "INFO:root:Process S1A_IW_SLC__1SDV_20200110T165907_20200110T165934_030741_03864C_88B8_GC_RC_No_Su.dim with SNAP.\n",
      "INFO:root:0\n",
      "INFO:root:2020-09-17 14:30:25.071749\n",
      "INFO:ComponentProgress:30\n",
      "INFO:ComponentProgress:30\n",
      "INFO:root:Scene 5 of 13\n",
      "INFO:root:Process S1A_IW_SLC__1SDV_20200114T051810_20200114T051838_030792_038823_B323_GC_RC_No_Su.dim with SNAP.\n",
      "INFO:root:0\n",
      "INFO:root:2020-09-17 14:30:51.753518\n",
      "INFO:ComponentProgress:38\n",
      "INFO:ComponentProgress:38\n",
      "INFO:root:Scene 6 of 13\n",
      "INFO:root:Process S1A_IW_SLC__1SDV_20200115T170724_20200115T170751_030814_0388F3_901F_GC_RC_No_Su.dim with SNAP.\n",
      "INFO:root:0\n",
      "INFO:root:2020-09-17 14:31:21.487509\n",
      "INFO:ComponentProgress:46\n",
      "INFO:ComponentProgress:46\n",
      "INFO:root:Scene 7 of 13\n",
      "INFO:root:Process S1A_IW_SLC__1SDV_20200119T052619_20200119T052647_030865_038AB8_A3E8_GC_RC_No_Su.dim with SNAP.\n",
      "INFO:root:0\n",
      "INFO:root:2020-09-17 14:31:52.430366\n",
      "INFO:ComponentProgress:53\n",
      "INFO:ComponentProgress:53\n",
      "INFO:root:Scene 8 of 13\n",
      "INFO:root:Process S1B_IW_SLC__1SDV_20200101T052539_20200101T052606_019619_025146_5770_GC_RC_No_Su.dim with SNAP.\n",
      "INFO:root:0\n",
      "INFO:root:2020-09-17 14:32:22.789956\n",
      "INFO:ComponentProgress:61\n",
      "INFO:ComponentProgress:61\n",
      "INFO:root:Scene 9 of 13\n",
      "INFO:root:Process S1B_IW_SLC__1SDV_20200104T165824_20200104T165852_019670_0252D8_3D51_GC_RC_No_Su.dim with SNAP.\n",
      "INFO:root:0\n",
      "INFO:root:2020-09-17 14:32:47.072523\n",
      "INFO:ComponentProgress:69\n",
      "INFO:ComponentProgress:69\n",
      "INFO:root:Scene 10 of 13\n",
      "INFO:root:Process S1B_IW_SLC__1SDV_20200108T051746_20200108T051813_019721_025492_422D_GC_RC_No_Su.dim with SNAP.\n",
      "INFO:root:0\n",
      "INFO:root:2020-09-17 14:33:16.870619\n",
      "INFO:ComponentProgress:76\n",
      "INFO:ComponentProgress:76\n",
      "INFO:root:Scene 11 of 13\n",
      "INFO:root:Process S1B_IW_SLC__1SDV_20200109T170642_20200109T170709_019743_025539_BDD7_GC_RC_No_Su.dim with SNAP.\n",
      "INFO:root:0\n",
      "INFO:root:2020-09-17 14:33:44.272797\n",
      "INFO:ComponentProgress:84\n",
      "INFO:ComponentProgress:84\n",
      "INFO:root:Scene 12 of 13\n",
      "INFO:root:Process S1B_IW_SLC__1SDV_20200113T052538_20200113T052605_019794_0256CD_CFF9_GC_RC_No_Su.dim with SNAP.\n",
      "INFO:root:0\n",
      "INFO:root:2020-09-17 14:34:13.858756\n",
      "INFO:ComponentProgress:92\n",
      "INFO:ComponentProgress:92\n",
      "INFO:root:Scene 13 of 13\n",
      "INFO:root:Process S1B_IW_SLC__1SDV_20200116T165823_20200116T165851_019845_025868_7734_GC_RC_No_Su.dim with SNAP.\n",
      "INFO:root:0\n",
      "INFO:root:2020-09-17 14:34:42.333808\n",
      "INFO:root:skip processing for /media/tweiss/Work/GIT/GitHub/multiply-org/sar-pre-processing/docs/notebooks/test_files/S1A_IW_SLC__1SDV_20200110T165932_20200110T170000_030741_03864C_E827.zip. File /media/tweiss/Work/GIT/GitHub/multiply-org/sar-pre-processing/docs/notebooks/test_files/step2/S1A_IW_SLC__1SDV_20200110T165932_20200110T170000_030741_03864C_E827_GC_RC_No_Su_Co.dim does not exist.\n",
      "INFO:root:skip processing for /media/tweiss/Work/GIT/GitHub/multiply-org/sar-pre-processing/docs/notebooks/test_files/S1B_IW_SLC__1SDV_20200104T165849_20200104T165916_019670_0252D8_0278.zip. File /media/tweiss/Work/GIT/GitHub/multiply-org/sar-pre-processing/docs/notebooks/test_files/step2/S1B_IW_SLC__1SDV_20200104T165849_20200104T165916_019670_0252D8_0278_GC_RC_No_Su_Co.dim does not exist.\n",
      "INFO:root:skip processing for /media/tweiss/Work/GIT/GitHub/multiply-org/sar-pre-processing/docs/notebooks/test_files/S1B_IW_SLC__1SDV_20200116T165849_20200116T165916_019845_025868_C2F7.zip. File /media/tweiss/Work/GIT/GitHub/multiply-org/sar-pre-processing/docs/notebooks/test_files/step2/S1B_IW_SLC__1SDV_20200116T165849_20200116T165916_019845_025868_C2F7_GC_RC_No_Su_Co.dim does not exist.\n",
      "INFO:ComponentProgress:0\n",
      "INFO:ComponentProgress:0\n"
     ]
    },
    {
     "name": "stdout",
     "output_type": "stream",
     "text": [
      "start step 3\n"
     ]
    },
    {
     "name": "stderr",
     "output_type": "stream",
     "text": [
      "INFO:root:0\n",
      "INFO:root:2020-09-17 14:35:24.757437\n",
      "INFO:ComponentProgress:7\n",
      "INFO:ComponentProgress:7\n",
      "INFO:root:0\n",
      "INFO:root:2020-09-17 14:36:03.839267\n",
      "INFO:ComponentProgress:15\n",
      "INFO:ComponentProgress:15\n",
      "INFO:root:0\n",
      "INFO:root:2020-09-17 14:36:41.919061\n",
      "INFO:ComponentProgress:23\n",
      "INFO:ComponentProgress:23\n",
      "INFO:root:0\n",
      "INFO:root:2020-09-17 14:37:21.849890\n",
      "INFO:ComponentProgress:30\n",
      "INFO:ComponentProgress:30\n",
      "INFO:root:0\n",
      "INFO:root:2020-09-17 14:38:01.221499\n",
      "INFO:ComponentProgress:38\n",
      "INFO:ComponentProgress:38\n",
      "INFO:root:0\n",
      "INFO:root:2020-09-17 14:38:41.286978\n",
      "INFO:ComponentProgress:46\n",
      "INFO:ComponentProgress:46\n",
      "INFO:root:0\n",
      "INFO:root:2020-09-17 14:39:20.418211\n",
      "INFO:ComponentProgress:53\n",
      "INFO:ComponentProgress:53\n",
      "INFO:root:0\n",
      "INFO:root:2020-09-17 14:39:59.634807\n",
      "INFO:ComponentProgress:61\n",
      "INFO:ComponentProgress:61\n",
      "INFO:root:0\n",
      "INFO:root:2020-09-17 14:40:39.203856\n",
      "INFO:ComponentProgress:69\n",
      "INFO:ComponentProgress:69\n",
      "INFO:root:0\n",
      "INFO:root:2020-09-17 14:41:18.681712\n",
      "INFO:ComponentProgress:76\n",
      "INFO:ComponentProgress:76\n",
      "INFO:root:0\n",
      "INFO:root:2020-09-17 14:41:58.512206\n",
      "INFO:ComponentProgress:84\n",
      "INFO:ComponentProgress:84\n",
      "INFO:root:0\n",
      "INFO:root:2020-09-17 14:42:38.008264\n",
      "INFO:ComponentProgress:92\n",
      "INFO:ComponentProgress:92\n",
      "INFO:root:0\n",
      "INFO:root:2020-09-17 14:43:16.419577\n"
     ]
    },
    {
     "name": "stdout",
     "output_type": "stream",
     "text": [
      "start solve projection problem\n",
      "start add netcdf information\n"
     ]
    },
    {
     "name": "stderr",
     "output_type": "stream",
     "text": [
      "INFO:root:Number of scenes found for processing: 13\n"
     ]
    },
    {
     "name": "stdout",
     "output_type": "stream",
     "text": [
      "start create netcdf stack\n",
      "\n",
      "Scene 1 of 13\n",
      "/media/tweiss/Work/GIT/GitHub/multiply-org/sar-pre-processing/docs/notebooks/test_files/step3/S1B_IW_SLC__1SDV_20200101T052539_20200101T052606_019619_025146_5770_GC_RC_No_Su_Co_speckle.nc\n",
      "\n",
      "Scene 2 of 13\n",
      "/media/tweiss/Work/GIT/GitHub/multiply-org/sar-pre-processing/docs/notebooks/test_files/step3/S1A_IW_SLC__1SDV_20200102T051811_20200102T051839_030617_038202_B1AD_GC_RC_No_Su_Co_speckle.nc\n",
      "\n",
      "Scene 3 of 13\n",
      "/media/tweiss/Work/GIT/GitHub/multiply-org/sar-pre-processing/docs/notebooks/test_files/step3/S1A_IW_SLC__1SDV_20200103T170725_20200103T170752_030639_0382D5_7345_GC_RC_No_Su_Co_speckle.nc\n",
      "\n",
      "Scene 4 of 13\n",
      "/media/tweiss/Work/GIT/GitHub/multiply-org/sar-pre-processing/docs/notebooks/test_files/step3/S1B_IW_SLC__1SDV_20200104T165824_20200104T165852_019670_0252D8_3D51_GC_RC_No_Su_Co_speckle.nc\n",
      "\n",
      "Scene 5 of 13\n",
      "/media/tweiss/Work/GIT/GitHub/multiply-org/sar-pre-processing/docs/notebooks/test_files/step3/S1A_IW_SLC__1SDV_20200107T052619_20200107T052647_030690_038490_1F39_GC_RC_No_Su_Co_speckle.nc\n",
      "\n",
      "Scene 6 of 13\n",
      "/media/tweiss/Work/GIT/GitHub/multiply-org/sar-pre-processing/docs/notebooks/test_files/step3/S1B_IW_SLC__1SDV_20200108T051746_20200108T051813_019721_025492_422D_GC_RC_No_Su_Co_speckle.nc\n",
      "\n",
      "Scene 7 of 13\n",
      "/media/tweiss/Work/GIT/GitHub/multiply-org/sar-pre-processing/docs/notebooks/test_files/step3/S1B_IW_SLC__1SDV_20200109T170642_20200109T170709_019743_025539_BDD7_GC_RC_No_Su_Co_speckle.nc\n",
      "\n",
      "Scene 8 of 13\n",
      "/media/tweiss/Work/GIT/GitHub/multiply-org/sar-pre-processing/docs/notebooks/test_files/step3/S1A_IW_SLC__1SDV_20200110T165907_20200110T165934_030741_03864C_88B8_GC_RC_No_Su_Co_speckle.nc\n",
      "\n",
      "Scene 9 of 13\n",
      "/media/tweiss/Work/GIT/GitHub/multiply-org/sar-pre-processing/docs/notebooks/test_files/step3/S1B_IW_SLC__1SDV_20200113T052538_20200113T052605_019794_0256CD_CFF9_GC_RC_No_Su_Co_speckle.nc\n",
      "\n",
      "Scene 10 of 13\n",
      "/media/tweiss/Work/GIT/GitHub/multiply-org/sar-pre-processing/docs/notebooks/test_files/step3/S1A_IW_SLC__1SDV_20200114T051810_20200114T051838_030792_038823_B323_GC_RC_No_Su_Co_speckle.nc\n",
      "\n",
      "Scene 11 of 13\n",
      "/media/tweiss/Work/GIT/GitHub/multiply-org/sar-pre-processing/docs/notebooks/test_files/step3/S1A_IW_SLC__1SDV_20200115T170724_20200115T170751_030814_0388F3_901F_GC_RC_No_Su_Co_speckle.nc\n",
      "\n",
      "Scene 12 of 13\n",
      "/media/tweiss/Work/GIT/GitHub/multiply-org/sar-pre-processing/docs/notebooks/test_files/step3/S1B_IW_SLC__1SDV_20200116T165823_20200116T165851_019845_025868_7734_GC_RC_No_Su_Co_speckle.nc\n",
      "\n",
      "Scene 13 of 13\n",
      "/media/tweiss/Work/GIT/GitHub/multiply-org/sar-pre-processing/docs/notebooks/test_files/step3/S1A_IW_SLC__1SDV_20200119T052619_20200119T052647_030865_038AB8_A3E8_GC_RC_No_Su_Co_speckle.nc\n"
     ]
    }
   ],
   "source": [
    "from sar_pre_processing.sar_pre_processor import *\n",
    "import warnings\n",
    "warnings.filterwarnings(\"ignore\")\n",
    "\n",
    "processing = SARPreProcessor(config='test_config_file.yaml')\n",
    "processing.create_processing_file_list()\n",
    "print('start step 1')\n",
    "processing.pre_process_step1()\n",
    "print('start step 2')\n",
    "processing.pre_process_step2()\n",
    "print('start step 3')\n",
    "processing.pre_process_step3()\n",
    "print('start solve projection problem')\n",
    "processing.solve_projection_problem()\n",
    "print('start add netcdf information')\n",
    "processing.add_netcdf_information()\n",
    "print('start create netcdf stack')\n",
    "processing.create_netcdf_stack()"
   ]
  },
  {
   "cell_type": "markdown",
   "metadata": {},
   "source": [
    "## 3. View processed data"
   ]
  },
  {
   "cell_type": "markdown",
   "metadata": {},
   "source": [
    "Load netcdf file with processed data"
   ]
  },
  {
   "cell_type": "code",
   "execution_count": 10,
   "metadata": {},
   "outputs": [
    {
     "name": "stdout",
     "output_type": "stream",
     "text": [
      "/media/tweiss/Work/GIT/GitHub/multiply-org/sar-pre-processing/docs/notebooks\n",
      "/media/tweiss/Work/GIT/GitHub/multiply-org/sar-pre-processing/docs/notebooks/test_files\n"
     ]
    }
   ],
   "source": [
    "import os\n",
    "print(os.getcwd())\n",
    "print(output_folder)"
   ]
  },
  {
   "cell_type": "code",
   "execution_count": 11,
   "metadata": {},
   "outputs": [
    {
     "name": "stdout",
     "output_type": "stream",
     "text": [
      "Requirement already satisfied: netCDF4 in /home/tweiss/anaconda3/envs/sarpre/lib/python3.6/site-packages/netCDF4-1.5.4-py3.6-linux-x86_64.egg (1.5.4)\r\n",
      "Requirement already satisfied: cftime in /home/tweiss/anaconda3/envs/sarpre/lib/python3.6/site-packages/cftime-1.2.1-py3.6-linux-x86_64.egg (from netCDF4) (1.2.1)\r\n",
      "Requirement already satisfied: numpy>=1.9 in /home/tweiss/.local/lib/python3.6/site-packages (from netCDF4) (1.19.2)\r\n"
     ]
    }
   ],
   "source": [
    "! pip install netCDF4 --user\n",
    "from netCDF4 import Dataset\n",
    "import numpy as np\n",
    "\n",
    "my_example_nc_file = output_folder + '/test_files.nc'\n",
    "data = Dataset(my_example_nc_file, mode='r')"
   ]
  },
  {
   "cell_type": "markdown",
   "metadata": {},
   "source": [
    "View information about dataset"
   ]
  },
  {
   "cell_type": "code",
   "execution_count": 12,
   "metadata": {},
   "outputs": [
    {
     "data": {
      "text/plain": [
       "<class 'netCDF4._netCDF4.Dataset'>\n",
       "root group (NETCDF4 data model, file format HDF5):\n",
       "    dimensions(sizes): lat(2404), lon(2404), time(13)\n",
       "    variables(dimensions): float32 time(time), float32 orbitdirection(time), float32 relorbit(time), float32 satellite(time), float32 lat(lat), float32 lon(lon), float32 localIncidenceAngle(time, lat, lon), float32 sigma0_vv_multi(time, lat, lon), float32 sigma0_vh_multi(time, lat, lon), float32 sigma0_vv_norm_multi(time, lat, lon), float32 sigma0_vh_norm_multi(time, lat, lon)\n",
       "    groups: "
      ]
     },
     "execution_count": 12,
     "metadata": {},
     "output_type": "execute_result"
    }
   ],
   "source": [
    "data"
   ]
  },
  {
   "cell_type": "markdown",
   "metadata": {},
   "source": [
    "Read data from netcdf file"
   ]
  },
  {
   "cell_type": "code",
   "execution_count": 13,
   "metadata": {},
   "outputs": [],
   "source": [
    "data.variables['orbitdirection'][:]\n",
    "data.variables['time'][:]\n",
    "lons = data.variables['lon'][:]\n",
    "lats = data.variables['lat'][:]\n",
    "vv = data.variables['sigma0_vv_multi'][:]\n",
    "\n",
    "vv_units = data.variables['sigma0_vv_multi'].units"
   ]
  },
  {
   "cell_type": "markdown",
   "metadata": {},
   "source": [
    "Close netcdf file"
   ]
  },
  {
   "cell_type": "code",
   "execution_count": 14,
   "metadata": {},
   "outputs": [],
   "source": [
    "data.close()"
   ]
  },
  {
   "cell_type": "markdown",
   "metadata": {},
   "source": [
    "Plot vv polorized data"
   ]
  },
  {
   "cell_type": "code",
   "execution_count": 15,
   "metadata": {},
   "outputs": [
    {
     "name": "stdout",
     "output_type": "stream",
     "text": [
      "Requirement already satisfied: matplotlib in /home/tweiss/.local/lib/python3.6/site-packages (3.3.2)\r\n",
      "Requirement already satisfied: numpy>=1.15 in /home/tweiss/.local/lib/python3.6/site-packages (from matplotlib) (1.19.2)\r\n",
      "Requirement already satisfied: python-dateutil>=2.1 in /home/tweiss/anaconda3/envs/sarpre/lib/python3.6/site-packages (from matplotlib) (2.8.1)\r\n",
      "Requirement already satisfied: certifi>=2020.06.20 in /home/tweiss/anaconda3/envs/sarpre/lib/python3.6/site-packages (from matplotlib) (2020.6.20)\r\n",
      "Requirement already satisfied: pillow>=6.2.0 in /home/tweiss/anaconda3/envs/sarpre/lib/python3.6/site-packages (from matplotlib) (7.2.0)\r\n",
      "Requirement already satisfied: cycler>=0.10 in /home/tweiss/.local/lib/python3.6/site-packages (from matplotlib) (0.10.0)\r\n",
      "Requirement already satisfied: pyparsing!=2.0.4,!=2.1.2,!=2.1.6,>=2.0.3 in /home/tweiss/anaconda3/envs/sarpre/lib/python3.6/site-packages (from matplotlib) (2.4.7)\r\n",
      "Requirement already satisfied: kiwisolver>=1.0.1 in /home/tweiss/.local/lib/python3.6/site-packages (from matplotlib) (1.2.0)\r\n",
      "Requirement already satisfied: six>=1.5 in /home/tweiss/anaconda3/envs/sarpre/lib/python3.6/site-packages (from python-dateutil>=2.1->matplotlib) (1.15.0)\r\n"
     ]
    },
    {
     "data": {
      "application/vnd.jupyter.widget-view+json": {
       "model_id": "72e35bf550bf4708ad31543d3e2fa22f",
       "version_major": 2,
       "version_minor": 0
      },
      "text/plain": [
       "interactive(children=(IntSlider(value=6, description='x', max=12), Output()), _dom_classes=('widget-interact',…"
      ]
     },
     "metadata": {},
     "output_type": "display_data"
    }
   ],
   "source": [
    "! pip install matplotlib --user\n",
    "%matplotlib inline\n",
    "from ipywidgets import interactive\n",
    "import matplotlib.pyplot as plt\n",
    "import numpy as np\n",
    "\n",
    "def f(x):\n",
    "    # Problem: border pixel might be zero or negative\n",
    "    # pixel eqal or smaller than zero are set to nan\n",
    "    array = np.copy(vv[x])\n",
    "    array[array <= 0] = np.nan\n",
    "    # plot backscatter data in dB scale\n",
    "    plt.imshow(10*np.log10(array))\n",
    "    cbar = plt.colorbar()\n",
    "    cbar.set_label('dB')\n",
    "    plt.clim(-25, 0)\n",
    "\n",
    "interactive_plot = interactive(f, x=(0,len(vv)-1))\n",
    "interactive_plot"
   ]
  },
  {
   "cell_type": "code",
   "execution_count": null,
   "metadata": {},
   "outputs": [],
   "source": []
  }
 ],
 "metadata": {
  "kernelspec": {
   "display_name": "sarpre",
   "language": "python",
   "name": "sarpre"
  },
  "language_info": {
   "codemirror_mode": {
    "name": "ipython",
    "version": 3
   },
   "file_extension": ".py",
   "mimetype": "text/x-python",
   "name": "python",
   "nbconvert_exporter": "python",
   "pygments_lexer": "ipython3",
   "version": "3.6.12"
  }
 },
 "nbformat": 4,
 "nbformat_minor": 2
}
