{
 "cells": [
  {
   "cell_type": "markdown",
   "metadata": {},
   "source": [
    "# Example 2: Use default processing graphs to pre-process a time series of Sentinel-1 Level-1 SLC images"
   ]
  },
  {
   "cell_type": "markdown",
   "metadata": {},
   "source": [
    "## 1. Requirements\n",
    "\n",
    "- Installation of SenSARP\n",
    "- Installation of ESA's SNAP Toolbox version >8.0.3\n",
    "    - Currently only SNAP version 8.0 can be downloaded from the ESA website (https://step.esa.int/main/download/snap-download/). To update SNAP to a version >8.0.3 please start the SNAP software. You will be asked if you want to search for update. After the updates are installed you need to restart SNAP to initialize the installed updates.\n",
    "    - SNAP Toolbox need libgfortran for specific operations but currently libgfortran is not installed during the installation process of SNAP therefore you might use ```sudo apt-get install gfortran```\n",
    "\n",
    "- Sentinel-1 SLC data\n",
    "    - Instruction how to download Sentinel 1 data are given in Section 2"
   ]
  },
  {
   "cell_type": "markdown",
   "metadata": {},
   "source": [
    "## 2. Download sample data from Sentinel Data Hub\n",
    "### Option 1: Download data from Sentinel Data Hub manually or via python package sentinelsat"
   ]
  },
  {
   "cell_type": "markdown",
   "metadata": {},
   "source": [
    " <span style=\"color:red\">Create Account (https://scihub.copernicus.eu/dhus/#/self-registration)</span>. (**<span style=\"color:red\">Attention: Problem by using Copernicus Open Access Hub might be that older data is offline and need to be triggered first</span>)**. More information can be found at https://scihub.copernicus.eu/userguide/DataRestoration. Instruction to manually download data from Copernicus Open Access Hub can be found at https://blogs.fu-berlin.de/reseda/esa-scihub/. You can also try to download the data via python package sentinelsat"
   ]
  },
  {
   "cell_type": "markdown",
   "metadata": {},
   "source": [
    "### How to use sentinelsat"
   ]
  },
  {
   "cell_type": "code",
   "execution_count": 1,
   "metadata": {},
   "outputs": [],
   "source": [
    "# connect to the API\n",
    "from sentinelsat import SentinelAPI, read_geojson, geojson_to_wkt\n",
    "from datetime import date\n",
    "user = 'user'\n",
    "password = 'password'\n",
    "# initialize settings\n",
    "api = SentinelAPI(user, password)"
   ]
  },
  {
   "cell_type": "markdown",
   "metadata": {},
   "source": [
    "Search for available data"
   ]
  },
  {
   "cell_type": "code",
   "execution_count": 2,
   "metadata": {},
   "outputs": [
    {
     "name": "stdout",
     "output_type": "stream",
     "text": [
      "Following products will be downloaded\n",
      "['S1A_IW_SLC__1SDH_20210109T170737_20210109T170801_036064_043A0F_7B82'\n",
      " 'S1A_IW_SLC__1SDV_20210108T051816_20210108T051844_036042_04393F_F99A'\n",
      " 'S1B_IW_SLC__1SDV_20210107T052547_20210107T052614_025044_02FB1E_E0E4'\n",
      " 'S1A_IW_SLC__1SDV_20210104T165938_20210104T170006_035991_043767_329F'\n",
      " 'S1A_IW_SLC__1SDV_20210104T165913_20210104T165940_035991_043767_A0D0'\n",
      " 'S1B_IW_SLC__1SDV_20210103T170648_20210103T170715_024993_02F97C_C72A'\n",
      " 'S1B_IW_SLC__1SDV_20210102T051747_20210102T051814_024971_02F8D2_6318'\n",
      " 'S1A_IW_SLC__1SDV_20210101T052626_20210101T052654_035940_0435A9_E0CB']\n",
      "These 8 product need 59.76 Gb of disk space\n"
     ]
    }
   ],
   "source": [
    "# search by polygon (MNI test site coordinates), time, and SciHub query keywords\n",
    "footprint = geojson_to_wkt(read_geojson('coordinates_mni.geojson'))\n",
    "products = api.query(footprint,\n",
    "                     date=('20210101', '20210110'),\n",
    "                     platformname='Sentinel-1',\n",
    "                     producttype='SLC')\n",
    "print('Following products will be downloaded')\n",
    "print(api.to_dataframe(products).title.values)\n",
    "\n",
    "print('These {} product need {} Gb of disk space'.format(len(products), api.get_products_size(products)))"
   ]
  },
  {
   "cell_type": "markdown",
   "metadata": {},
   "source": [
    "Start download process (**<span style=\"color:red\">Attention: might take a while and data will requries some free disk space</span>)**"
   ]
  },
  {
   "cell_type": "code",
   "execution_count": 3,
   "metadata": {},
   "outputs": [
    {
     "data": {
      "application/json": {
       "ascii": false,
       "bar_format": null,
       "colour": null,
       "elapsed": 0.05907011032104492,
       "initial": 0,
       "n": 0,
       "ncols": null,
       "nrows": 55,
       "postfix": null,
       "prefix": "Downloading products",
       "rate": null,
       "total": 0,
       "unit": "product",
       "unit_divisor": 1000,
       "unit_scale": false
      },
      "application/vnd.jupyter.widget-view+json": {
       "model_id": "18eb780254554022bd6f0f453f8d5512",
       "version_major": 2,
       "version_minor": 0
      },
      "text/plain": [
       "Downloading products: 0product [00:00, ?product/s]"
      ]
     },
     "metadata": {},
     "output_type": "display_data"
    },
    {
     "data": {
      "text/plain": [
       "ResultTuple(downloaded={'4c653f3d-2df7-4a76-ac3a-01abedbc0232': {'id': '4c653f3d-2df7-4a76-ac3a-01abedbc0232', 'title': 'S1B_IW_SLC__1SDV_20210107T052547_20210107T052614_025044_02FB1E_E0E4', 'size': 4498240977, 'md5': '893B94C6E001FE655099F218950A5109', 'date': datetime.datetime(2021, 1, 7, 5, 25, 47, 737000), 'footprint': 'POLYGON((12.658003 47.727371,9.287686 48.122635,9.664155 49.737373,13.147094 49.340591,12.658003 47.727371))', 'url': \"https://apihub.copernicus.eu/apihub/odata/v1/Products('4c653f3d-2df7-4a76-ac3a-01abedbc0232')/$value\", 'Online': True, 'Creation Date': datetime.datetime(2021, 1, 7, 10, 45, 2, 244000), 'Ingestion Date': datetime.datetime(2021, 1, 7, 10, 38, 7, 194000), 'quicklook_url': \"https://apihub.copernicus.eu/apihub/odata/v1/Products('4c653f3d-2df7-4a76-ac3a-01abedbc0232')/Products('Quicklook')/$value\", 'path': '/home/test/Desktop/data2/S1B_IW_SLC__1SDV_20210107T052547_20210107T052614_025044_02FB1E_E0E4.zip'}, '5ade5549-a789-45c3-8272-c1dd61295340': {'id': '5ade5549-a789-45c3-8272-c1dd61295340', 'title': 'S1A_IW_SLC__1SDV_20210104T165913_20210104T165940_035991_043767_A0D0', 'size': 4439128243, 'md5': 'DFB54E48755274374CE427CB0341C866', 'date': datetime.datetime(2021, 1, 4, 16, 59, 13, 974000), 'footprint': 'POLYGON((11.140376 48.259541,14.598722 48.660851,14.967645 47.044518,11.617335 46.644329,11.140376 48.259541))', 'url': \"https://apihub.copernicus.eu/apihub/odata/v1/Products('5ade5549-a789-45c3-8272-c1dd61295340')/$value\", 'Online': True, 'Creation Date': datetime.datetime(2021, 1, 4, 22, 27, 41, 952000), 'Ingestion Date': datetime.datetime(2021, 1, 4, 22, 17, 8, 141000), 'quicklook_url': \"https://apihub.copernicus.eu/apihub/odata/v1/Products('5ade5549-a789-45c3-8272-c1dd61295340')/Products('Quicklook')/$value\", 'path': '/home/test/Desktop/data2/S1A_IW_SLC__1SDV_20210104T165913_20210104T165940_035991_043767_A0D0.zip'}, '7dae304e-a8ad-4e8e-900e-fa98a79b89eb': {'id': '7dae304e-a8ad-4e8e-900e-fa98a79b89eb', 'title': 'S1B_IW_SLC__1SDV_20210102T051747_20210102T051814_024971_02F8D2_6318', 'size': 4399102981, 'md5': '52FF677638B5831E8C0FC0DB9D750CD3', 'date': datetime.datetime(2021, 1, 2, 5, 17, 47, 426000), 'footprint': 'POLYGON((14.519586 46.940491,11.161615 47.340321,11.533187 48.955601,15.000459 48.554497,14.519586 46.940491))', 'url': \"https://apihub.copernicus.eu/apihub/odata/v1/Products('7dae304e-a8ad-4e8e-900e-fa98a79b89eb')/$value\", 'Online': True, 'Creation Date': datetime.datetime(2021, 1, 2, 10, 47, 11, 479000), 'Ingestion Date': datetime.datetime(2021, 1, 2, 10, 37, 23, 997000), 'quicklook_url': \"https://apihub.copernicus.eu/apihub/odata/v1/Products('7dae304e-a8ad-4e8e-900e-fa98a79b89eb')/Products('Quicklook')/$value\", 'path': '/home/test/Desktop/data2/S1B_IW_SLC__1SDV_20210102T051747_20210102T051814_024971_02F8D2_6318.zip'}, 'e31a15e5-8afd-4b30-b2fd-49f597afa11e': {'id': 'e31a15e5-8afd-4b30-b2fd-49f597afa11e', 'title': 'S1A_IW_SLC__1SDV_20210104T165938_20210104T170006_035991_043767_329F', 'size': 4659709650, 'md5': '46E3C2CE59AC05DB6E215820ACD82C0A', 'date': datetime.datetime(2021, 1, 4, 16, 59, 38, 805000), 'footprint': 'POLYGON((10.656260 49.801006,14.231164 50.204681,14.622996 48.531536,11.169555 48.129627,10.656260 49.801006))', 'url': \"https://apihub.copernicus.eu/apihub/odata/v1/Products('e31a15e5-8afd-4b30-b2fd-49f597afa11e')/$value\", 'Online': True, 'Creation Date': datetime.datetime(2021, 1, 4, 22, 28, 3, 971000), 'Ingestion Date': datetime.datetime(2021, 1, 4, 22, 19, 22, 84000), 'quicklook_url': \"https://apihub.copernicus.eu/apihub/odata/v1/Products('e31a15e5-8afd-4b30-b2fd-49f597afa11e')/Products('Quicklook')/$value\", 'path': '/home/test/Desktop/data2/S1A_IW_SLC__1SDV_20210104T165938_20210104T170006_035991_043767_329F.zip'}, '54a817cb-b645-448b-a598-068958f2a171': {'id': '54a817cb-b645-448b-a598-068958f2a171', 'title': 'S1A_IW_SLC__1SDH_20210109T170737_20210109T170801_036064_043A0F_7B82', 'size': 3925308654, 'md5': 'E743484DE97E7A4EEF285CB693F7935B', 'date': datetime.datetime(2021, 1, 9, 17, 7, 37, 339000), 'footprint': 'POLYGON((9.006702 48.697426,12.387697 49.086720,12.724391 47.630302,9.440323 47.242146,9.006702 48.697426))', 'url': \"https://apihub.copernicus.eu/apihub/odata/v1/Products('54a817cb-b645-448b-a598-068958f2a171')/$value\", 'Online': True, 'Creation Date': datetime.datetime(2021, 1, 9, 20, 29, 15, 56000), 'Ingestion Date': datetime.datetime(2021, 1, 9, 20, 21, 26, 820000), 'quicklook_url': \"https://apihub.copernicus.eu/apihub/odata/v1/Products('54a817cb-b645-448b-a598-068958f2a171')/Products('Quicklook')/$value\", 'path': '/home/test/Desktop/data2/S1A_IW_SLC__1SDH_20210109T170737_20210109T170801_036064_043A0F_7B82.zip'}, '1a87273a-c734-425b-830e-896e21ca5e3f': {'id': '1a87273a-c734-425b-830e-896e21ca5e3f', 'title': 'S1A_IW_SLC__1SDV_20210101T052626_20210101T052654_035940_0435A9_E0CB', 'size': 17219122, 'md5': 'ebfe73e427e48ad3c1f40a95bc0370bf', 'date': datetime.datetime(2021, 1, 1, 5, 26, 26, 296000), 'footprint': 'POLYGON((12.719488 47.890697,9.286510 48.291698,9.676212 49.963432,13.228822 49.560780,12.719488 47.890697))', 'url': \"https://apihub.copernicus.eu/apihub/odata/v1/Products('1a87273a-c734-425b-830e-896e21ca5e3f')/$value\", 'Online': True, 'Creation Date': datetime.datetime(2021, 1, 1, 12, 40, 52, 577000), 'Ingestion Date': datetime.datetime(2021, 1, 1, 12, 34, 21, 794000), 'quicklook_url': \"https://apihub.copernicus.eu/apihub/odata/v1/Products('1a87273a-c734-425b-830e-896e21ca5e3f')/Products('Quicklook')/$value\", 'path': '/home/test/Desktop/data2/S1A_IW_SLC__1SDV_20210101T052626_20210101T052654_035940_0435A9_E0CB.zip'}, '90374b2c-2652-4f1f-9aac-a0f78a20d709': {'id': '90374b2c-2652-4f1f-9aac-a0f78a20d709', 'title': 'S1B_IW_SLC__1SDV_20210103T170648_20210103T170715_024993_02F97C_C72A', 'size': 4443553212, 'md5': '1D317F058BB12F77D5BA8D7726BC64AD', 'date': datetime.datetime(2021, 1, 3, 17, 6, 48, 433000), 'footprint': 'POLYGON((9.056401 48.412270,12.493703 48.809959,12.863692 47.194550,9.534239 46.798016,9.056401 48.412270))', 'url': \"https://apihub.copernicus.eu/apihub/odata/v1/Products('90374b2c-2652-4f1f-9aac-a0f78a20d709')/$value\", 'Online': True, 'Creation Date': datetime.datetime(2021, 1, 3, 23, 51, 9, 191000), 'Ingestion Date': datetime.datetime(2021, 1, 3, 23, 46, 19, 557000), 'quicklook_url': \"https://apihub.copernicus.eu/apihub/odata/v1/Products('90374b2c-2652-4f1f-9aac-a0f78a20d709')/Products('Quicklook')/$value\", 'path': '/home/test/Desktop/data2/S1B_IW_SLC__1SDV_20210103T170648_20210103T170715_024993_02F97C_C72A.zip'}, '7d25d35e-9ef6-4747-8eb1-9ed58d97802f': {'id': '7d25d35e-9ef6-4747-8eb1-9ed58d97802f', 'title': 'S1A_IW_SLC__1SDV_20210108T051816_20210108T051844_036042_04393F_F99A', 'size': 4632353415, 'md5': '58C27C2A2887B28B4E0449549E225B60', 'date': datetime.datetime(2021, 1, 8, 5, 18, 16, 929000), 'footprint': 'POLYGON((14.706059 47.602047,11.280238 48.004539,11.668169 49.676556,15.212226 49.272507,14.706059 47.602047))', 'url': \"https://apihub.copernicus.eu/apihub/odata/v1/Products('7d25d35e-9ef6-4747-8eb1-9ed58d97802f')/$value\", 'Online': True, 'Creation Date': datetime.datetime(2021, 1, 8, 11, 10, 4, 606000), 'Ingestion Date': datetime.datetime(2021, 1, 8, 11, 3, 54, 273000), 'quicklook_url': \"https://apihub.copernicus.eu/apihub/odata/v1/Products('7d25d35e-9ef6-4747-8eb1-9ed58d97802f')/Products('Quicklook')/$value\", 'path': '/home/test/Desktop/data2/S1A_IW_SLC__1SDV_20210108T051816_20210108T051844_036042_04393F_F99A.zip'}}, retrieval_triggered={}, failed={})"
      ]
     },
     "execution_count": 3,
     "metadata": {},
     "output_type": "execute_result"
    }
   ],
   "source": [
    "# download all results from the search\n",
    "# files will be downloaded to specified path\n",
    "import os\n",
    "path = os.path.expanduser('~/Desktop/data2')\n",
    "try:\n",
    "    os.makedirs(path)\n",
    "except: FileExistsError\n",
    "api.download_all(products, path)"
   ]
  },
  {
   "cell_type": "markdown",
   "metadata": {},
   "source": [
    "### Option 2: Manually search and download data from Alaska Satellite Facility (ASF)"
   ]
  },
  {
   "cell_type": "markdown",
   "metadata": {},
   "source": [
    "You can search for Sentinel-1 data at https://search.asf.alaska.edu/. A NASA EOSDIS Earthdata Login account is required for downloading data and tools from ASF. Registering for an Earthdata Login account is free (https://urs.earthdata.nasa.gov/home). Instructions how to download data from ASF can be found at https://asf.alaska.edu/wp-content/uploads/2019/02/asf_datarecipe_bulk_download_from_vertex_python_script_v1.pdf."
   ]
  },
  {
   "cell_type": "markdown",
   "metadata": {},
   "source": [
    "## 3. Use default processing graph to pre-process a time series of Sentinel-1 Level-1 SLC images"
   ]
  },
  {
   "cell_type": "markdown",
   "metadata": {},
   "source": [
    "Set paths for\n",
    "\n",
    "- input_folder (path to stored Sentinel-1 SLC data (zip files) e.g. \"~/Downloads\")\n",
    "- output_folder (path where processed data will be stored e.g. \"~/output\")\n",
    "- gpt_loction (gpt is located in the bin folder of your SNAP installation)' "
   ]
  },
  {
   "cell_type": "code",
   "execution_count": 4,
   "metadata": {},
   "outputs": [],
   "source": [
    "input_folder = path\n",
    "output_folder = path\n",
    "gpt_location = os.path.expanduser('~/snap/bin/gpt')"
   ]
  },
  {
   "cell_type": "markdown",
   "metadata": {},
   "source": [
    "Create config file with information about input, output and gpt location"
   ]
  },
  {
   "cell_type": "code",
   "execution_count": 5,
   "metadata": {},
   "outputs": [],
   "source": [
    "import yaml\n",
    "\n",
    "with open('sample_config_file.yaml') as stream:\n",
    "   data = yaml.safe_load(stream)\n",
    "\n",
    "data['input_folder'] = input_folder\n",
    "data['output_folder'] = output_folder\n",
    "data['gpt'] = gpt_location\n",
    "\n",
    "with open('test_config_file.yaml', 'wb') as stream:\n",
    "   yaml.safe_dump(data, stream, default_flow_style=False, \n",
    "                  explicit_start=True, allow_unicode=True, encoding='utf-8')"
   ]
  },
  {
   "cell_type": "markdown",
   "metadata": {},
   "source": [
    "Set optional config options"
   ]
  },
  {
   "cell_type": "code",
   "execution_count": 6,
   "metadata": {},
   "outputs": [],
   "source": [
    "with open('test_config_file.yaml') as stream:\n",
    "   data = yaml.safe_load(stream)\n",
    "\n",
    "# Filter option\n",
    "## Filter via year of interes\n",
    "data['year'] = '2021'\n",
    "\n",
    "## Define region of interest\n",
    "data['region']['lr']['lat'] = 48.2 # lower right latitude\n",
    "data['region']['lr']['lon'] = 11.9 # lower right longitude\n",
    "data['region']['ul']['lat'] = 48.4 # upper left latitude\n",
    "data['region']['ul']['lon'] = 11.6 # upper left longitude\n",
    "data['region']['subset'] = 'yes'\n",
    "\n",
    "## Define multi-temporal filtering properties\n",
    "data['speckle_filter']['multi_temporal']['apply'] = 'yes'\n",
    "data['speckle_filter']['multi_temporal']['files'] = '5' # Number of files used for multi temporal filtering\n",
    "\n",
    "## Define incidence angle for normalization\n",
    "data['normalization_angle'] = '35'\n",
    "\n",
    "with open('test_config_file.yaml', 'wb') as stream:\n",
    "   yaml.safe_dump(data, stream, default_flow_style=False, \n",
    "                  explicit_start=True, allow_unicode=True, encoding='utf-8')"
   ]
  },
  {
   "cell_type": "markdown",
   "metadata": {},
   "source": [
    "Start pre-processing steps"
   ]
  },
  {
   "cell_type": "code",
   "execution_count": 7,
   "metadata": {
    "scrolled": false
   },
   "outputs": [
    {
     "name": "stderr",
     "output_type": "stream",
     "text": [
      "INFO:root:Found files within input folder: 10\n",
      "INFO:root:Number of found files for year 2021: 10\n",
      "INFO:root:area of interest not specified\n",
      "INFO:root:Number of found files that were double processed: 0.0\n",
      "INFO:root:Number of found files with border issues: 4\n",
      "INFO:root:area of interest specified\n",
      "INFO:root:normalisation angle not specified, default value of 35 is used for processing\n",
      "INFO:ComponentProgress:0\n",
      "INFO:ComponentProgress:0\n",
      "INFO:root:Process S1A_IW_SLC__1SDH_20210109T170737_20210109T170801_036064_043A0F_7B82.zip with SNAP.\n"
     ]
    },
    {
     "name": "stdout",
     "output_type": "stream",
     "text": [
      "start step 1\n"
     ]
    },
    {
     "name": "stderr",
     "output_type": "stream",
     "text": [
      "INFO: org.esa.snap.core.gpf.operators.tooladapter.ToolAdapterIO: Initializing external tool adapters\n",
      "INFO: org.esa.s2tbx.dataio.gdal.GDALVersion: GDAL 3.0.4 found on system. JNI driver will be used.\n",
      "INFO: org.esa.s2tbx.dataio.gdal.GDALVersion: Installed GDAL 3.0.4 set to be used by SNAP.\n",
      "INFO: org.esa.snap.core.util.EngineVersionCheckActivator: Please check regularly for new updates for the best SNAP experience.\n",
      "INFO: org.esa.s2tbx.dataio.gdal.GDALVersion: Installed GDAL 3.0.4 set to be used by SNAP.\n"
     ]
    },
    {
     "name": "stdout",
     "output_type": "stream",
     "text": [
      "Executing processing graph\n"
     ]
    },
    {
     "name": "stderr",
     "output_type": "stream",
     "text": [
      "INFO: org.hsqldb.persist.Logger: dataFileCache open start\n",
      "INFO: org.esa.snap.engine_utilities.download.DownloadableContentImpl: http retrieving http://step.esa.int/auxdata/orbits/Sentinel-1/POEORB/S1A/2021/01/S1A_OPER_AUX_POEORB_OPOD_20210129T120952_V20210108T225942_20210110T005942.EOF.zip\n",
      "\n",
      "INFO:root:1\n",
      "INFO:ComponentProgress:10\n",
      "INFO:ComponentProgress:10\n",
      "INFO:root:Process S1A_IW_SLC__1SDV_20210101T052626_20210101T052654_035940_0435A9_E0CB.zip with SNAP.\n"
     ]
    },
    {
     "name": "stdout",
     "output_type": "stream",
     "text": [
      " done.\n"
     ]
    },
    {
     "name": "stderr",
     "output_type": "stream",
     "text": [
      "INFO: org.esa.snap.core.gpf.operators.tooladapter.ToolAdapterIO: Initializing external tool adapters\n",
      "INFO: org.esa.s2tbx.dataio.gdal.GDALVersion: GDAL 3.0.4 found on system. JNI driver will be used.\n",
      "INFO: org.esa.s2tbx.dataio.gdal.GDALVersion: Installed GDAL 3.0.4 set to be used by SNAP.\n",
      "INFO: org.esa.snap.core.util.EngineVersionCheckActivator: Please check regularly for new updates for the best SNAP experience.\n",
      "INFO: org.esa.s2tbx.dataio.gdal.GDALVersion: Installed GDAL 3.0.4 set to be used by SNAP.\n"
     ]
    },
    {
     "name": "stdout",
     "output_type": "stream",
     "text": [
      "Executing processing graph\n"
     ]
    },
    {
     "name": "stderr",
     "output_type": "stream",
     "text": [
      "INFO: org.hsqldb.persist.Logger: dataFileCache open start\n",
      "INFO: org.esa.snap.engine_utilities.download.DownloadableContentImpl: http retrieving http://step.esa.int/auxdata/orbits/Sentinel-1/POEORB/S1A/2020/12/S1A_OPER_AUX_POEORB_OPOD_20210121T121629_V20201231T225942_20210102T005942.EOF.zip\n"
     ]
    },
    {
     "name": "stdout",
     "output_type": "stream",
     "text": [
      "...12%...24%...36%...48%...60%...72%...84%.. done.\n"
     ]
    },
    {
     "name": "stderr",
     "output_type": "stream",
     "text": [
      "INFO:root:0\n",
      "INFO:ComponentProgress:20\n",
      "INFO:ComponentProgress:20\n",
      "INFO:root:Process S1A_IW_SLC__1SDV_20210108T051816_20210108T051844_036042_04393F_F99A.zip with SNAP.\n",
      "INFO: org.esa.snap.core.gpf.operators.tooladapter.ToolAdapterIO: Initializing external tool adapters\n",
      "INFO: org.esa.s2tbx.dataio.gdal.GDALVersion: GDAL 3.0.4 found on system. JNI driver will be used.\n",
      "INFO: org.esa.s2tbx.dataio.gdal.GDALVersion: Installed GDAL 3.0.4 set to be used by SNAP.\n",
      "INFO: org.esa.snap.core.util.EngineVersionCheckActivator: Please check regularly for new updates for the best SNAP experience.\n",
      "INFO: org.esa.s2tbx.dataio.gdal.GDALVersion: Installed GDAL 3.0.4 set to be used by SNAP.\n"
     ]
    },
    {
     "name": "stdout",
     "output_type": "stream",
     "text": [
      "Executing processing graph\n"
     ]
    },
    {
     "name": "stderr",
     "output_type": "stream",
     "text": [
      "INFO: org.hsqldb.persist.Logger: dataFileCache open start\n",
      "INFO: org.esa.snap.engine_utilities.download.DownloadableContentImpl: http retrieving http://step.esa.int/auxdata/orbits/Sentinel-1/POEORB/S1A/2021/01/S1A_OPER_AUX_POEORB_OPOD_20210128T121545_V20210107T225942_20210109T005942.EOF.zip\n"
     ]
    },
    {
     "name": "stdout",
     "output_type": "stream",
     "text": [
      "....11%....23%....34%....46%....57%....69%....80%.... done.\n"
     ]
    },
    {
     "name": "stderr",
     "output_type": "stream",
     "text": [
      "INFO:root:0\n",
      "INFO:ComponentProgress:30\n",
      "INFO:ComponentProgress:30\n",
      "INFO:root:Process S1B_IW_SLC__1SDV_20210102T051747_20210102T051814_024971_02F8D2_6318.zip with SNAP.\n",
      "INFO: org.esa.snap.core.gpf.operators.tooladapter.ToolAdapterIO: Initializing external tool adapters\n",
      "INFO: org.esa.s2tbx.dataio.gdal.GDALVersion: GDAL 3.0.4 found on system. JNI driver will be used.\n",
      "INFO: org.esa.s2tbx.dataio.gdal.GDALVersion: Installed GDAL 3.0.4 set to be used by SNAP.\n",
      "INFO: org.esa.snap.core.util.EngineVersionCheckActivator: Please check regularly for new updates for the best SNAP experience.\n",
      "INFO: org.esa.s2tbx.dataio.gdal.GDALVersion: Installed GDAL 3.0.4 set to be used by SNAP.\n"
     ]
    },
    {
     "name": "stdout",
     "output_type": "stream",
     "text": [
      "Executing processing graph\n"
     ]
    },
    {
     "name": "stderr",
     "output_type": "stream",
     "text": [
      "INFO: org.hsqldb.persist.Logger: dataFileCache open start\n",
      "INFO: org.esa.snap.engine_utilities.download.DownloadableContentImpl: http retrieving http://step.esa.int/auxdata/orbits/Sentinel-1/POEORB/S1B/2021/01/S1B_OPER_AUX_POEORB_OPOD_20210122T111559_V20210101T225942_20210103T005942.EOF.zip\n"
     ]
    },
    {
     "name": "stdout",
     "output_type": "stream",
     "text": [
      "...12%...24%..34%...46%...58%..68%...80%... done.\n"
     ]
    },
    {
     "name": "stderr",
     "output_type": "stream",
     "text": [
      "INFO:root:0\n",
      "INFO:ComponentProgress:40\n",
      "INFO:ComponentProgress:40\n",
      "INFO:root:Process S1B_IW_SLC__1SDV_20210103T170648_20210103T170715_024993_02F97C_C72A.zip with SNAP.\n",
      "INFO: org.esa.snap.core.gpf.operators.tooladapter.ToolAdapterIO: Initializing external tool adapters\n",
      "INFO: org.esa.s2tbx.dataio.gdal.GDALVersion: GDAL 3.0.4 found on system. JNI driver will be used.\n",
      "INFO: org.esa.s2tbx.dataio.gdal.GDALVersion: Installed GDAL 3.0.4 set to be used by SNAP.\n",
      "INFO: org.esa.snap.core.util.EngineVersionCheckActivator: Please check regularly for new updates for the best SNAP experience.\n",
      "INFO: org.esa.s2tbx.dataio.gdal.GDALVersion: Installed GDAL 3.0.4 set to be used by SNAP.\n"
     ]
    },
    {
     "name": "stdout",
     "output_type": "stream",
     "text": [
      "Executing processing graph\n"
     ]
    },
    {
     "name": "stderr",
     "output_type": "stream",
     "text": [
      "INFO: org.hsqldb.persist.Logger: dataFileCache open start\n",
      "INFO: org.esa.snap.engine_utilities.download.DownloadableContentImpl: http retrieving http://step.esa.int/auxdata/orbits/Sentinel-1/POEORB/S1B/2021/01/S1B_OPER_AUX_POEORB_OPOD_20210123T111611_V20210102T225942_20210104T005942.EOF.zip\n"
     ]
    },
    {
     "name": "stdout",
     "output_type": "stream",
     "text": [
      "..10%..20%..31%..41%...51%..62%..72%..83%.. done.\n"
     ]
    },
    {
     "name": "stderr",
     "output_type": "stream",
     "text": [
      "INFO:root:0\n",
      "INFO:ComponentProgress:50\n",
      "INFO:ComponentProgress:50\n",
      "INFO:root:Process S1B_IW_SLC__1SDV_20210107T052547_20210107T052614_025044_02FB1E_E0E4.zip with SNAP.\n",
      "INFO: org.esa.snap.core.gpf.operators.tooladapter.ToolAdapterIO: Initializing external tool adapters\n",
      "INFO: org.esa.s2tbx.dataio.gdal.GDALVersion: GDAL 3.0.4 found on system. JNI driver will be used.\n",
      "INFO: org.esa.s2tbx.dataio.gdal.GDALVersion: Installed GDAL 3.0.4 set to be used by SNAP.\n",
      "INFO: org.esa.snap.core.util.EngineVersionCheckActivator: Please check regularly for new updates for the best SNAP experience.\n",
      "INFO: org.esa.s2tbx.dataio.gdal.GDALVersion: Installed GDAL 3.0.4 set to be used by SNAP.\n"
     ]
    },
    {
     "name": "stdout",
     "output_type": "stream",
     "text": [
      "Executing processing graph\n"
     ]
    },
    {
     "name": "stderr",
     "output_type": "stream",
     "text": [
      "INFO: org.hsqldb.persist.Logger: dataFileCache open start\n",
      "INFO: org.esa.snap.engine_utilities.download.DownloadableContentImpl: http retrieving http://step.esa.int/auxdata/orbits/Sentinel-1/POEORB/S1B/2021/01/S1B_OPER_AUX_POEORB_OPOD_20210127T111615_V20210106T225942_20210108T005942.EOF.zip\n"
     ]
    },
    {
     "name": "stdout",
     "output_type": "stream",
     "text": [
      "...12%...24%..34%...46%...58%..68%...80%... done.\n"
     ]
    },
    {
     "name": "stderr",
     "output_type": "stream",
     "text": [
      "INFO:root:0\n",
      "INFO:ComponentProgress:60\n",
      "INFO:ComponentProgress:60\n",
      "INFO:root:Process S1A_IW_SLC__1SDV_20210104T165913_20210104T165940_035991_043767_A0D0.zip with SNAP.\n",
      "INFO: org.esa.snap.core.gpf.operators.tooladapter.ToolAdapterIO: Initializing external tool adapters\n",
      "INFO: org.esa.s2tbx.dataio.gdal.GDALVersion: GDAL 3.0.4 found on system. JNI driver will be used.\n",
      "INFO: org.esa.s2tbx.dataio.gdal.GDALVersion: Installed GDAL 3.0.4 set to be used by SNAP.\n",
      "INFO: org.esa.snap.core.util.EngineVersionCheckActivator: Please check regularly for new updates for the best SNAP experience.\n",
      "INFO: org.esa.s2tbx.dataio.gdal.GDALVersion: Installed GDAL 3.0.4 set to be used by SNAP.\n"
     ]
    },
    {
     "name": "stdout",
     "output_type": "stream",
     "text": [
      "Executing processing graph\n"
     ]
    },
    {
     "name": "stderr",
     "output_type": "stream",
     "text": [
      "INFO: org.hsqldb.persist.Logger: dataFileCache open start\n",
      "INFO: org.esa.snap.engine_utilities.download.DownloadableContentImpl: http retrieving http://step.esa.int/auxdata/orbits/Sentinel-1/POEORB/S1A/2021/01/S1A_OPER_AUX_POEORB_OPOD_20210124T121622_V20210103T225942_20210105T005942.EOF.zip\n"
     ]
    },
    {
     "name": "stdout",
     "output_type": "stream",
     "text": [
      "....12%....24%...34%....46%....58%...68%....80%...90% done.\n"
     ]
    },
    {
     "name": "stderr",
     "output_type": "stream",
     "text": [
      "INFO:root:0\n",
      "INFO:ComponentProgress:70\n",
      "INFO:ComponentProgress:70\n",
      "INFO:root:Process S1B_IW_SLC__1SDV_20210110T165830_20210110T165857_025095_02FCB9_7015.zip with SNAP.\n",
      "INFO: org.esa.snap.core.gpf.operators.tooladapter.ToolAdapterIO: Initializing external tool adapters\n",
      "INFO: org.esa.s2tbx.dataio.gdal.GDALVersion: GDAL 3.0.4 found on system. JNI driver will be used.\n",
      "INFO: org.esa.s2tbx.dataio.gdal.GDALVersion: Installed GDAL 3.0.4 set to be used by SNAP.\n",
      "INFO: org.esa.snap.core.util.EngineVersionCheckActivator: Please check regularly for new updates for the best SNAP experience.\n",
      "INFO: org.esa.s2tbx.dataio.gdal.GDALVersion: Installed GDAL 3.0.4 set to be used by SNAP.\n"
     ]
    },
    {
     "name": "stdout",
     "output_type": "stream",
     "text": [
      "Executing processing graph\n"
     ]
    },
    {
     "name": "stderr",
     "output_type": "stream",
     "text": [
      "INFO: org.hsqldb.persist.Logger: dataFileCache open start\n",
      "INFO: org.esa.snap.engine_utilities.download.DownloadableContentImpl: http retrieving http://step.esa.int/auxdata/orbits/Sentinel-1/POEORB/S1B/2021/01/S1B_OPER_AUX_POEORB_OPOD_20210130T110934_V20210109T225942_20210111T005942.EOF.zip\n"
     ]
    },
    {
     "name": "stdout",
     "output_type": "stream",
     "text": [
      "...11%...23%...34%...45%..55%...66%...78%...90% done.\n"
     ]
    },
    {
     "name": "stderr",
     "output_type": "stream",
     "text": [
      "INFO:root:0\n",
      "INFO:root:skip processing for /home/test/Desktop/data2/S1A_IW_SLC__1SDH_20210109T170737_20210109T170801_036064_043A0F_7B82.zip. File does not exist\n",
      "INFO:root:skip processing for /home/test/Desktop/data2/S1A_IW_SLC__1SDV_20210104T165938_20210104T170006_035991_043767_329F.zip. File does not exist\n",
      "INFO:root:skip processing for /home/test/Desktop/data2/S1B_IW_SLC__1SDV_20210110T165855_20210110T165922_025095_02FCB9_4BB8.zip. File does not exist\n",
      "INFO:ComponentProgress:0\n",
      "INFO:ComponentProgress:0\n",
      "INFO:root:Scene 1 of 7\n",
      "INFO:root:Process S1A_IW_SLC__1SDV_20210101T052626_20210101T052654_035940_0435A9_E0CB_GC_RC_No_Su.dim with SNAP.\n"
     ]
    },
    {
     "name": "stdout",
     "output_type": "stream",
     "text": [
      "start step 2\n"
     ]
    },
    {
     "name": "stderr",
     "output_type": "stream",
     "text": [
      "INFO: org.esa.snap.core.gpf.operators.tooladapter.ToolAdapterIO: Initializing external tool adapters\n",
      "INFO: org.esa.s2tbx.dataio.gdal.GDALVersion: GDAL 3.0.4 found on system. JNI driver will be used.\n",
      "INFO: org.esa.s2tbx.dataio.gdal.GDALVersion: Installed GDAL 3.0.4 set to be used by SNAP.\n",
      "INFO: org.esa.snap.core.util.EngineVersionCheckActivator: Please check regularly for new updates for the best SNAP experience.\n",
      "INFO: org.esa.s2tbx.dataio.gdal.GDALVersion: Installed GDAL 3.0.4 set to be used by SNAP.\n"
     ]
    },
    {
     "name": "stdout",
     "output_type": "stream",
     "text": [
      "Executing processing graph\n"
     ]
    },
    {
     "name": "stderr",
     "output_type": "stream",
     "text": [
      "INFO: org.hsqldb.persist.Logger: dataFileCache open start\n"
     ]
    },
    {
     "name": "stdout",
     "output_type": "stream",
     "text": [
      "...12%...25%..35%..45%...57%..67%..77%...89% done.\n"
     ]
    },
    {
     "name": "stderr",
     "output_type": "stream",
     "text": [
      "-- org.jblas INFO Deleting /tmp/jblas7850174183669672141/libjblas.so\n",
      "-- org.jblas INFO Deleting /tmp/jblas7850174183669672141/libgfortran-4.so\n",
      "-- org.jblas INFO Deleting /tmp/jblas7850174183669672141/libjblas_arch_flavor.so\n",
      "-- org.jblas INFO Deleting /tmp/jblas7850174183669672141/libquadmath-0.so\n",
      "-- org.jblas INFO Deleting /tmp/jblas7850174183669672141\n",
      "INFO:root:0\n",
      "INFO:root:2021-08-29 18:57:58.801427\n",
      "INFO:ComponentProgress:14\n",
      "INFO:ComponentProgress:14\n",
      "INFO:root:Scene 2 of 7\n",
      "INFO:root:Process S1A_IW_SLC__1SDV_20210104T165913_20210104T165940_035991_043767_A0D0_GC_RC_No_Su.dim with SNAP.\n",
      "INFO: org.esa.snap.core.gpf.operators.tooladapter.ToolAdapterIO: Initializing external tool adapters\n",
      "INFO: org.esa.s2tbx.dataio.gdal.GDALVersion: GDAL 3.0.4 found on system. JNI driver will be used.\n",
      "INFO: org.esa.s2tbx.dataio.gdal.GDALVersion: Installed GDAL 3.0.4 set to be used by SNAP.\n",
      "INFO: org.esa.snap.core.util.EngineVersionCheckActivator: Please check regularly for new updates for the best SNAP experience.\n",
      "INFO: org.esa.s2tbx.dataio.gdal.GDALVersion: Installed GDAL 3.0.4 set to be used by SNAP.\n"
     ]
    },
    {
     "name": "stdout",
     "output_type": "stream",
     "text": [
      "Executing processing graph\n"
     ]
    },
    {
     "name": "stderr",
     "output_type": "stream",
     "text": [
      "INFO: org.hsqldb.persist.Logger: dataFileCache open start\n",
      "INFO: org.esa.snap.core.datamodel.Product: raster width 2403 not equal to 2404\n",
      "INFO: org.esa.snap.core.datamodel.Product: raster width 2403 not equal to 2404\n",
      "INFO: org.esa.snap.core.datamodel.Product: raster width 2403 not equal to 2404\n",
      "INFO: org.esa.snap.core.datamodel.Product: raster width 2403 not equal to 2404\n",
      "INFO: org.esa.snap.core.datamodel.Product: raster width 2403 not equal to 2404\n",
      "INFO: org.esa.snap.core.datamodel.Product: raster width 2403 not equal to 2404\n",
      "INFO: org.esa.snap.core.datamodel.Product: raster width 2403 not equal to 2404\n",
      "INFO: org.esa.snap.core.datamodel.Product: raster width 2403 not equal to 2404\n",
      "INFO: org.esa.snap.core.datamodel.Product: raster width 2403 not equal to 2404\n",
      "INFO: org.esa.snap.core.datamodel.Product: raster width 2403 not equal to 2404\n",
      "INFO: org.esa.snap.core.datamodel.Product: raster width 2403 not equal to 2404\n",
      "INFO: org.esa.snap.core.datamodel.Product: raster width 2403 not equal to 2404\n",
      "WARNING: org.jlinda.core.Baseline: Max. error bperp modeling at 3D datapoints: 951621.6928487846m\n"
     ]
    },
    {
     "name": "stdout",
     "output_type": "stream",
     "text": [
      "...12%...25%..35%..45%...57%..67%..77%...89% done.\n"
     ]
    },
    {
     "name": "stderr",
     "output_type": "stream",
     "text": [
      "-- org.jblas INFO Deleting /tmp/jblas8286044915352018441/libjblas.so\n",
      "-- org.jblas INFO Deleting /tmp/jblas8286044915352018441/libgfortran-4.so\n",
      "-- org.jblas INFO Deleting /tmp/jblas8286044915352018441/libjblas_arch_flavor.so\n",
      "-- org.jblas INFO Deleting /tmp/jblas8286044915352018441/libquadmath-0.so\n",
      "-- org.jblas INFO Deleting /tmp/jblas8286044915352018441\n",
      "INFO:root:0\n",
      "INFO:root:2021-08-29 18:59:12.674310\n",
      "INFO:ComponentProgress:28\n",
      "INFO:ComponentProgress:28\n",
      "INFO:root:Scene 3 of 7\n",
      "INFO:root:Process S1A_IW_SLC__1SDV_20210108T051816_20210108T051844_036042_04393F_F99A_GC_RC_No_Su.dim with SNAP.\n",
      "INFO: org.esa.snap.core.gpf.operators.tooladapter.ToolAdapterIO: Initializing external tool adapters\n",
      "INFO: org.esa.s2tbx.dataio.gdal.GDALVersion: GDAL 3.0.4 found on system. JNI driver will be used.\n",
      "INFO: org.esa.s2tbx.dataio.gdal.GDALVersion: Installed GDAL 3.0.4 set to be used by SNAP.\n",
      "INFO: org.esa.snap.core.util.EngineVersionCheckActivator: Please check regularly for new updates for the best SNAP experience.\n",
      "INFO: org.esa.s2tbx.dataio.gdal.GDALVersion: Installed GDAL 3.0.4 set to be used by SNAP.\n"
     ]
    },
    {
     "name": "stdout",
     "output_type": "stream",
     "text": [
      "Executing processing graph\n"
     ]
    },
    {
     "name": "stderr",
     "output_type": "stream",
     "text": [
      "INFO: org.hsqldb.persist.Logger: dataFileCache open start\n",
      "INFO: org.esa.snap.core.datamodel.Product: raster width 2403 not equal to 2404\n",
      "INFO: org.esa.snap.core.datamodel.Product: raster width 2403 not equal to 2404\n",
      "INFO: org.esa.snap.core.datamodel.Product: raster width 2403 not equal to 2404\n",
      "INFO: org.esa.snap.core.datamodel.Product: raster width 2403 not equal to 2404\n",
      "INFO: org.esa.snap.core.datamodel.Product: raster width 2403 not equal to 2404\n",
      "INFO: org.esa.snap.core.datamodel.Product: raster width 2403 not equal to 2404\n",
      "INFO: org.esa.snap.core.datamodel.Product: raster width 2403 not equal to 2404\n",
      "INFO: org.esa.snap.core.datamodel.Product: raster width 2403 not equal to 2404\n",
      "INFO: org.esa.snap.core.datamodel.Product: raster width 2403 not equal to 2404\n",
      "INFO: org.esa.snap.core.datamodel.Product: raster width 2403 not equal to 2404\n",
      "INFO: org.esa.snap.core.datamodel.Product: raster width 2403 not equal to 2404\n",
      "INFO: org.esa.snap.core.datamodel.Product: raster width 2403 not equal to 2404\n"
     ]
    },
    {
     "name": "stdout",
     "output_type": "stream",
     "text": [
      "...12%...25%..35%..45%...57%..67%..77%...89% done.\n"
     ]
    },
    {
     "name": "stderr",
     "output_type": "stream",
     "text": [
      "-- org.jblas INFO Deleting /tmp/jblas1941578135814371655/libjblas.so\n",
      "-- org.jblas INFO Deleting /tmp/jblas1941578135814371655/libgfortran-4.so\n",
      "-- org.jblas INFO Deleting /tmp/jblas1941578135814371655/libjblas_arch_flavor.so\n",
      "-- org.jblas INFO Deleting /tmp/jblas1941578135814371655/libquadmath-0.so\n",
      "-- org.jblas INFO Deleting /tmp/jblas1941578135814371655\n",
      "INFO:root:0\n",
      "INFO:root:2021-08-29 19:00:26.270922\n",
      "INFO:ComponentProgress:42\n",
      "INFO:ComponentProgress:42\n",
      "INFO:root:Scene 4 of 7\n",
      "INFO:root:Process S1B_IW_SLC__1SDV_20210102T051747_20210102T051814_024971_02F8D2_6318_GC_RC_No_Su.dim with SNAP.\n",
      "INFO: org.esa.snap.core.gpf.operators.tooladapter.ToolAdapterIO: Initializing external tool adapters\n",
      "INFO: org.esa.s2tbx.dataio.gdal.GDALVersion: GDAL 3.0.4 found on system. JNI driver will be used.\n",
      "INFO: org.esa.s2tbx.dataio.gdal.GDALVersion: Installed GDAL 3.0.4 set to be used by SNAP.\n",
      "INFO: org.esa.snap.core.util.EngineVersionCheckActivator: Please check regularly for new updates for the best SNAP experience.\n",
      "INFO: org.esa.s2tbx.dataio.gdal.GDALVersion: Installed GDAL 3.0.4 set to be used by SNAP.\n"
     ]
    },
    {
     "name": "stdout",
     "output_type": "stream",
     "text": [
      "Executing processing graph\n"
     ]
    },
    {
     "name": "stderr",
     "output_type": "stream",
     "text": [
      "INFO: org.hsqldb.persist.Logger: dataFileCache open start\n",
      "INFO: org.esa.snap.core.datamodel.Product: raster width 2403 not equal to 2404\n",
      "INFO: org.esa.snap.core.datamodel.Product: raster width 2403 not equal to 2404\n",
      "INFO: org.esa.snap.core.datamodel.Product: raster width 2403 not equal to 2404\n",
      "INFO: org.esa.snap.core.datamodel.Product: raster width 2403 not equal to 2404\n",
      "INFO: org.esa.snap.core.datamodel.Product: raster width 2403 not equal to 2404\n",
      "INFO: org.esa.snap.core.datamodel.Product: raster width 2403 not equal to 2404\n",
      "INFO: org.esa.snap.core.datamodel.Product: raster width 2403 not equal to 2404\n",
      "INFO: org.esa.snap.core.datamodel.Product: raster width 2403 not equal to 2404\n",
      "INFO: org.esa.snap.core.datamodel.Product: raster width 2403 not equal to 2404\n",
      "INFO: org.esa.snap.core.datamodel.Product: raster width 2403 not equal to 2404\n",
      "INFO: org.esa.snap.core.datamodel.Product: raster width 2403 not equal to 2404\n",
      "INFO: org.esa.snap.core.datamodel.Product: raster width 2403 not equal to 2404\n"
     ]
    },
    {
     "name": "stdout",
     "output_type": "stream",
     "text": [
      "...12%...25%..35%..45%...57%..67%..77%...89% done.\n"
     ]
    },
    {
     "name": "stderr",
     "output_type": "stream",
     "text": [
      "-- org.jblas INFO Deleting /tmp/jblas5133865250962490398/libjblas.so\n",
      "-- org.jblas INFO Deleting /tmp/jblas5133865250962490398/libgfortran-4.so\n",
      "-- org.jblas INFO Deleting /tmp/jblas5133865250962490398/libjblas_arch_flavor.so\n",
      "-- org.jblas INFO Deleting /tmp/jblas5133865250962490398/libquadmath-0.so\n",
      "-- org.jblas INFO Deleting /tmp/jblas5133865250962490398\n",
      "INFO:root:0\n",
      "INFO:root:2021-08-29 19:01:57.069051\n",
      "INFO:ComponentProgress:57\n",
      "INFO:ComponentProgress:57\n",
      "INFO:root:Scene 5 of 7\n",
      "INFO:root:Process S1B_IW_SLC__1SDV_20210103T170648_20210103T170715_024993_02F97C_C72A_GC_RC_No_Su.dim with SNAP.\n",
      "INFO: org.esa.snap.core.gpf.operators.tooladapter.ToolAdapterIO: Initializing external tool adapters\n",
      "INFO: org.esa.s2tbx.dataio.gdal.GDALVersion: GDAL 3.0.4 found on system. JNI driver will be used.\n",
      "INFO: org.esa.s2tbx.dataio.gdal.GDALVersion: Installed GDAL 3.0.4 set to be used by SNAP.\n",
      "INFO: org.esa.snap.core.util.EngineVersionCheckActivator: Please check regularly for new updates for the best SNAP experience.\n",
      "INFO: org.esa.s2tbx.dataio.gdal.GDALVersion: Installed GDAL 3.0.4 set to be used by SNAP.\n"
     ]
    },
    {
     "name": "stdout",
     "output_type": "stream",
     "text": [
      "Executing processing graph\n"
     ]
    },
    {
     "name": "stderr",
     "output_type": "stream",
     "text": [
      "INFO: org.hsqldb.persist.Logger: dataFileCache open start\n",
      "INFO: org.esa.snap.core.datamodel.Product: raster width 2403 not equal to 2404\n",
      "INFO: org.esa.snap.core.datamodel.Product: raster width 2403 not equal to 2404\n",
      "INFO: org.esa.snap.core.datamodel.Product: raster width 2403 not equal to 2404\n",
      "INFO: org.esa.snap.core.datamodel.Product: raster width 2403 not equal to 2404\n",
      "INFO: org.esa.snap.core.datamodel.Product: raster width 2403 not equal to 2404\n",
      "INFO: org.esa.snap.core.datamodel.Product: raster width 2403 not equal to 2404\n",
      "INFO: org.esa.snap.core.datamodel.Product: raster width 2403 not equal to 2404\n",
      "INFO: org.esa.snap.core.datamodel.Product: raster width 2403 not equal to 2404\n",
      "INFO: org.esa.snap.core.datamodel.Product: raster width 2403 not equal to 2404\n",
      "INFO: org.esa.snap.core.datamodel.Product: raster width 2403 not equal to 2404\n",
      "INFO: org.esa.snap.core.datamodel.Product: raster width 2403 not equal to 2404\n",
      "INFO: org.esa.snap.core.datamodel.Product: raster width 2403 not equal to 2404\n"
     ]
    },
    {
     "name": "stdout",
     "output_type": "stream",
     "text": [
      "...12%...25%..35%..45%...57%..67%..77%...89% done.\n"
     ]
    },
    {
     "name": "stderr",
     "output_type": "stream",
     "text": [
      "-- org.jblas INFO Deleting /tmp/jblas8785853447239672772/libjblas.so\n",
      "-- org.jblas INFO Deleting /tmp/jblas8785853447239672772/libgfortran-4.so\n",
      "-- org.jblas INFO Deleting /tmp/jblas8785853447239672772/libjblas_arch_flavor.so\n",
      "-- org.jblas INFO Deleting /tmp/jblas8785853447239672772/libquadmath-0.so\n",
      "-- org.jblas INFO Deleting /tmp/jblas8785853447239672772\n",
      "INFO:root:0\n",
      "INFO:root:2021-08-29 19:03:24.549310\n",
      "INFO:ComponentProgress:71\n",
      "INFO:ComponentProgress:71\n",
      "INFO:root:Scene 6 of 7\n",
      "INFO:root:Process S1B_IW_SLC__1SDV_20210107T052547_20210107T052614_025044_02FB1E_E0E4_GC_RC_No_Su.dim with SNAP.\n",
      "INFO: org.esa.snap.core.gpf.operators.tooladapter.ToolAdapterIO: Initializing external tool adapters\n",
      "INFO: org.esa.s2tbx.dataio.gdal.GDALVersion: GDAL 3.0.4 found on system. JNI driver will be used.\n",
      "INFO: org.esa.s2tbx.dataio.gdal.GDALVersion: Installed GDAL 3.0.4 set to be used by SNAP.\n",
      "INFO: org.esa.snap.core.util.EngineVersionCheckActivator: Please check regularly for new updates for the best SNAP experience.\n",
      "INFO: org.esa.s2tbx.dataio.gdal.GDALVersion: Installed GDAL 3.0.4 set to be used by SNAP.\n"
     ]
    },
    {
     "name": "stdout",
     "output_type": "stream",
     "text": [
      "Executing processing graph\n"
     ]
    },
    {
     "name": "stderr",
     "output_type": "stream",
     "text": [
      "INFO: org.hsqldb.persist.Logger: dataFileCache open start\n",
      "INFO: org.esa.snap.core.datamodel.Product: raster width 2403 not equal to 2404\n",
      "INFO: org.esa.snap.core.datamodel.Product: raster width 2403 not equal to 2404\n",
      "INFO: org.esa.snap.core.datamodel.Product: raster width 2403 not equal to 2404\n",
      "INFO: org.esa.snap.core.datamodel.Product: raster width 2403 not equal to 2404\n",
      "INFO: org.esa.snap.core.datamodel.Product: raster width 2403 not equal to 2404\n",
      "INFO: org.esa.snap.core.datamodel.Product: raster width 2403 not equal to 2404\n",
      "INFO: org.esa.snap.core.datamodel.Product: raster width 2403 not equal to 2404\n",
      "INFO: org.esa.snap.core.datamodel.Product: raster width 2403 not equal to 2404\n",
      "INFO: org.esa.snap.core.datamodel.Product: raster width 2403 not equal to 2404\n",
      "INFO: org.esa.snap.core.datamodel.Product: raster width 2403 not equal to 2404\n",
      "INFO: org.esa.snap.core.datamodel.Product: raster width 2403 not equal to 2404\n",
      "INFO: org.esa.snap.core.datamodel.Product: raster width 2403 not equal to 2404\n"
     ]
    },
    {
     "name": "stdout",
     "output_type": "stream",
     "text": [
      "...12%...25%..35%..45%...57%..67%..77%...89% done.\n"
     ]
    },
    {
     "name": "stderr",
     "output_type": "stream",
     "text": [
      "-- org.jblas INFO Deleting /tmp/jblas7411179791605111946/libjblas.so\n",
      "-- org.jblas INFO Deleting /tmp/jblas7411179791605111946/libgfortran-4.so\n",
      "-- org.jblas INFO Deleting /tmp/jblas7411179791605111946/libjblas_arch_flavor.so\n",
      "-- org.jblas INFO Deleting /tmp/jblas7411179791605111946/libquadmath-0.so\n",
      "-- org.jblas INFO Deleting /tmp/jblas7411179791605111946\n",
      "INFO:root:0\n",
      "INFO:root:2021-08-29 19:04:35.352154\n",
      "INFO:ComponentProgress:85\n",
      "INFO:ComponentProgress:85\n",
      "INFO:root:Scene 7 of 7\n",
      "INFO:root:Process S1B_IW_SLC__1SDV_20210110T165830_20210110T165857_025095_02FCB9_7015_GC_RC_No_Su.dim with SNAP.\n",
      "INFO: org.esa.snap.core.gpf.operators.tooladapter.ToolAdapterIO: Initializing external tool adapters\n",
      "INFO: org.esa.s2tbx.dataio.gdal.GDALVersion: GDAL 3.0.4 found on system. JNI driver will be used.\n",
      "INFO: org.esa.s2tbx.dataio.gdal.GDALVersion: Installed GDAL 3.0.4 set to be used by SNAP.\n",
      "INFO: org.esa.snap.core.util.EngineVersionCheckActivator: Please check regularly for new updates for the best SNAP experience.\n",
      "INFO: org.esa.s2tbx.dataio.gdal.GDALVersion: Installed GDAL 3.0.4 set to be used by SNAP.\n"
     ]
    },
    {
     "name": "stdout",
     "output_type": "stream",
     "text": [
      "Executing processing graph\n"
     ]
    },
    {
     "name": "stderr",
     "output_type": "stream",
     "text": [
      "INFO: org.hsqldb.persist.Logger: dataFileCache open start\n",
      "INFO: org.esa.snap.core.datamodel.Product: raster width 2403 not equal to 2404\n",
      "INFO: org.esa.snap.core.datamodel.Product: raster width 2403 not equal to 2404\n",
      "INFO: org.esa.snap.core.datamodel.Product: raster width 2403 not equal to 2404\n",
      "INFO: org.esa.snap.core.datamodel.Product: raster width 2403 not equal to 2404\n",
      "INFO: org.esa.snap.core.datamodel.Product: raster width 2403 not equal to 2404\n",
      "INFO: org.esa.snap.core.datamodel.Product: raster width 2403 not equal to 2404\n",
      "INFO: org.esa.snap.core.datamodel.Product: raster width 2403 not equal to 2404\n",
      "INFO: org.esa.snap.core.datamodel.Product: raster width 2403 not equal to 2404\n",
      "INFO: org.esa.snap.core.datamodel.Product: raster width 2403 not equal to 2404\n",
      "INFO: org.esa.snap.core.datamodel.Product: raster width 2403 not equal to 2404\n",
      "INFO: org.esa.snap.core.datamodel.Product: raster width 2403 not equal to 2404\n",
      "INFO: org.esa.snap.core.datamodel.Product: raster width 2403 not equal to 2404\n",
      "WARNING: org.jlinda.core.Baseline: Max. error bperp modeling at 3D datapoints: 1002303.1955448636m\n"
     ]
    },
    {
     "name": "stdout",
     "output_type": "stream",
     "text": [
      "...12%...25%..35%..45%...57%..67%..77%...89% done.\n"
     ]
    },
    {
     "name": "stderr",
     "output_type": "stream",
     "text": [
      "-- org.jblas INFO Deleting /tmp/jblas2590257929860331368/libjblas.so\n",
      "-- org.jblas INFO Deleting /tmp/jblas2590257929860331368/libgfortran-4.so\n",
      "-- org.jblas INFO Deleting /tmp/jblas2590257929860331368/libjblas_arch_flavor.so\n",
      "-- org.jblas INFO Deleting /tmp/jblas2590257929860331368/libquadmath-0.so\n",
      "-- org.jblas INFO Deleting /tmp/jblas2590257929860331368\n",
      "INFO:root:0\n",
      "INFO:root:2021-08-29 19:05:54.247359\n",
      "INFO:root:skip processing for /home/test/Desktop/data2/S1A_IW_SLC__1SDH_20210109T170737_20210109T170801_036064_043A0F_7B82.zip. File /home/test/Desktop/data2/step2/S1A_IW_SLC__1SDH_20210109T170737_20210109T170801_036064_043A0F_7B82_GC_RC_No_Su_Co.dim does not exist.\n",
      "INFO:root:skip processing for /home/test/Desktop/data2/S1A_IW_SLC__1SDV_20210104T165938_20210104T170006_035991_043767_329F.zip. File /home/test/Desktop/data2/step2/S1A_IW_SLC__1SDV_20210104T165938_20210104T170006_035991_043767_329F_GC_RC_No_Su_Co.dim does not exist.\n",
      "INFO:root:skip processing for /home/test/Desktop/data2/S1B_IW_SLC__1SDV_20210110T165855_20210110T165922_025095_02FCB9_4BB8.zip. File /home/test/Desktop/data2/step2/S1B_IW_SLC__1SDV_20210110T165855_20210110T165922_025095_02FCB9_4BB8_GC_RC_No_Su_Co.dim does not exist.\n",
      "INFO:ComponentProgress:0\n",
      "INFO:ComponentProgress:0\n"
     ]
    },
    {
     "name": "stdout",
     "output_type": "stream",
     "text": [
      "start step 3\n"
     ]
    },
    {
     "name": "stderr",
     "output_type": "stream",
     "text": [
      "INFO: org.esa.snap.core.gpf.operators.tooladapter.ToolAdapterIO: Initializing external tool adapters\n",
      "INFO: org.esa.s2tbx.dataio.gdal.GDALVersion: GDAL 3.0.4 found on system. JNI driver will be used.\n",
      "INFO: org.esa.s2tbx.dataio.gdal.GDALVersion: Installed GDAL 3.0.4 set to be used by SNAP.\n",
      "INFO: org.esa.snap.core.util.EngineVersionCheckActivator: Please check regularly for new updates for the best SNAP experience.\n",
      "INFO: org.esa.s2tbx.dataio.gdal.GDALVersion: Installed GDAL 3.0.4 set to be used by SNAP.\n"
     ]
    },
    {
     "name": "stdout",
     "output_type": "stream",
     "text": [
      "Executing processing graph\n"
     ]
    },
    {
     "name": "stderr",
     "output_type": "stream",
     "text": [
      "INFO: org.hsqldb.persist.Logger: dataFileCache open start\n"
     ]
    },
    {
     "name": "stdout",
     "output_type": "stream",
     "text": [
      "...10%....22%....34%....45%..."
     ]
    },
    {
     "name": "stderr",
     "output_type": "stream",
     "text": [
      "29455 [main] INFO serverStartup - Nc4Iosp: NetCDF-4 C library loaded (jna_path='/home/test/.snap/auxdata/netcdf_natives/8.0.5/amd64', libname='netcdf').\n",
      "29500 [main] INFO serverStartup - NetcdfLoader: set log level: old=0 new=0\n",
      "29501 [main] INFO serverStartup - Nc4Iosp: set log level: old=0 new=0\n"
     ]
    },
    {
     "name": "stdout",
     "output_type": "stream",
     "text": [
      "55%....67%....79%....90% done.\n"
     ]
    },
    {
     "name": "stderr",
     "output_type": "stream",
     "text": [
      "INFO:root:0\n",
      "INFO:root:2021-08-29 19:08:56.411130\n",
      "INFO:ComponentProgress:14\n",
      "INFO:ComponentProgress:14\n",
      "INFO: org.esa.snap.core.gpf.operators.tooladapter.ToolAdapterIO: Initializing external tool adapters\n",
      "INFO: org.esa.s2tbx.dataio.gdal.GDALVersion: GDAL 3.0.4 found on system. JNI driver will be used.\n",
      "INFO: org.esa.s2tbx.dataio.gdal.GDALVersion: Installed GDAL 3.0.4 set to be used by SNAP.\n",
      "INFO: org.esa.snap.core.util.EngineVersionCheckActivator: Please check regularly for new updates for the best SNAP experience.\n",
      "INFO: org.esa.s2tbx.dataio.gdal.GDALVersion: Installed GDAL 3.0.4 set to be used by SNAP.\n"
     ]
    },
    {
     "name": "stdout",
     "output_type": "stream",
     "text": [
      "Executing processing graph\n"
     ]
    },
    {
     "name": "stderr",
     "output_type": "stream",
     "text": [
      "INFO: org.hsqldb.persist.Logger: dataFileCache open start\n"
     ]
    },
    {
     "name": "stdout",
     "output_type": "stream",
     "text": [
      "...10%....22%....34%....45%..."
     ]
    },
    {
     "name": "stderr",
     "output_type": "stream",
     "text": [
      "21992 [main] INFO serverStartup - Nc4Iosp: NetCDF-4 C library loaded (jna_path='/home/test/.snap/auxdata/netcdf_natives/8.0.5/amd64', libname='netcdf').\n",
      "22011 [main] INFO serverStartup - NetcdfLoader: set log level: old=0 new=0\n",
      "22012 [main] INFO serverStartup - Nc4Iosp: set log level: old=0 new=0\n"
     ]
    },
    {
     "name": "stdout",
     "output_type": "stream",
     "text": [
      "55%....67%....79%....90% done.\n"
     ]
    },
    {
     "name": "stderr",
     "output_type": "stream",
     "text": [
      "INFO:root:0\n",
      "INFO:root:2021-08-29 19:11:42.027038\n",
      "INFO:ComponentProgress:28\n",
      "INFO:ComponentProgress:28\n",
      "INFO: org.esa.snap.core.gpf.operators.tooladapter.ToolAdapterIO: Initializing external tool adapters\n",
      "INFO: org.esa.s2tbx.dataio.gdal.GDALVersion: GDAL 3.0.4 found on system. JNI driver will be used.\n",
      "INFO: org.esa.s2tbx.dataio.gdal.GDALVersion: Installed GDAL 3.0.4 set to be used by SNAP.\n",
      "INFO: org.esa.snap.core.util.EngineVersionCheckActivator: Please check regularly for new updates for the best SNAP experience.\n",
      "INFO: org.esa.s2tbx.dataio.gdal.GDALVersion: Installed GDAL 3.0.4 set to be used by SNAP.\n"
     ]
    },
    {
     "name": "stdout",
     "output_type": "stream",
     "text": [
      "Executing processing graph\n"
     ]
    },
    {
     "name": "stderr",
     "output_type": "stream",
     "text": [
      "INFO: org.hsqldb.persist.Logger: dataFileCache open start\n"
     ]
    },
    {
     "name": "stdout",
     "output_type": "stream",
     "text": [
      "...10%....22%....34%....45%..."
     ]
    },
    {
     "name": "stderr",
     "output_type": "stream",
     "text": [
      "21802 [main] INFO serverStartup - Nc4Iosp: NetCDF-4 C library loaded (jna_path='/home/test/.snap/auxdata/netcdf_natives/8.0.5/amd64', libname='netcdf').\n",
      "21810 [main] INFO serverStartup - NetcdfLoader: set log level: old=0 new=0\n",
      "21828 [main] INFO serverStartup - Nc4Iosp: set log level: old=0 new=0\n"
     ]
    },
    {
     "name": "stdout",
     "output_type": "stream",
     "text": [
      "55%....67%....79%....90%"
     ]
    },
    {
     "name": "stderr",
     "output_type": "stream",
     "text": [
      "INFO:root:0\n",
      "INFO:root:2021-08-29 19:14:12.068346\n",
      "INFO:ComponentProgress:42\n",
      "INFO:ComponentProgress:42\n"
     ]
    },
    {
     "name": "stdout",
     "output_type": "stream",
     "text": [
      " done.\n"
     ]
    },
    {
     "name": "stderr",
     "output_type": "stream",
     "text": [
      "INFO: org.esa.snap.core.gpf.operators.tooladapter.ToolAdapterIO: Initializing external tool adapters\n",
      "INFO: org.esa.s2tbx.dataio.gdal.GDALVersion: GDAL 3.0.4 found on system. JNI driver will be used.\n",
      "INFO: org.esa.s2tbx.dataio.gdal.GDALVersion: Installed GDAL 3.0.4 set to be used by SNAP.\n",
      "INFO: org.esa.snap.core.util.EngineVersionCheckActivator: Please check regularly for new updates for the best SNAP experience.\n",
      "INFO: org.esa.s2tbx.dataio.gdal.GDALVersion: Installed GDAL 3.0.4 set to be used by SNAP.\n"
     ]
    },
    {
     "name": "stdout",
     "output_type": "stream",
     "text": [
      "Executing processing graph\n"
     ]
    },
    {
     "name": "stderr",
     "output_type": "stream",
     "text": [
      "INFO: org.hsqldb.persist.Logger: dataFileCache open start\n"
     ]
    },
    {
     "name": "stdout",
     "output_type": "stream",
     "text": [
      "...10%....22%....34%....45%..."
     ]
    },
    {
     "name": "stderr",
     "output_type": "stream",
     "text": [
      "13418 [main] INFO serverStartup - Nc4Iosp: NetCDF-4 C library loaded (jna_path='/home/test/.snap/auxdata/netcdf_natives/8.0.5/amd64', libname='netcdf').\n",
      "13434 [main] INFO serverStartup - NetcdfLoader: set log level: old=0 new=0\n",
      "13435 [main] INFO serverStartup - Nc4Iosp: set log level: old=0 new=0\n"
     ]
    },
    {
     "name": "stdout",
     "output_type": "stream",
     "text": [
      "55%....67%....79%....90% done.\n"
     ]
    },
    {
     "name": "stderr",
     "output_type": "stream",
     "text": [
      "INFO:root:0\n",
      "INFO:root:2021-08-29 19:16:33.320428\n",
      "INFO:ComponentProgress:57\n",
      "INFO:ComponentProgress:57\n",
      "INFO: org.esa.snap.core.gpf.operators.tooladapter.ToolAdapterIO: Initializing external tool adapters\n",
      "INFO: org.esa.s2tbx.dataio.gdal.GDALVersion: GDAL 3.0.4 found on system. JNI driver will be used.\n",
      "INFO: org.esa.s2tbx.dataio.gdal.GDALVersion: Installed GDAL 3.0.4 set to be used by SNAP.\n",
      "INFO: org.esa.snap.core.util.EngineVersionCheckActivator: Please check regularly for new updates for the best SNAP experience.\n",
      "INFO: org.esa.s2tbx.dataio.gdal.GDALVersion: Installed GDAL 3.0.4 set to be used by SNAP.\n"
     ]
    },
    {
     "name": "stdout",
     "output_type": "stream",
     "text": [
      "Executing processing graph\n"
     ]
    },
    {
     "name": "stderr",
     "output_type": "stream",
     "text": [
      "INFO: org.hsqldb.persist.Logger: dataFileCache open start\n"
     ]
    },
    {
     "name": "stdout",
     "output_type": "stream",
     "text": [
      "...10%....22%....34%....45%..."
     ]
    },
    {
     "name": "stderr",
     "output_type": "stream",
     "text": [
      "22425 [main] INFO serverStartup - Nc4Iosp: NetCDF-4 C library loaded (jna_path='/home/test/.snap/auxdata/netcdf_natives/8.0.5/amd64', libname='netcdf').\n",
      "22442 [main] INFO serverStartup - NetcdfLoader: set log level: old=0 new=0\n",
      "22448 [main] INFO serverStartup - Nc4Iosp: set log level: old=0 new=0\n"
     ]
    },
    {
     "name": "stdout",
     "output_type": "stream",
     "text": [
      "55%....67%....79%....90% done.\n"
     ]
    },
    {
     "name": "stderr",
     "output_type": "stream",
     "text": [
      "INFO:root:0\n",
      "INFO:root:2021-08-29 19:19:14.782446\n",
      "INFO:ComponentProgress:71\n",
      "INFO:ComponentProgress:71\n",
      "INFO: org.esa.snap.core.gpf.operators.tooladapter.ToolAdapterIO: Initializing external tool adapters\n",
      "INFO: org.esa.s2tbx.dataio.gdal.GDALVersion: GDAL 3.0.4 found on system. JNI driver will be used.\n",
      "INFO: org.esa.s2tbx.dataio.gdal.GDALVersion: Installed GDAL 3.0.4 set to be used by SNAP.\n",
      "INFO: org.esa.snap.core.util.EngineVersionCheckActivator: Please check regularly for new updates for the best SNAP experience.\n",
      "INFO: org.esa.s2tbx.dataio.gdal.GDALVersion: Installed GDAL 3.0.4 set to be used by SNAP.\n"
     ]
    },
    {
     "name": "stdout",
     "output_type": "stream",
     "text": [
      "Executing processing graph\n"
     ]
    },
    {
     "name": "stderr",
     "output_type": "stream",
     "text": [
      "INFO: org.hsqldb.persist.Logger: dataFileCache open start\n"
     ]
    },
    {
     "name": "stdout",
     "output_type": "stream",
     "text": [
      "...10%....22%....34%....45%..."
     ]
    },
    {
     "name": "stderr",
     "output_type": "stream",
     "text": [
      "22348 [main] INFO serverStartup - Nc4Iosp: NetCDF-4 C library loaded (jna_path='/home/test/.snap/auxdata/netcdf_natives/8.0.5/amd64', libname='netcdf').\n",
      "22375 [main] INFO serverStartup - NetcdfLoader: set log level: old=0 new=0\n",
      "22387 [main] INFO serverStartup - Nc4Iosp: set log level: old=0 new=0\n"
     ]
    },
    {
     "name": "stdout",
     "output_type": "stream",
     "text": [
      "55%....67%....79%....90% done.\n"
     ]
    },
    {
     "name": "stderr",
     "output_type": "stream",
     "text": [
      "INFO:root:0\n",
      "INFO:root:2021-08-29 19:21:56.809279\n",
      "INFO:ComponentProgress:85\n",
      "INFO:ComponentProgress:85\n",
      "INFO: org.esa.snap.core.gpf.operators.tooladapter.ToolAdapterIO: Initializing external tool adapters\n",
      "INFO: org.esa.s2tbx.dataio.gdal.GDALVersion: GDAL 3.0.4 found on system. JNI driver will be used.\n",
      "INFO: org.esa.s2tbx.dataio.gdal.GDALVersion: Installed GDAL 3.0.4 set to be used by SNAP.\n",
      "INFO: org.esa.snap.core.util.EngineVersionCheckActivator: Please check regularly for new updates for the best SNAP experience.\n",
      "INFO: org.esa.s2tbx.dataio.gdal.GDALVersion: Installed GDAL 3.0.4 set to be used by SNAP.\n"
     ]
    },
    {
     "name": "stdout",
     "output_type": "stream",
     "text": [
      "Executing processing graph\n"
     ]
    },
    {
     "name": "stderr",
     "output_type": "stream",
     "text": [
      "INFO: org.hsqldb.persist.Logger: dataFileCache open start\n"
     ]
    },
    {
     "name": "stdout",
     "output_type": "stream",
     "text": [
      "...10%....22%....34%....45%..."
     ]
    },
    {
     "name": "stderr",
     "output_type": "stream",
     "text": [
      "21504 [main] INFO serverStartup - Nc4Iosp: NetCDF-4 C library loaded (jna_path='/home/test/.snap/auxdata/netcdf_natives/8.0.5/amd64', libname='netcdf').\n",
      "21543 [main] INFO serverStartup - NetcdfLoader: set log level: old=0 new=0\n",
      "21543 [main] INFO serverStartup - Nc4Iosp: set log level: old=0 new=0\n"
     ]
    },
    {
     "name": "stdout",
     "output_type": "stream",
     "text": [
      "55%....67%....79%....90% done.\n"
     ]
    },
    {
     "name": "stderr",
     "output_type": "stream",
     "text": [
      "INFO:root:0\n",
      "INFO:root:2021-08-29 19:24:31.369057\n"
     ]
    },
    {
     "name": "stdout",
     "output_type": "stream",
     "text": [
      "start add netcdf information\n"
     ]
    },
    {
     "name": "stderr",
     "output_type": "stream",
     "text": [
      "INFO:root:Number of scenes found for processing: 7\n"
     ]
    },
    {
     "name": "stdout",
     "output_type": "stream",
     "text": [
      "start create netcdf stack\n",
      "\n",
      "Scene 1 of 7\n",
      "/home/test/Desktop/data2/step3/S1A_IW_SLC__1SDV_20210101T052626_20210101T052654_035940_0435A9_E0CB_GC_RC_No_Su_Co_speckle.nc\n",
      "\n",
      "Scene 2 of 7\n",
      "/home/test/Desktop/data2/step3/S1B_IW_SLC__1SDV_20210102T051747_20210102T051814_024971_02F8D2_6318_GC_RC_No_Su_Co_speckle.nc\n",
      "\n",
      "Scene 3 of 7\n",
      "/home/test/Desktop/data2/step3/S1B_IW_SLC__1SDV_20210103T170648_20210103T170715_024993_02F97C_C72A_GC_RC_No_Su_Co_speckle.nc\n",
      "\n",
      "Scene 4 of 7\n",
      "/home/test/Desktop/data2/step3/S1A_IW_SLC__1SDV_20210104T165913_20210104T165940_035991_043767_A0D0_GC_RC_No_Su_Co_speckle.nc\n",
      "\n",
      "Scene 5 of 7\n",
      "/home/test/Desktop/data2/step3/S1B_IW_SLC__1SDV_20210107T052547_20210107T052614_025044_02FB1E_E0E4_GC_RC_No_Su_Co_speckle.nc\n",
      "\n",
      "Scene 6 of 7\n",
      "/home/test/Desktop/data2/step3/S1A_IW_SLC__1SDV_20210108T051816_20210108T051844_036042_04393F_F99A_GC_RC_No_Su_Co_speckle.nc\n",
      "\n",
      "Scene 7 of 7\n",
      "/home/test/Desktop/data2/step3/S1B_IW_SLC__1SDV_20210110T165830_20210110T165857_025095_02FCB9_7015_GC_RC_No_Su_Co_speckle.nc\n"
     ]
    }
   ],
   "source": [
    "from sar_pre_processing.sar_pre_processor import *\n",
    "import warnings\n",
    "warnings.filterwarnings(\"ignore\")\n",
    "\n",
    "processing = SARPreProcessor(config='test_config_file.yaml')\n",
    "processing.create_processing_file_list()\n",
    "print('start step 1')\n",
    "processing.pre_process_step1()\n",
    "print('start step 2')\n",
    "processing.pre_process_step2()\n",
    "print('start step 3')\n",
    "processing.pre_process_step3()\n",
    "print('start add netcdf information')\n",
    "processing.add_netcdf_information()\n",
    "print('start create netcdf stack')\n",
    "processing.create_netcdf_stack()"
   ]
  },
  {
   "cell_type": "markdown",
   "metadata": {},
   "source": [
    "## 4. View processed data"
   ]
  },
  {
   "cell_type": "markdown",
   "metadata": {},
   "source": [
    "Load netcdf file with processed data"
   ]
  },
  {
   "cell_type": "code",
   "execution_count": 8,
   "metadata": {},
   "outputs": [
    {
     "name": "stdout",
     "output_type": "stream",
     "text": [
      "/home/test/Desktop/sar-pre-processing/docs/notebooks\n",
      "/home/test/Desktop/data2\n"
     ]
    }
   ],
   "source": [
    "import os\n",
    "print(os.getcwd())\n",
    "print(output_folder)"
   ]
  },
  {
   "cell_type": "code",
   "execution_count": 9,
   "metadata": {},
   "outputs": [],
   "source": [
    "from netCDF4 import Dataset\n",
    "import numpy as np\n",
    "\n",
    "my_example_nc_file = os.path.join(output_folder, 'data2.nc')\n",
    "data = Dataset(my_example_nc_file, mode='r') "
   ]
  },
  {
   "cell_type": "markdown",
   "metadata": {},
   "source": [
    "View information about dataset"
   ]
  },
  {
   "cell_type": "code",
   "execution_count": 10,
   "metadata": {},
   "outputs": [
    {
     "data": {
      "text/plain": [
       "<class 'netCDF4._netCDF4.Dataset'>\n",
       "root group (NETCDF4 data model, file format HDF5):\n",
       "    dimensions(sizes): lat(1603), lon(2403), time(7)\n",
       "    variables(dimensions): float32 time(time), float32 orbitdirection(time), float32 relorbit(time), float32 satellite(time), float32 lat(lat), float32 lon(lon), float32 theta(time, lat, lon), float32 sigma0_vv_norm_multi(time, lat, lon), float32 sigma0_vh_norm_multi(time, lat, lon), float32 sigma0_vv_multi(time, lat, lon), float32 sigma0_vh_multi(time, lat, lon), float32 sigma0_vv_single(time, lat, lon), float32 sigma0_vh_single(time, lat, lon), float32 sigma0_vv_norm_single(time, lat, lon), float32 sigma0_vh_norm_single(time, lat, lon)\n",
       "    groups: "
      ]
     },
     "execution_count": 10,
     "metadata": {},
     "output_type": "execute_result"
    }
   ],
   "source": [
    "data"
   ]
  },
  {
   "cell_type": "markdown",
   "metadata": {},
   "source": [
    "Read data from netcdf file"
   ]
  },
  {
   "cell_type": "code",
   "execution_count": 11,
   "metadata": {},
   "outputs": [],
   "source": [
    "data.variables['orbitdirection'][:]\n",
    "data.variables['time'][:]\n",
    "lons = data.variables['lon'][:]\n",
    "lats = data.variables['lat'][:]\n",
    "vv = data.variables['sigma0_vv_single'][:]\n",
    "\n",
    "vv_units = data.variables['sigma0_vv_single'].units"
   ]
  },
  {
   "cell_type": "markdown",
   "metadata": {},
   "source": [
    "Close netcdf file"
   ]
  },
  {
   "cell_type": "code",
   "execution_count": 12,
   "metadata": {},
   "outputs": [],
   "source": [
    "data.close()"
   ]
  },
  {
   "cell_type": "markdown",
   "metadata": {},
   "source": [
    "Plot vv polorized data"
   ]
  },
  {
   "cell_type": "code",
   "execution_count": 13,
   "metadata": {},
   "outputs": [
    {
     "data": {
      "application/vnd.jupyter.widget-view+json": {
       "model_id": "61423719a0e0428b840b0ce0d1ae46ae",
       "version_major": 2,
       "version_minor": 0
      },
      "text/plain": [
       "interactive(children=(IntSlider(value=3, description='x', max=6), Output()), _dom_classes=('widget-interact',)…"
      ]
     },
     "execution_count": 13,
     "metadata": {},
     "output_type": "execute_result"
    },
    {
     "data": {
      "image/png": "[encoded data removed]",
      "text/plain": [
       "<Figure size 432x288 with 2 Axes>"
      ]
     },
     "metadata": {
      "needs_background": "light"
     },
     "output_type": "display_data"
    }
   ],
   "source": [
    "%matplotlib inline\n",
    "from ipywidgets import interactive\n",
    "import matplotlib.pyplot as plt\n",
    "import numpy as np\n",
    "\n",
    "def f(x):\n",
    "    # Problem: border pixel might be zero or negative\n",
    "    # pixel eqal or smaller than zero are set to nan\n",
    "    array = np.copy(vv[x])\n",
    "    array[array <= 0] = np.nan\n",
    "    # plot backscatter data in dB scale\n",
    "    plt.imshow(10*np.log10(array))\n",
    "    cbar = plt.colorbar()\n",
    "    cbar.set_label('dB')\n",
    "    plt.clim(-25, 0)\n",
    "\n",
    "interactive_plot = interactive(f, x=(0,len(vv)-1))\n",
    "interactive_plot"
   ]
  },
  {
   "cell_type": "code",
   "execution_count": null,
   "metadata": {},
   "outputs": [],
   "source": []
  }
 ],
 "metadata": {
  "kernelspec": {
   "display_name": "Python 3 (ipykernel)",
   "language": "python",
   "name": "python3"
  },
  "language_info": {
   "codemirror_mode": {
    "name": "ipython",
    "version": 3
   },
   "file_extension": ".py",
   "mimetype": "text/x-python",
   "name": "python",
   "nbconvert_exporter": "python",
   "pygments_lexer": "ipython3",
   "version": "3.8.10"
  }
 },
 "nbformat": 4,
 "nbformat_minor": 2
}
