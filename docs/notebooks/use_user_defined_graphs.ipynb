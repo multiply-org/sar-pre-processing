{
 "cells": [
  {
   "cell_type": "markdown",
   "metadata": {},
   "source": [
    "# Example 3: Use user defined processing graphs to pre-process a time series of Sentinel-1 images"
   ]
  },
  {
   "cell_type": "markdown",
   "metadata": {},
   "source": [
    "## 1. Requirements\n",
    "\n",
    "- Installation of SenSARP\n",
    "- Installation of ESA's SNAP Toolbox version >8.0.3\n",
    "    - Currently only SNAP version 8.0 can be downloaded from the ESA website (https://step.esa.int/main/download/snap-download/). To update SNAP to a version >8.0.3 please start the SNAP software. You will be asked if you want to search for update. After the updates are installed you need to restart SNAP to initialize the installed updates.\n",
    "    - SNAP Toolbox need libgfortran for specific operations but currently libgfortran is not installed during the installation process of SNAP therefore you might use ```sudo apt-get install gfortran```\n",
    "\n",
    "- Sentinel-1 SLC data\n",
    "    - Instruction how to download Sentinel 1 data are given in Section 2"
   ]
  },
  {
   "cell_type": "markdown",
   "metadata": {},
   "source": [
    "## 2. Download sample data from Sentinel Data Hub\n",
    "### Option 1: Download data from Sentinel Data Hub manually or via python package sentinelsat"
   ]
  },
  {
   "cell_type": "markdown",
   "metadata": {},
   "source": [
    " <span style=\"color:red\">Create Account (https://scihub.copernicus.eu/dhus/#/self-registration)</span>. (**<span style=\"color:red\">Attention: Problem by using Copernicus Open Access Hub might be that older data is offline and need to be triggered first</span>)**. More information can be found at https://scihub.copernicus.eu/userguide/DataRestoration. Instruction to manually download data from Copernicus Open Access Hub can be found at https://blogs.fu-berlin.de/reseda/esa-scihub/. You can also try to download the data via python package sentinelsat"
   ]
  },
  {
   "cell_type": "code",
   "execution_count": 1,
   "metadata": {},
   "outputs": [],
   "source": [
    "# connect to the API\n",
    "from sentinelsat import SentinelAPI, read_geojson, geojson_to_wkt\n",
    "from datetime import date\n",
    "user = 'user'\n",
    "password = 'password'\n",
    "# initialize settings\n",
    "api = SentinelAPI(user, password)"
   ]
  },
  {
   "cell_type": "markdown",
   "metadata": {},
   "source": [
    "Search for available data"
   ]
  },
  {
   "cell_type": "code",
   "execution_count": 2,
   "metadata": {},
   "outputs": [
    {
     "name": "stderr",
     "output_type": "stream",
     "text": [
      "INFO:sentinelsat.SentinelAPI:Found 2 products\n"
     ]
    },
    {
     "name": "stdout",
     "output_type": "stream",
     "text": [
      "Following products will be downloaded\n",
      "['S1A_IW_GRDH_1SDV_20210707T051822_20210707T051847_038667_04901E_1B6B'\n",
      " 'S1B_IW_GRDH_1SDV_20210706T052551_20210706T052616_027669_034D60_888E']\n",
      "These 2 product need 3.28 Gb of disk space\n"
     ]
    }
   ],
   "source": [
    "# search by polygon (MNI test site coordinates), time, and SciHub query keywords\n",
    "footprint = geojson_to_wkt(read_geojson('coordinates_mni.geojson'))\n",
    "products = api.query(footprint,\n",
    "                     date=('20210704', '20210708'),\n",
    "                     platformname='Sentinel-1',\n",
    "                     producttype='GRD')\n",
    "print('Following products will be downloaded')\n",
    "print(api.to_dataframe(products).title.values)\n",
    "\n",
    "print('These {} product need {} Gb of disk space'.format(len(products), api.get_products_size(products)))"
   ]
  },
  {
   "cell_type": "markdown",
   "metadata": {},
   "source": [
    "Start download process (**<span style=\"color:red\">Attention: might take a while and data will requries some free disk space</span>)**"
   ]
  },
  {
   "cell_type": "code",
   "execution_count": 3,
   "metadata": {},
   "outputs": [
    {
     "name": "stderr",
     "output_type": "stream",
     "text": [
      "INFO:sentinelsat.SentinelAPI:Will download 2 products using 4 workers\n"
     ]
    },
    {
     "data": {
      "application/vnd.jupyter.widget-view+json": {
       "model_id": "6a606472270644a280f1b09d9eedff8c",
       "version_major": 2,
       "version_minor": 0
      },
      "text/plain": [
       "Downloading products:   0%|          | 0/2 [00:00<?, ?product/s]"
      ]
     },
     "metadata": {},
     "output_type": "display_data"
    },
    {
     "data": {
      "application/vnd.jupyter.widget-view+json": {
       "model_id": "abd1ec9ebbc243d595ba0662e926e6cc",
       "version_major": 2,
       "version_minor": 0
      },
      "text/plain": [
       "Downloading S1B_IW_GRDH_1SDV_20210706T052551_20210706T052616_027669_034D60_888E.zip:   0%|          | 0.00/986…"
      ]
     },
     "metadata": {},
     "output_type": "display_data"
    },
    {
     "data": {
      "application/vnd.jupyter.widget-view+json": {
       "model_id": "24314bb911fb4ba5aa82851454e7a8cd",
       "version_major": 2,
       "version_minor": 0
      },
      "text/plain": [
       "Downloading S1A_IW_GRDH_1SDV_20210707T051822_20210707T051847_038667_04901E_1B6B.zip:   0%|          | 0.00/983…"
      ]
     },
     "metadata": {},
     "output_type": "display_data"
    },
    {
     "data": {
      "application/vnd.jupyter.widget-view+json": {
       "model_id": "",
       "version_major": 2,
       "version_minor": 0
      },
      "text/plain": [
       "MD5 checksumming:   0%|          | 0.00/986M [00:00<?, ?B/s]"
      ]
     },
     "metadata": {},
     "output_type": "display_data"
    },
    {
     "data": {
      "application/vnd.jupyter.widget-view+json": {
       "model_id": "",
       "version_major": 2,
       "version_minor": 0
      },
      "text/plain": [
       "MD5 checksumming:   0%|          | 0.00/983M [00:00<?, ?B/s]"
      ]
     },
     "metadata": {},
     "output_type": "display_data"
    },
    {
     "data": {
      "text/plain": [
       "ResultTuple(downloaded={'ce796d52-4f70-48f0-87bf-d698ec372e9f': {'id': 'ce796d52-4f70-48f0-87bf-d698ec372e9f', 'title': 'S1B_IW_GRDH_1SDV_20210706T052551_20210706T052616_027669_034D60_888E', 'size': 986204913, 'md5': '56c6d22b25610fb30b01212d0b35101b', 'date': datetime.datetime(2021, 7, 6, 5, 25, 51, 753000), 'footprint': 'POLYGON((12.682894 47.832607,9.216668 48.236717,9.567789 49.733212,13.138339 49.327972,12.682894 47.832607))', 'url': \"https://apihub.copernicus.eu/apihub/odata/v1/Products('ce796d52-4f70-48f0-87bf-d698ec372e9f')/$value\", 'Online': True, 'Creation Date': datetime.datetime(2021, 7, 6, 7, 26, 2, 888000), 'Ingestion Date': datetime.datetime(2021, 7, 6, 7, 24, 14, 101000), 'quicklook_url': \"https://apihub.copernicus.eu/apihub/odata/v1/Products('ce796d52-4f70-48f0-87bf-d698ec372e9f')/Products('Quicklook')/$value\", 'path': '/home/test/Desktop/data4/S1B_IW_GRDH_1SDV_20210706T052551_20210706T052616_027669_034D60_888E.zip', 'downloaded_bytes': 986204913}, 'caf75225-cb85-4410-81cd-ff6ef52256ed': {'id': 'caf75225-cb85-4410-81cd-ff6ef52256ed', 'title': 'S1A_IW_GRDH_1SDV_20210707T051822_20210707T051847_038667_04901E_1B6B', 'size': 983271059, 'md5': '4ba73f80273607ea8106cce310ba4d93', 'date': datetime.datetime(2021, 7, 7, 5, 18, 22, 410000), 'footprint': 'POLYGON((14.717325 47.687527,11.218726 48.096413,11.575086 49.592331,15.178372 49.182144,14.717325 47.687527))', 'url': \"https://apihub.copernicus.eu/apihub/odata/v1/Products('caf75225-cb85-4410-81cd-ff6ef52256ed')/$value\", 'Online': True, 'Creation Date': datetime.datetime(2021, 7, 7, 10, 32, 2, 46000), 'Ingestion Date': datetime.datetime(2021, 7, 7, 10, 30, 11, 282000), 'quicklook_url': \"https://apihub.copernicus.eu/apihub/odata/v1/Products('caf75225-cb85-4410-81cd-ff6ef52256ed')/Products('Quicklook')/$value\", 'path': '/home/test/Desktop/data4/S1A_IW_GRDH_1SDV_20210707T051822_20210707T051847_038667_04901E_1B6B.zip', 'downloaded_bytes': 983271059}}, retrieval_triggered={}, failed={})"
      ]
     },
     "execution_count": 4,
     "metadata": {},
     "output_type": "execute_result"
    }
   ],
   "source": [
    "# download all results from the search\n",
    "# files will be downloaded to specified path\n",
    "import os\n",
    "path = os.path.expanduser('~/Desktop/data4')\n",
    "try:\n",
    "    os.makedirs(path)\n",
    "except: FileExistsError\n",
    "api.download_all(products, path)"
   ]
  },
  {
   "cell_type": "markdown",
   "metadata": {},
   "source": [
    "### Option 2: Download data from NASA Earth Data Search"
   ]
  },
  {
   "cell_type": "markdown",
   "metadata": {},
   "source": [
    "You can search for Sentinel-1 data at https://search.asf.alaska.edu/. A NASA EOSDIS Earthdata Login account is required for downloading data and tools from ASF. Registering for an Earthdata Login account is free (https://urs.earthdata.nasa.gov/home). Instructions how to download data from ASF can be found at https://asf.alaska.edu/wp-content/uploads/2019/02/asf_datarecipe_bulk_download_from_vertex_python_script_v1.pdf."
   ]
  },
  {
   "cell_type": "markdown",
   "metadata": {},
   "source": [
    "## 3. Use user defined xml graph to process Sentinel-1 data (test case with Sentinel-1 GRD product)"
   ]
  },
  {
   "cell_type": "markdown",
   "metadata": {},
   "source": [
    "Set paths for\n",
    "\n",
    "- input_folder (path to stored Sentinel-1 SLC data (zip files) e.g. \"~/Downloads\")\n",
    "- output_folder (path where processed data will be stored e.g. \"~/output\")\n",
    "- gpt_loction (gpt is located in the bin folder of your SNAP installation)' "
   ]
  },
  {
   "cell_type": "code",
   "execution_count": 5,
   "metadata": {},
   "outputs": [],
   "source": [
    "input_folder = path\n",
    "output_folder = path\n",
    "gpt_location = os.path.expanduser('~/snap/bin/gpt')"
   ]
  },
  {
   "cell_type": "markdown",
   "metadata": {},
   "source": [
    "Create config file with information about input, output and gpt location"
   ]
  },
  {
   "cell_type": "code",
   "execution_count": 6,
   "metadata": {},
   "outputs": [],
   "source": [
    "import yaml\n",
    "\n",
    "with open('sample_config_file.yaml') as stream:\n",
    "   data = yaml.safe_load(stream)\n",
    "\n",
    "data['input_folder'] = input_folder\n",
    "data['output_folder'] = output_folder\n",
    "data['gpt'] = gpt_location\n",
    "\n",
    "with open('test_config_file.yaml', 'wb') as stream:\n",
    "   yaml.safe_dump(data, stream, default_flow_style=False, \n",
    "                  explicit_start=True, allow_unicode=True, encoding='utf-8')"
   ]
  },
  {
   "cell_type": "markdown",
   "metadata": {},
   "source": [
    "Expert user might create their own processing chain and use the functionally of SenSARP to automate the processing on scale \n",
    "\n",
    "1. Create a user defined xml graph via SNAP’s Graph Builder\n",
    "    - information how to use SNAP’s Graph Builder can be found at the step forum (https://forum.step.esa.int/t/graph-builder/5403)\n",
    "2. Modify user defined xml graph to be used by SenSARP\n",
    "    - Needed modification\n",
    "        - Placeholder for input image within xml graph need to be specified\n",
    "        - Placeholder for output image within xml graph need to be specified\n",
    "        - If subset operator is used within user defined xml graph a placeholder for subset extent need to be specified\n"
   ]
  },
  {
   "cell_type": "markdown",
   "metadata": {},
   "source": [
    "Additional functionality of SenSARP that can be used with user defined xml graph\n",
    "\n",
    "- Filter option (year, area of interest)\n",
    "- default pre_process_step2 (co-registration of time series images)\n",
    "- creation of netCDF4 stack containing all processed images and information about orbit direction, relative orbit, satellite name"
   ]
  },
  {
   "cell_type": "markdown",
   "metadata": {},
   "source": [
    "Find and show xml parts that need to be changed"
   ]
  },
  {
   "cell_type": "code",
   "execution_count": 7,
   "metadata": {},
   "outputs": [
    {
     "name": "stdout",
     "output_type": "stream",
     "text": [
      "<?xml version='1.0' encoding='utf8'?>\n",
      "<node id=\"Read\">\n",
      "    <operator>Read</operator>\n",
      "    <sources />\n",
      "    <parameters class=\"com.bc.ceres.binding.dom.XppDomElement\" />\n",
      "  </node>\n",
      "  \n",
      "<?xml version='1.0' encoding='utf8'?>\n",
      "<node id=\"Write\">\n",
      "    <operator>Write</operator>\n",
      "    <sources>\n",
      "      <sourceProduct refid=\"Subset\" />\n",
      "    </sources>\n",
      "    <parameters class=\"com.bc.ceres.binding.dom.XppDomElement\">\n",
      "      <file>/home/wodan/target.dim</file>\n",
      "      <formatName>BEAM-DIMAP</formatName>\n",
      "    </parameters>\n",
      "  </node>\n",
      "  \n",
      "<?xml version='1.0' encoding='utf8'?>\n",
      "<node id=\"Subset\">\n",
      "    <operator>Subset</operator>\n",
      "    <sources>\n",
      "      <sourceProduct refid=\"Terrain-Correction\" />\n",
      "    </sources>\n",
      "    <parameters class=\"com.bc.ceres.binding.dom.XppDomElement\">\n",
      "      <sourceBands />\n",
      "      <region>0,0,0,0</region>\n",
      "      <referenceBand />\n",
      "      <geoRegion />\n",
      "      <subSamplingX>1</subSamplingX>\n",
      "      <subSamplingY>1</subSamplingY>\n",
      "      <fullSwath>false</fullSwath>\n",
      "      <tiePointGridNames />\n",
      "      <copyMetadata>true</copyMetadata>\n",
      "    </parameters>\n",
      "  </node>\n",
      "  \n"
     ]
    }
   ],
   "source": [
    "# Load xml graph\n",
    "import xml.etree.ElementTree as ETree\n",
    "user_xml_graph = '/home/test/Desktop/sar-pre-processing/sar_pre_processing/user_defined_graphs/example_of_expert_user.xml'\n",
    "tree = ETree.parse(user_xml_graph)\n",
    "root = tree.getroot()\n",
    "\n",
    "# find Operators Read, Write and Subset\n",
    "read = root.find(\"./node/[operator='Read']\")\n",
    "read2 = read.find(\"./parameters[@class='com.bc.ceres.binding.dom.XppDomElement']\")\n",
    "write = root.find(\"./node/[operator='Write']\")\n",
    "subset = root.find(\"./node/[operator='Subset']\")\n",
    "\n",
    "# Old Version of user defined xml graph\n",
    "print(ETree.tostring(read, encoding='utf8').decode('utf8'))\n",
    "print(ETree.tostring(write, encoding='utf8').decode('utf8'))\n",
    "print(ETree.tostring(subset, encoding='utf8').decode('utf8'))"
   ]
  },
  {
   "cell_type": "markdown",
   "metadata": {},
   "source": [
    "Modify xml parts so the xml-graph can be used by SenSARP"
   ]
  },
  {
   "cell_type": "code",
   "execution_count": 8,
   "metadata": {},
   "outputs": [
    {
     "name": "stdout",
     "output_type": "stream",
     "text": [
      "<?xml version='1.0' encoding='utf8'?>\n",
      "<node id=\"Read\">\n",
      "    <operator>Read</operator>\n",
      "    <sources />\n",
      "    <parameters class=\"com.bc.ceres.binding.dom.XppDomElement\"><file>$input</file></parameters>\n",
      "  </node>\n",
      "  \n",
      "<?xml version='1.0' encoding='utf8'?>\n",
      "<node id=\"Write\">\n",
      "    <operator>Write</operator>\n",
      "    <sources>\n",
      "      <sourceProduct refid=\"Subset\" />\n",
      "    </sources>\n",
      "    <parameters class=\"com.bc.ceres.binding.dom.XppDomElement\">\n",
      "      <file>$output</file>\n",
      "      <formatName>BEAM-DIMAP</formatName>\n",
      "    </parameters>\n",
      "  </node>\n",
      "  \n",
      "<?xml version='1.0' encoding='utf8'?>\n",
      "<node id=\"Subset\">\n",
      "    <operator>Subset</operator>\n",
      "    <sources>\n",
      "      <sourceProduct refid=\"Terrain-Correction\" />\n",
      "    </sources>\n",
      "    <parameters class=\"com.bc.ceres.binding.dom.XppDomElement\">\n",
      "      <sourceBands />\n",
      "      <region>0,0,0,0</region>\n",
      "      <referenceBand />\n",
      "      <geoRegion>$area</geoRegion>\n",
      "      <subSamplingX>1</subSamplingX>\n",
      "      <subSamplingY>1</subSamplingY>\n",
      "      <fullSwath>false</fullSwath>\n",
      "      <tiePointGridNames />\n",
      "      <copyMetadata>true</copyMetadata>\n",
      "    </parameters>\n",
      "  </node>\n",
      "  \n"
     ]
    }
   ],
   "source": [
    "#Apply changes to user defined xml graph\n",
    "ETree.SubElement(read2, \"file\").text = \"$input\"\n",
    "for output in write.iter('file'):\n",
    "    output_new = '$output'\n",
    "    output.text = output_new\n",
    "for area in subset.iter('geoRegion'):\n",
    "    area_new = '$area'\n",
    "    area.text = area_new\n",
    "\n",
    "tree.write('/home/test/Desktop/sar-pre-processing/sar_pre_processing/user_defined_graphs/example_of_expert_user_modi.xml')\n",
    "\n",
    "# print modified version of operators Read, Write and Subset\n",
    "print(ETree.tostring(read, encoding='utf8').decode('utf8'))\n",
    "print(ETree.tostring(write, encoding='utf8').decode('utf8'))\n",
    "print(ETree.tostring(subset, encoding='utf8').decode('utf8'))"
   ]
  },
  {
   "cell_type": "markdown",
   "metadata": {},
   "source": [
    "Set additional config options"
   ]
  },
  {
   "cell_type": "code",
   "execution_count": 9,
   "metadata": {},
   "outputs": [],
   "source": [
    "with open('test_config_file.yaml') as stream:\n",
    "   data = yaml.safe_load(stream)\n",
    "\n",
    "# Filter option\n",
    "## Filter via year of interest\n",
    "data['year'] = '2021'\n",
    "\n",
    "## Define region of interest\n",
    "data['region']['lr']['lat'] = 48.2 # lower right latitude\n",
    "data['region']['lr']['lon'] = 11.9 # lower right longitude\n",
    "data['region']['ul']['lat'] = 48.4 # upper left latitude\n",
    "data['region']['ul']['lon'] = 11.6 # upper left longitude\n",
    "data['region']['subset'] = 'yes'\n",
    "\n",
    "## Set options to use user defined xml graph\n",
    "data['use_user_defined_graphs'] = 'yes'\n",
    "data['xml_graph_path'] = '/media/tweiss/Daten/NDVI'\n",
    "data['pre_process_step1'] = 'ndvi.xml'\n",
    "\n",
    "with open('test_config_file.yaml', 'wb') as stream:\n",
    "   yaml.safe_dump(data, stream, default_flow_style=False,\n",
    "                  explicit_start=True, allow_unicode=True, encoding='utf-8')"
   ]
  },
  {
   "cell_type": "markdown",
   "metadata": {},
   "source": [
    "Start pre-processing steps"
   ]
  },
  {
   "cell_type": "code",
   "execution_count": 23,
   "metadata": {},
   "outputs": [],
   "source": [
    "from sar_pre_processing.sar_pre_processor import *\n",
    "import warnings\n",
    "warnings.filterwarnings(\"ignore\")\n",
    "\n",
    "processing = SARPreProcessor(config='test_config_file.yaml')"
   ]
  },
  {
   "cell_type": "code",
   "execution_count": 94,
   "metadata": {},
   "outputs": [
    {
     "name": "stdout",
     "output_type": "stream",
     "text": [
      "54\n"
     ]
    }
   ],
   "source": [
    "import os\n",
    "from fnmatch import fnmatch\n",
    "\n",
    "input_folder = '/media/nas_data/Tom/Data_BKP/Data/Sentinel/S2_2018_new'\n",
    "pattern = '*B11.tif'\n",
    "pattern2 = '*B8.tif'\n",
    "file_list = []\n",
    "file_list2 = []\n",
    "for path, subdirs, files in os.walk(input_folder):\n",
    "    for name in files:\n",
    "        if fnmatch(name, pattern):\n",
    "            file_list.append(os.path.join(path, name))\n",
    "        if fnmatch(name, pattern2):\n",
    "            file_list.append(os.path.join(path, name))            \n",
    "            \n",
    "            \n",
    "            \n",
    "#pattern = '*B11.tif'\n",
    "#for path, subdirs, files in os.walk(input_folder):\n",
    "#    for name in files:\n",
    "#        if fnmatch(name, pattern):\n",
    "#            file_list2.append(os.path.join(path, name))\n",
    "            \n",
    "            \n",
    "print(len(file_list))\n",
    "#print(len(file_list2))\n",
    "filelist = [[],file_list]"
   ]
  },
  {
   "cell_type": "code",
   "execution_count": 95,
   "metadata": {},
   "outputs": [
    {
     "data": {
      "text/plain": [
       "['/media/nas_data/Tom/Data_BKP/Data/Sentinel/S2_2018_new/COPERNICUS_S2_20180407T102019_20180407T102020_T32UPU_atmcorr/COPERNICUS_S2_20180407T102019_20180407T102020_T32UPU.B11.tif',\n",
       " '/media/nas_data/Tom/Data_BKP/Data/Sentinel/S2_2018_new/COPERNICUS_S2_20180407T102019_20180407T102020_T32UPU_atmcorr/COPERNICUS_S2_20180407T102019_20180407T102020_T32UPU.B8.tif',\n",
       " '/media/nas_data/Tom/Data_BKP/Data/Sentinel/S2_2018_new/COPERNICUS_S2_20180422T102031_20180422T102115_T32UPU_atmcorr/COPERNICUS_S2_20180422T102031_20180422T102115_T32UPU.B8.tif',\n",
       " '/media/nas_data/Tom/Data_BKP/Data/Sentinel/S2_2018_new/COPERNICUS_S2_20180422T102031_20180422T102115_T32UPU_atmcorr/COPERNICUS_S2_20180422T102031_20180422T102115_T32UPU.B11.tif',\n",
       " '/media/nas_data/Tom/Data_BKP/Data/Sentinel/S2_2018_new/COPERNICUS_S2_20180701T102021_20180701T102404_T32UPU_atmcorr/COPERNICUS_S2_20180701T102021_20180701T102404_T32UPU.B8.tif',\n",
       " '/media/nas_data/Tom/Data_BKP/Data/Sentinel/S2_2018_new/COPERNICUS_S2_20180701T102021_20180701T102404_T32UPU_atmcorr/COPERNICUS_S2_20180701T102021_20180701T102404_T32UPU.B11.tif',\n",
       " '/media/nas_data/Tom/Data_BKP/Data/Sentinel/S2_2018_new/COPERNICUS_S2_20180713T101029_20180713T101023_T32UPU_atmcorr/COPERNICUS_S2_20180713T101029_20180713T101023_T32UPU.B11.tif',\n",
       " '/media/nas_data/Tom/Data_BKP/Data/Sentinel/S2_2018_new/COPERNICUS_S2_20180713T101029_20180713T101023_T32UPU_atmcorr/COPERNICUS_S2_20180713T101029_20180713T101023_T32UPU.B8.tif',\n",
       " '/media/nas_data/Tom/Data_BKP/Data/Sentinel/S2_2018_new/COPERNICUS_S2_20180603T101019_20180603T101329_T32UPU_atmcorr/COPERNICUS_S2_20180603T101019_20180603T101329_T32UPU.B11.tif',\n",
       " '/media/nas_data/Tom/Data_BKP/Data/Sentinel/S2_2018_new/COPERNICUS_S2_20180603T101019_20180603T101329_T32UPU_atmcorr/COPERNICUS_S2_20180603T101019_20180603T101329_T32UPU.B8.tif',\n",
       " '/media/nas_data/Tom/Data_BKP/Data/Sentinel/S2_2018_new/COPERNICUS_S2_20181021T101039_20181021T101201_T32UPU_atmcorr/COPERNICUS_S2_20181021T101039_20181021T101201_T32UPU.B8.tif',\n",
       " '/media/nas_data/Tom/Data_BKP/Data/Sentinel/S2_2018_new/COPERNICUS_S2_20181021T101039_20181021T101201_T32UPU_atmcorr/COPERNICUS_S2_20181021T101039_20181021T101201_T32UPU.B11.tif',\n",
       " '/media/nas_data/Tom/Data_BKP/Data/Sentinel/S2_2018_new/COPERNICUS_S2_20180817T101021_20180817T101024_T32UPU_atmcorr/COPERNICUS_S2_20180817T101021_20180817T101024_T32UPU.B11.tif',\n",
       " '/media/nas_data/Tom/Data_BKP/Data/Sentinel/S2_2018_new/COPERNICUS_S2_20180817T101021_20180817T101024_T32UPU_atmcorr/COPERNICUS_S2_20180817T101021_20180817T101024_T32UPU.B8.tif',\n",
       " '/media/nas_data/Tom/Data_BKP/Data/Sentinel/S2_2018_new/COPERNICUS_S2_20180512T102031_20180512T102148_T32UPU_atmcorr/COPERNICUS_S2_20180512T102031_20180512T102148_T32UPU.B8.tif',\n",
       " '/media/nas_data/Tom/Data_BKP/Data/Sentinel/S2_2018_new/COPERNICUS_S2_20180512T102031_20180512T102148_T32UPU_atmcorr/COPERNICUS_S2_20180512T102031_20180512T102148_T32UPU.B11.tif',\n",
       " '/media/nas_data/Tom/Data_BKP/Data/Sentinel/S2_2018_new/COPERNICUS_S2_20180822T101019_20180822T101321_T32UPU_atmcorr/COPERNICUS_S2_20180822T101019_20180822T101321_T32UPU.B11.tif',\n",
       " '/media/nas_data/Tom/Data_BKP/Data/Sentinel/S2_2018_new/COPERNICUS_S2_20180822T101019_20180822T101321_T32UPU_atmcorr/COPERNICUS_S2_20180822T101019_20180822T101321_T32UPU.B8.tif',\n",
       " '/media/nas_data/Tom/Data_BKP/Data/Sentinel/S2_2018_new/COPERNICUS_S2_20180124T101309_20180124T101352_T32UPU_atmcorr/COPERNICUS_S2_20180124T101309_20180124T101352_T32UPU.B8.tif',\n",
       " '/media/nas_data/Tom/Data_BKP/Data/Sentinel/S2_2018_new/COPERNICUS_S2_20180124T101309_20180124T101352_T32UPU_atmcorr/COPERNICUS_S2_20180124T101309_20180124T101352_T32UPU.B11.tif',\n",
       " '/media/nas_data/Tom/Data_BKP/Data/Sentinel/S2_2018_new/COPERNICUS_S2_20181014T102019_20181014T102627_T32UPU_atmcorr/COPERNICUS_S2_20181014T102019_20181014T102627_T32UPU.B11.tif',\n",
       " '/media/nas_data/Tom/Data_BKP/Data/Sentinel/S2_2018_new/COPERNICUS_S2_20181014T102019_20181014T102627_T32UPU_atmcorr/COPERNICUS_S2_20181014T102019_20181014T102627_T32UPU.B8.tif',\n",
       " '/media/nas_data/Tom/Data_BKP/Data/Sentinel/S2_2018_new/COPERNICUS_S2_20180419T101031_20180419T101457_T32UPU_atmcorr/COPERNICUS_S2_20180419T101031_20180419T101457_T32UPU.B11.tif',\n",
       " '/media/nas_data/Tom/Data_BKP/Data/Sentinel/S2_2018_new/COPERNICUS_S2_20180419T101031_20180419T101457_T32UPU_atmcorr/COPERNICUS_S2_20180419T101031_20180419T101457_T32UPU.B8.tif',\n",
       " '/media/nas_data/Tom/Data_BKP/Data/Sentinel/S2_2018_new/COPERNICUS_S2_20181026T101111_20181026T101108_T32UPU_atmcorr/COPERNICUS_S2_20181026T101111_20181026T101108_T32UPU.B11.tif',\n",
       " '/media/nas_data/Tom/Data_BKP/Data/Sentinel/S2_2018_new/COPERNICUS_S2_20181026T101111_20181026T101108_T32UPU_atmcorr/COPERNICUS_S2_20181026T101111_20181026T101108_T32UPU.B8.tif',\n",
       " '/media/nas_data/Tom/Data_BKP/Data/Sentinel/S2_2018_new/COPERNICUS_S2_20180916T101021_20180916T101512_T32UPU_atmcorr/COPERNICUS_S2_20180916T101021_20180916T101512_T32UPU.B11.tif',\n",
       " '/media/nas_data/Tom/Data_BKP/Data/Sentinel/S2_2018_new/COPERNICUS_S2_20180916T101021_20180916T101512_T32UPU_atmcorr/COPERNICUS_S2_20180916T101021_20180916T101512_T32UPU.B8.tif',\n",
       " '/media/nas_data/Tom/Data_BKP/Data/Sentinel/S2_2018_new/COPERNICUS_S2_20181011T101019_20181011T101020_T32UPU_atmcorr/COPERNICUS_S2_20181011T101019_20181011T101020_T32UPU.B8.tif',\n",
       " '/media/nas_data/Tom/Data_BKP/Data/Sentinel/S2_2018_new/COPERNICUS_S2_20181011T101019_20181011T101020_T32UPU_atmcorr/COPERNICUS_S2_20181011T101019_20181011T101020_T32UPU.B11.tif',\n",
       " '/media/nas_data/Tom/Data_BKP/Data/Sentinel/S2_2018_new/COPERNICUS_S2_20180507T102019_20180507T102648_T32UPU_atmcorr/COPERNICUS_S2_20180507T102019_20180507T102648_T32UPU.B11.tif',\n",
       " '/media/nas_data/Tom/Data_BKP/Data/Sentinel/S2_2018_new/COPERNICUS_S2_20180507T102019_20180507T102648_T32UPU_atmcorr/COPERNICUS_S2_20180507T102019_20180507T102648_T32UPU.B8.tif',\n",
       " '/media/nas_data/Tom/Data_BKP/Data/Sentinel/S2_2018_new/COPERNICUS_S2_20180731T102021_20180731T102701_T32UPU_atmcorr/COPERNICUS_S2_20180731T102021_20180731T102701_T32UPU.B11.tif',\n",
       " '/media/nas_data/Tom/Data_BKP/Data/Sentinel/S2_2018_new/COPERNICUS_S2_20180731T102021_20180731T102701_T32UPU_atmcorr/COPERNICUS_S2_20180731T102021_20180731T102701_T32UPU.B8.tif',\n",
       " '/media/nas_data/Tom/Data_BKP/Data/Sentinel/S2_2018_new/COPERNICUS_S2_20180213T101119_20180213T101559_T32UPU_atmcorr/COPERNICUS_S2_20180213T101119_20180213T101559_T32UPU.B11.tif',\n",
       " '/media/nas_data/Tom/Data_BKP/Data/Sentinel/S2_2018_new/COPERNICUS_S2_20180213T101119_20180213T101559_T32UPU_atmcorr/COPERNICUS_S2_20180213T101119_20180213T101559_T32UPU.B8.tif',\n",
       " '/media/nas_data/Tom/Data_BKP/Data/Sentinel/S2_2018_new/COPERNICUS_S2_20181016T101021_20181016T101021_T32UPU_atmcorr/COPERNICUS_S2_20181016T101021_20181016T101021_T32UPU.B11.tif',\n",
       " '/media/nas_data/Tom/Data_BKP/Data/Sentinel/S2_2018_new/COPERNICUS_S2_20181016T101021_20181016T101021_T32UPU_atmcorr/COPERNICUS_S2_20181016T101021_20181016T101021_T32UPU.B8.tif',\n",
       " '/media/nas_data/Tom/Data_BKP/Data/Sentinel/S2_2018_new/COPERNICUS_S2_20180812T101019_20180812T101124_T32UPU_atmcorr/COPERNICUS_S2_20180812T101019_20180812T101124_T32UPU.B11.tif',\n",
       " '/media/nas_data/Tom/Data_BKP/Data/Sentinel/S2_2018_new/COPERNICUS_S2_20180812T101019_20180812T101124_T32UPU_atmcorr/COPERNICUS_S2_20180812T101019_20180812T101124_T32UPU.B8.tif',\n",
       " '/media/nas_data/Tom/Data_BKP/Data/Sentinel/S2_2018_new/COPERNICUS_S2_20180820T102021_20180820T102358_T32UPU_atmcorr/COPERNICUS_S2_20180820T102021_20180820T102358_T32UPU.B11.tif',\n",
       " '/media/nas_data/Tom/Data_BKP/Data/Sentinel/S2_2018_new/COPERNICUS_S2_20180820T102021_20180820T102358_T32UPU_atmcorr/COPERNICUS_S2_20180820T102021_20180820T102358_T32UPU.B8.tif',\n",
       " '/media/nas_data/Tom/Data_BKP/Data/Sentinel/S2_2018_new/COPERNICUS_S2_20180228T101021_20180228T101021_T32UPU_atmcorr/COPERNICUS_S2_20180228T101021_20180228T101021_T32UPU.B8.tif',\n",
       " '/media/nas_data/Tom/Data_BKP/Data/Sentinel/S2_2018_new/COPERNICUS_S2_20180228T101021_20180228T101021_T32UPU_atmcorr/COPERNICUS_S2_20180228T101021_20180228T101021_T32UPU.B11.tif',\n",
       " '/media/nas_data/Tom/Data_BKP/Data/Sentinel/S2_2018_new/COPERNICUS_S2_20180827T101021_20180827T101023_T32UPU_atmcorr/COPERNICUS_S2_20180827T101021_20180827T101023_T32UPU.B11.tif',\n",
       " '/media/nas_data/Tom/Data_BKP/Data/Sentinel/S2_2018_new/COPERNICUS_S2_20180827T101021_20180827T101023_T32UPU_atmcorr/COPERNICUS_S2_20180827T101021_20180827T101023_T32UPU.B8.tif',\n",
       " '/media/nas_data/Tom/Data_BKP/Data/Sentinel/S2_2018_new/COPERNICUS_S2_20181004T102019_20181004T102018_T32UPU_atmcorr/COPERNICUS_S2_20181004T102019_20181004T102018_T32UPU.B11.tif',\n",
       " '/media/nas_data/Tom/Data_BKP/Data/Sentinel/S2_2018_new/COPERNICUS_S2_20181004T102019_20181004T102018_T32UPU_atmcorr/COPERNICUS_S2_20181004T102019_20181004T102018_T32UPU.B8.tif',\n",
       " '/media/nas_data/Tom/Data_BKP/Data/Sentinel/S2_2018_new/COPERNICUS_S2_20180616T102019_20180616T102021_T32UPU_atmcorr/COPERNICUS_S2_20180616T102019_20180616T102021_T32UPU.B8.tif',\n",
       " '/media/nas_data/Tom/Data_BKP/Data/Sentinel/S2_2018_new/COPERNICUS_S2_20180616T102019_20180616T102021_T32UPU_atmcorr/COPERNICUS_S2_20180616T102019_20180616T102021_T32UPU.B11.tif',\n",
       " '/media/nas_data/Tom/Data_BKP/Data/Sentinel/S2_2018_new/COPERNICUS_S2_20180726T102019_20180726T102150_T32UPU_atmcorr/COPERNICUS_S2_20180726T102019_20180726T102150_T32UPU.B8.tif',\n",
       " '/media/nas_data/Tom/Data_BKP/Data/Sentinel/S2_2018_new/COPERNICUS_S2_20180726T102019_20180726T102150_T32UPU_atmcorr/COPERNICUS_S2_20180726T102019_20180726T102150_T32UPU.B11.tif',\n",
       " '/media/nas_data/Tom/Data_BKP/Data/Sentinel/S2_2018_new/COPERNICUS_S2_20180427T102019_20180427T102022_T32UPU_atmcorr/COPERNICUS_S2_20180427T102019_20180427T102022_T32UPU.B8.tif',\n",
       " '/media/nas_data/Tom/Data_BKP/Data/Sentinel/S2_2018_new/COPERNICUS_S2_20180427T102019_20180427T102022_T32UPU_atmcorr/COPERNICUS_S2_20180427T102019_20180427T102022_T32UPU.B11.tif']"
      ]
     },
     "execution_count": 95,
     "metadata": {},
     "output_type": "execute_result"
    }
   ],
   "source": [
    "file_list"
   ]
  },
  {
   "cell_type": "code",
   "execution_count": 96,
   "metadata": {},
   "outputs": [],
   "source": [
    "xxx = file_list.sort()"
   ]
  },
  {
   "cell_type": "code",
   "execution_count": 97,
   "metadata": {},
   "outputs": [],
   "source": [
    "from sar_pre_processing.sar_pre_processor import *\n",
    "import warnings\n",
    "warnings.filterwarnings(\"ignore\")\n",
    "#### Attention when using ndwi1.xml or ndwi2.xml grid size of image B11 and B12 are different to B3!!!\n",
    "processing = SARPreProcessor(config='test_config_file.yaml')\n",
    "processing.config.use_user_defined_graphs = 'yes'\n",
    "processing.name_addition_step1 = '_NDWI18'\n",
    "processing.config.output_folder = '/media/tweiss/Daten/NDWI1/sentinel_2_2018_2'\n",
    "processing.config.input_folder = '/media/tweiss/Daten/NDWI1/sentinel_2_2018_2'\n",
    "processing.config.pre_process_step1 = '/media/tweiss/Daten/NDWI/ndwi.xml'\n",
    "processing.config.pre_process_step1_border = '/media/tweiss/Daten/NDWI1/ndwi1.xml'\n",
    "processing.config.output_folder_step1 = '/media/tweiss/Daten/NDWI1/sentinel_2_2018_2/step1_2'\n",
    "#processing.file_list\n",
    "processing.config.xml_graph_path = '/media/tweiss/Daten/NDWI'\n",
    "processing.config.pre_process_step1 = 'ndvi.xml'\n",
    "input_folder = '/media/nas_data/Tom/Data_BKP/Data/Sentinel/S2_2018_new'\n",
    "processing.config.use_user_defined_graphs = 'no'\n",
    "processing.config.region.subset == 'no'\n",
    "processing.config.gpt = '/home/tweiss/snap/bin/gpt'\n",
    "#pattern = '*B12.tif'\n",
    "processing.file_list = filelist"
   ]
  },
  {
   "cell_type": "code",
   "execution_count": 98,
   "metadata": {
    "scrolled": true
   },
   "outputs": [
    {
     "data": {
      "text/plain": [
       "{'gpt': '/home/tweiss/snap/bin/gpt',\n",
       " 'input_folder': '/media/tweiss/Daten/NDWI1/sentinel_2_2018_2',\n",
       " 'output_folder': '/media/tweiss/Daten/NDWI1/sentinel_2_2018_2',\n",
       " 'region': <sar_pre_processing.attribute_dict.AttributeDict at 0x7f0dfa14bad0>,\n",
       " 'single_file': 'no',\n",
       " 'speckle_filter': <sar_pre_processing.attribute_dict.AttributeDict at 0x7f0df9bd4950>,\n",
       " 'use_user_defined_graphs': 'no',\n",
       " 'year': '2021',\n",
       " 'output_folder_step1': '/media/tweiss/Daten/NDWI1/sentinel_2_2018_2/step1_2',\n",
       " 'output_folder_step2': '/path/to/data/step2',\n",
       " 'output_folder_step3': '/path/to/data/step3',\n",
       " 'pre_process_step1': 'ndvi.xml',\n",
       " 'pre_process_step1_border': '/media/tweiss/Daten/NDWI1/ndwi1.xml',\n",
       " 'pre_process_step2': '/home/tweiss/.cache/Python-Eggs/multiply_sar_pre_processing-0.1-py3.7.egg-tmp/sar_pre_processing/default_graphs/pre_process_step2.xml',\n",
       " 'pre_process_step3': '/home/tweiss/.cache/Python-Eggs/multiply_sar_pre_processing-0.1-py3.7.egg-tmp/sar_pre_processing/default_graphs/pre_process_step3.xml',\n",
       " 'pre_process_step3_single_file': '/home/tweiss/.cache/Python-Eggs/multiply_sar_pre_processing-0.1-py3.7.egg-tmp/sar_pre_processing/default_graphs/pre_process_step3_single_file.xml',\n",
       " 'xml_graph_path': '/media/tweiss/Daten/NDWI'}"
      ]
     },
     "execution_count": 98,
     "metadata": {},
     "output_type": "execute_result"
    }
   ],
   "source": [
    "processing.config.__dict__"
   ]
  },
  {
   "cell_type": "code",
   "execution_count": 99,
   "metadata": {},
   "outputs": [
    {
     "name": "stdout",
     "output_type": "stream",
     "text": [
      "/media/nas_data/Tom/Data_BKP/Data/Sentinel/S2_2018_new/COPERNICUS_S2_20180228T101021_20180228T101021_T32UPU_atmcorr/COPERNICUS_S2_20180228T101021_20180228T101021_T32UPU.B11.tif\n",
      "/media/nas_data/Tom/Data_BKP/Data/Sentinel/S2_2018_new/COPERNICUS_S2_20180228T101021_20180228T101021_T32UPU_atmcorr/COPERNICUS_S2_20180228T101021_20180228T101021_T32UPU.B8.tif\n"
     ]
    }
   ],
   "source": [
    "#file_list2 = processing.file_list[1][1::2]\n",
    "\n",
    "#print(file_list2)\n",
    "print(processing.file_list[1][::2][2])\n",
    "print(processing.file_list[1][1::2][2])"
   ]
  },
  {
   "cell_type": "code",
   "execution_count": 100,
   "metadata": {},
   "outputs": [
    {
     "data": {
      "text/plain": [
       "'/media/nas_data/Tom/Data_BKP/Data/Sentinel/S2_2018_new/COPERNICUS_S2_20180124T101309_20180124T101352_T32UPU_atmcorr/COPERNICUS_S2_20180124T101309_20180124T101352_T32UPU.B11.tif'"
      ]
     },
     "execution_count": 100,
     "metadata": {},
     "output_type": "execute_result"
    }
   ],
   "source": [
    "processing.file_list[1][0]"
   ]
  },
  {
   "cell_type": "code",
   "execution_count": 101,
   "metadata": {},
   "outputs": [
    {
     "data": {
      "text/plain": [
       "['/media/nas_data/Tom/Data_BKP/Data/Sentinel/S2_2018_new/COPERNICUS_S2_20180124T101309_20180124T101352_T32UPU_atmcorr/COPERNICUS_S2_20180124T101309_20180124T101352_T32UPU.B11.tif',\n",
       " '/media/nas_data/Tom/Data_BKP/Data/Sentinel/S2_2018_new/COPERNICUS_S2_20180213T101119_20180213T101559_T32UPU_atmcorr/COPERNICUS_S2_20180213T101119_20180213T101559_T32UPU.B11.tif',\n",
       " '/media/nas_data/Tom/Data_BKP/Data/Sentinel/S2_2018_new/COPERNICUS_S2_20180228T101021_20180228T101021_T32UPU_atmcorr/COPERNICUS_S2_20180228T101021_20180228T101021_T32UPU.B11.tif',\n",
       " '/media/nas_data/Tom/Data_BKP/Data/Sentinel/S2_2018_new/COPERNICUS_S2_20180407T102019_20180407T102020_T32UPU_atmcorr/COPERNICUS_S2_20180407T102019_20180407T102020_T32UPU.B11.tif',\n",
       " '/media/nas_data/Tom/Data_BKP/Data/Sentinel/S2_2018_new/COPERNICUS_S2_20180419T101031_20180419T101457_T32UPU_atmcorr/COPERNICUS_S2_20180419T101031_20180419T101457_T32UPU.B11.tif',\n",
       " '/media/nas_data/Tom/Data_BKP/Data/Sentinel/S2_2018_new/COPERNICUS_S2_20180422T102031_20180422T102115_T32UPU_atmcorr/COPERNICUS_S2_20180422T102031_20180422T102115_T32UPU.B11.tif',\n",
       " '/media/nas_data/Tom/Data_BKP/Data/Sentinel/S2_2018_new/COPERNICUS_S2_20180427T102019_20180427T102022_T32UPU_atmcorr/COPERNICUS_S2_20180427T102019_20180427T102022_T32UPU.B11.tif',\n",
       " '/media/nas_data/Tom/Data_BKP/Data/Sentinel/S2_2018_new/COPERNICUS_S2_20180507T102019_20180507T102648_T32UPU_atmcorr/COPERNICUS_S2_20180507T102019_20180507T102648_T32UPU.B11.tif',\n",
       " '/media/nas_data/Tom/Data_BKP/Data/Sentinel/S2_2018_new/COPERNICUS_S2_20180512T102031_20180512T102148_T32UPU_atmcorr/COPERNICUS_S2_20180512T102031_20180512T102148_T32UPU.B11.tif',\n",
       " '/media/nas_data/Tom/Data_BKP/Data/Sentinel/S2_2018_new/COPERNICUS_S2_20180603T101019_20180603T101329_T32UPU_atmcorr/COPERNICUS_S2_20180603T101019_20180603T101329_T32UPU.B11.tif',\n",
       " '/media/nas_data/Tom/Data_BKP/Data/Sentinel/S2_2018_new/COPERNICUS_S2_20180616T102019_20180616T102021_T32UPU_atmcorr/COPERNICUS_S2_20180616T102019_20180616T102021_T32UPU.B11.tif',\n",
       " '/media/nas_data/Tom/Data_BKP/Data/Sentinel/S2_2018_new/COPERNICUS_S2_20180701T102021_20180701T102404_T32UPU_atmcorr/COPERNICUS_S2_20180701T102021_20180701T102404_T32UPU.B11.tif',\n",
       " '/media/nas_data/Tom/Data_BKP/Data/Sentinel/S2_2018_new/COPERNICUS_S2_20180713T101029_20180713T101023_T32UPU_atmcorr/COPERNICUS_S2_20180713T101029_20180713T101023_T32UPU.B11.tif',\n",
       " '/media/nas_data/Tom/Data_BKP/Data/Sentinel/S2_2018_new/COPERNICUS_S2_20180726T102019_20180726T102150_T32UPU_atmcorr/COPERNICUS_S2_20180726T102019_20180726T102150_T32UPU.B11.tif',\n",
       " '/media/nas_data/Tom/Data_BKP/Data/Sentinel/S2_2018_new/COPERNICUS_S2_20180731T102021_20180731T102701_T32UPU_atmcorr/COPERNICUS_S2_20180731T102021_20180731T102701_T32UPU.B11.tif',\n",
       " '/media/nas_data/Tom/Data_BKP/Data/Sentinel/S2_2018_new/COPERNICUS_S2_20180812T101019_20180812T101124_T32UPU_atmcorr/COPERNICUS_S2_20180812T101019_20180812T101124_T32UPU.B11.tif',\n",
       " '/media/nas_data/Tom/Data_BKP/Data/Sentinel/S2_2018_new/COPERNICUS_S2_20180817T101021_20180817T101024_T32UPU_atmcorr/COPERNICUS_S2_20180817T101021_20180817T101024_T32UPU.B11.tif',\n",
       " '/media/nas_data/Tom/Data_BKP/Data/Sentinel/S2_2018_new/COPERNICUS_S2_20180820T102021_20180820T102358_T32UPU_atmcorr/COPERNICUS_S2_20180820T102021_20180820T102358_T32UPU.B11.tif',\n",
       " '/media/nas_data/Tom/Data_BKP/Data/Sentinel/S2_2018_new/COPERNICUS_S2_20180822T101019_20180822T101321_T32UPU_atmcorr/COPERNICUS_S2_20180822T101019_20180822T101321_T32UPU.B11.tif',\n",
       " '/media/nas_data/Tom/Data_BKP/Data/Sentinel/S2_2018_new/COPERNICUS_S2_20180827T101021_20180827T101023_T32UPU_atmcorr/COPERNICUS_S2_20180827T101021_20180827T101023_T32UPU.B11.tif',\n",
       " '/media/nas_data/Tom/Data_BKP/Data/Sentinel/S2_2018_new/COPERNICUS_S2_20180916T101021_20180916T101512_T32UPU_atmcorr/COPERNICUS_S2_20180916T101021_20180916T101512_T32UPU.B11.tif',\n",
       " '/media/nas_data/Tom/Data_BKP/Data/Sentinel/S2_2018_new/COPERNICUS_S2_20181004T102019_20181004T102018_T32UPU_atmcorr/COPERNICUS_S2_20181004T102019_20181004T102018_T32UPU.B11.tif',\n",
       " '/media/nas_data/Tom/Data_BKP/Data/Sentinel/S2_2018_new/COPERNICUS_S2_20181011T101019_20181011T101020_T32UPU_atmcorr/COPERNICUS_S2_20181011T101019_20181011T101020_T32UPU.B11.tif',\n",
       " '/media/nas_data/Tom/Data_BKP/Data/Sentinel/S2_2018_new/COPERNICUS_S2_20181014T102019_20181014T102627_T32UPU_atmcorr/COPERNICUS_S2_20181014T102019_20181014T102627_T32UPU.B11.tif',\n",
       " '/media/nas_data/Tom/Data_BKP/Data/Sentinel/S2_2018_new/COPERNICUS_S2_20181016T101021_20181016T101021_T32UPU_atmcorr/COPERNICUS_S2_20181016T101021_20181016T101021_T32UPU.B11.tif',\n",
       " '/media/nas_data/Tom/Data_BKP/Data/Sentinel/S2_2018_new/COPERNICUS_S2_20181021T101039_20181021T101201_T32UPU_atmcorr/COPERNICUS_S2_20181021T101039_20181021T101201_T32UPU.B11.tif',\n",
       " '/media/nas_data/Tom/Data_BKP/Data/Sentinel/S2_2018_new/COPERNICUS_S2_20181026T101111_20181026T101108_T32UPU_atmcorr/COPERNICUS_S2_20181026T101111_20181026T101108_T32UPU.B11.tif']"
      ]
     },
     "execution_count": 101,
     "metadata": {},
     "output_type": "execute_result"
    }
   ],
   "source": [
    "processing.file_list[1][::2]"
   ]
  },
  {
   "cell_type": "code",
   "execution_count": 102,
   "metadata": {},
   "outputs": [
    {
     "name": "stderr",
     "output_type": "stream",
     "text": [
      "INFO:root:area of interest specified\n",
      "INFO:root:normalisation angle not specified, default value of 35 is used for processing\n",
      "INFO:ComponentProgress:0\n",
      "INFO:ComponentProgress:0\n",
      "INFO:root:Process COPERNICUS_S2_20180124T101309_20180124T101352_T32UPU.B11.tif with SNAP.\n",
      "INFO:root:0\n",
      "INFO:ComponentProgress:1\n",
      "INFO:ComponentProgress:1\n",
      "INFO:root:Process COPERNICUS_S2_20180213T101119_20180213T101559_T32UPU.B11.tif with SNAP.\n",
      "INFO:root:0\n",
      "INFO:ComponentProgress:3\n",
      "INFO:ComponentProgress:3\n",
      "INFO:root:Process COPERNICUS_S2_20180228T101021_20180228T101021_T32UPU.B11.tif with SNAP.\n",
      "INFO:root:0\n",
      "INFO:ComponentProgress:5\n",
      "INFO:ComponentProgress:5\n",
      "INFO:root:Process COPERNICUS_S2_20180407T102019_20180407T102020_T32UPU.B11.tif with SNAP.\n",
      "INFO:root:0\n",
      "INFO:ComponentProgress:7\n",
      "INFO:ComponentProgress:7\n",
      "INFO:root:Process COPERNICUS_S2_20180419T101031_20180419T101457_T32UPU.B11.tif with SNAP.\n",
      "INFO:root:0\n",
      "INFO:ComponentProgress:9\n",
      "INFO:ComponentProgress:9\n",
      "INFO:root:Process COPERNICUS_S2_20180422T102031_20180422T102115_T32UPU.B11.tif with SNAP.\n",
      "INFO:root:0\n",
      "INFO:ComponentProgress:11\n",
      "INFO:ComponentProgress:11\n",
      "INFO:root:Process COPERNICUS_S2_20180427T102019_20180427T102022_T32UPU.B11.tif with SNAP.\n",
      "INFO:root:0\n",
      "INFO:ComponentProgress:12\n",
      "INFO:ComponentProgress:12\n",
      "INFO:root:Process COPERNICUS_S2_20180507T102019_20180507T102648_T32UPU.B11.tif with SNAP.\n",
      "INFO:root:0\n",
      "INFO:ComponentProgress:14\n",
      "INFO:ComponentProgress:14\n",
      "INFO:root:Process COPERNICUS_S2_20180512T102031_20180512T102148_T32UPU.B11.tif with SNAP.\n",
      "INFO:root:0\n",
      "INFO:ComponentProgress:16\n",
      "INFO:ComponentProgress:16\n",
      "INFO:root:Process COPERNICUS_S2_20180603T101019_20180603T101329_T32UPU.B11.tif with SNAP.\n",
      "INFO:root:0\n",
      "INFO:ComponentProgress:18\n",
      "INFO:ComponentProgress:18\n",
      "INFO:root:Process COPERNICUS_S2_20180616T102019_20180616T102021_T32UPU.B11.tif with SNAP.\n",
      "INFO:root:0\n",
      "INFO:ComponentProgress:20\n",
      "INFO:ComponentProgress:20\n",
      "INFO:root:Process COPERNICUS_S2_20180701T102021_20180701T102404_T32UPU.B11.tif with SNAP.\n",
      "INFO:root:0\n",
      "INFO:ComponentProgress:22\n",
      "INFO:ComponentProgress:22\n",
      "INFO:root:Process COPERNICUS_S2_20180713T101029_20180713T101023_T32UPU.B11.tif with SNAP.\n",
      "INFO:root:0\n",
      "INFO:ComponentProgress:24\n",
      "INFO:ComponentProgress:24\n",
      "INFO:root:Process COPERNICUS_S2_20180726T102019_20180726T102150_T32UPU.B11.tif with SNAP.\n",
      "INFO:root:0\n",
      "INFO:ComponentProgress:25\n",
      "INFO:ComponentProgress:25\n",
      "INFO:root:Process COPERNICUS_S2_20180731T102021_20180731T102701_T32UPU.B11.tif with SNAP.\n",
      "INFO:root:0\n",
      "INFO:ComponentProgress:27\n",
      "INFO:ComponentProgress:27\n",
      "INFO:root:Process COPERNICUS_S2_20180812T101019_20180812T101124_T32UPU.B11.tif with SNAP.\n",
      "INFO:root:0\n",
      "INFO:ComponentProgress:29\n",
      "INFO:ComponentProgress:29\n",
      "INFO:root:Process COPERNICUS_S2_20180817T101021_20180817T101024_T32UPU.B11.tif with SNAP.\n",
      "INFO:root:0\n",
      "INFO:ComponentProgress:31\n",
      "INFO:ComponentProgress:31\n",
      "INFO:root:Process COPERNICUS_S2_20180820T102021_20180820T102358_T32UPU.B11.tif with SNAP.\n",
      "INFO:root:0\n",
      "INFO:ComponentProgress:33\n",
      "INFO:ComponentProgress:33\n",
      "INFO:root:Process COPERNICUS_S2_20180822T101019_20180822T101321_T32UPU.B11.tif with SNAP.\n",
      "INFO:root:0\n",
      "INFO:ComponentProgress:35\n",
      "INFO:ComponentProgress:35\n",
      "INFO:root:Process COPERNICUS_S2_20180827T101021_20180827T101023_T32UPU.B11.tif with SNAP.\n",
      "INFO:root:0\n",
      "INFO:ComponentProgress:37\n",
      "INFO:ComponentProgress:37\n",
      "INFO:root:Process COPERNICUS_S2_20180916T101021_20180916T101512_T32UPU.B11.tif with SNAP.\n",
      "INFO:root:0\n",
      "INFO:ComponentProgress:38\n",
      "INFO:ComponentProgress:38\n",
      "INFO:root:Process COPERNICUS_S2_20181004T102019_20181004T102018_T32UPU.B11.tif with SNAP.\n",
      "INFO:root:0\n",
      "INFO:ComponentProgress:40\n",
      "INFO:ComponentProgress:40\n",
      "INFO:root:Process COPERNICUS_S2_20181011T101019_20181011T101020_T32UPU.B11.tif with SNAP.\n",
      "INFO:root:0\n",
      "INFO:ComponentProgress:42\n",
      "INFO:ComponentProgress:42\n",
      "INFO:root:Process COPERNICUS_S2_20181014T102019_20181014T102627_T32UPU.B11.tif with SNAP.\n",
      "INFO:root:0\n",
      "INFO:ComponentProgress:44\n",
      "INFO:ComponentProgress:44\n",
      "INFO:root:Process COPERNICUS_S2_20181016T101021_20181016T101021_T32UPU.B11.tif with SNAP.\n",
      "INFO:root:0\n",
      "INFO:ComponentProgress:46\n",
      "INFO:ComponentProgress:46\n",
      "INFO:root:Process COPERNICUS_S2_20181021T101039_20181021T101201_T32UPU.B11.tif with SNAP.\n",
      "INFO:root:0\n",
      "INFO:ComponentProgress:48\n",
      "INFO:ComponentProgress:48\n",
      "INFO:root:Process COPERNICUS_S2_20181026T101111_20181026T101108_T32UPU.B11.tif with SNAP.\n",
      "INFO:root:0\n"
     ]
    }
   ],
   "source": [
    "processing.pre_process_step1()"
   ]
  },
  {
   "cell_type": "code",
   "execution_count": 10,
   "metadata": {
    "scrolled": false
   },
   "outputs": [
    {
     "name": "stderr",
     "output_type": "stream",
     "text": [
      "INFO:root:Found files within input folder: 2\n",
      "INFO:root:Number of found files for year 2021: 2\n",
      "INFO:root:area of interest not specified\n",
      "INFO:root:Number of found files that were double processed: 0.0\n",
      "INFO:root:Number of found files with border issues: 0\n",
      "INFO:root:area of interest specified\n",
      "INFO:root:normalisation angle not specified, default value of 35 is used for processing\n",
      "INFO:ComponentProgress:0\n",
      "INFO:ComponentProgress:0\n",
      "INFO:root:Process S1A_IW_GRDH_1SDV_20210707T051822_20210707T051847_038667_04901E_1B6B.zip with SNAP.\n"
     ]
    },
    {
     "name": "stdout",
     "output_type": "stream",
     "text": [
      "start step 1\n"
     ]
    },
    {
     "name": "stderr",
     "output_type": "stream",
     "text": [
      "INFO: org.esa.snap.core.gpf.operators.tooladapter.ToolAdapterIO: Initializing external tool adapters\n",
      "INFO: org.esa.s2tbx.dataio.gdal.GDALVersion: Incompatible GDAL 3.3.1 found on system. Internal GDAL 3.0.0 from distribution will be used.\n",
      "INFO: org.esa.s2tbx.dataio.gdal.GDALVersion: Internal GDAL 3.0.0 set to be used by SNAP.\n",
      "INFO: org.esa.snap.core.util.EngineVersionCheckActivator: Please check regularly for new updates for the best SNAP experience.\n",
      "INFO: org.esa.s2tbx.dataio.gdal.GDALVersion: Internal GDAL 3.0.0 set to be used by SNAP.\n"
     ]
    },
    {
     "name": "stdout",
     "output_type": "stream",
     "text": [
      "Executing processing graph\n"
     ]
    },
    {
     "name": "stderr",
     "output_type": "stream",
     "text": [
      "INFO: org.hsqldb.persist.Logger: dataFileCache open start\n",
      "WARNING: org.esa.s1tbx.sar.gpf.orbits.ApplyOrbitFileOp: No valid orbit file found for 07-JUL-2021 05:17:13.000000\n",
      "Orbit files may be downloaded from https://scihub.copernicus.eu/gnss/odata/v1/\n",
      "and placed in /home/test/.snap/auxdata/Orbits/Sentinel-1/POEORB/S1A/2021/07\n"
     ]
    },
    {
     "name": "stdout",
     "output_type": "stream",
     "text": [
      "OpenSearch: https://scihub.copernicus.eu/gnss/search?q=platformname:Sentinel-1 AND platformnumber:A AND producttype:AUX_RESORB AND beginposition:[2021-07-01T00:00:000Z TO 2021-07-31T24:00:000Z]\n",
      "OpenSearch: 35 total results on 1 pages.\n",
      "OpenSearch: https://scihub.copernicus.eu/gnss/search?q=platformname:Sentinel-1 AND platformnumber:A AND producttype:AUX_RESORB AND beginposition:[2021-07-01T00:00:000Z TO 2021-07-31T24:00:000Z]\n",
      "OpenSearch: https://scihub.copernicus.eu/gnss/search?q=platformname:Sentinel-1 AND platformnumber:A AND producttype:AUX_RESORB AND beginposition:[2021-06-01T00:00:000Z TO 2021-06-31T24:00:000Z]\n",
      "OpenSearch: 0 total results on 1 pages.\n"
     ]
    },
    {
     "name": "stderr",
     "output_type": "stream",
     "text": [
      "WARNING: org.esa.s1tbx.sar.gpf.orbits.ApplyOrbitFileOp: ApplyOrbit ignoring error and continuing: java.io.IOException: No valid orbit file found for 07-JUL-2021 05:17:13.000000\n",
      "Orbit files may be downloaded from https://scihub.copernicus.eu/gnss/odata/v1/\n",
      "and placed in /home/test/.snap/auxdata/Orbits/Sentinel-1/POEORB/S1A/2021/07\n"
     ]
    },
    {
     "name": "stdout",
     "output_type": "stream",
     "text": [
      "version = 3.31\n",
      "...10%....21%....33%....44%...54%....65%....77%....88%. done.\n"
     ]
    },
    {
     "name": "stderr",
     "output_type": "stream",
     "text": [
      "INFO:root:0\n",
      "INFO:ComponentProgress:50\n",
      "INFO:ComponentProgress:50\n",
      "INFO:root:Process S1B_IW_GRDH_1SDV_20210706T052551_20210706T052616_027669_034D60_888E.zip with SNAP.\n",
      "INFO: org.esa.snap.core.gpf.operators.tooladapter.ToolAdapterIO: Initializing external tool adapters\n",
      "INFO: org.esa.s2tbx.dataio.gdal.GDALVersion: Incompatible GDAL 3.3.1 found on system. Internal GDAL 3.0.0 from distribution will be used.\n",
      "INFO: org.esa.s2tbx.dataio.gdal.GDALVersion: Internal GDAL 3.0.0 set to be used by SNAP.\n",
      "INFO: org.esa.snap.core.util.EngineVersionCheckActivator: Please check regularly for new updates for the best SNAP experience.\n",
      "INFO: org.esa.s2tbx.dataio.gdal.GDALVersion: Internal GDAL 3.0.0 set to be used by SNAP.\n"
     ]
    },
    {
     "name": "stdout",
     "output_type": "stream",
     "text": [
      "Executing processing graph\n"
     ]
    },
    {
     "name": "stderr",
     "output_type": "stream",
     "text": [
      "INFO: org.hsqldb.persist.Logger: dataFileCache open start\n",
      "WARNING: org.esa.s1tbx.sar.gpf.orbits.ApplyOrbitFileOp: No valid orbit file found for 06-JUL-2021 05:24:42.000000\n",
      "Orbit files may be downloaded from https://scihub.copernicus.eu/gnss/odata/v1/\n",
      "and placed in /home/test/.snap/auxdata/Orbits/Sentinel-1/POEORB/S1B/2021/07\n"
     ]
    },
    {
     "name": "stdout",
     "output_type": "stream",
     "text": [
      "OpenSearch: https://scihub.copernicus.eu/gnss/search?q=platformname:Sentinel-1 AND platformnumber:B AND producttype:AUX_RESORB AND beginposition:[2021-07-01T00:00:000Z TO 2021-07-31T24:00:000Z]\n",
      "OpenSearch: 36 total results on 1 pages.\n",
      "OpenSearch: https://scihub.copernicus.eu/gnss/search?q=platformname:Sentinel-1 AND platformnumber:B AND producttype:AUX_RESORB AND beginposition:[2021-07-01T00:00:000Z TO 2021-07-31T24:00:000Z]\n",
      "OpenSearch: https://scihub.copernicus.eu/gnss/search?q=platformname:Sentinel-1 AND platformnumber:B AND producttype:AUX_RESORB AND beginposition:[2021-06-01T00:00:000Z TO 2021-06-31T24:00:000Z]\n",
      "OpenSearch: 0 total results on 1 pages.\n"
     ]
    },
    {
     "name": "stderr",
     "output_type": "stream",
     "text": [
      "WARNING: org.esa.s1tbx.sar.gpf.orbits.ApplyOrbitFileOp: ApplyOrbit ignoring error and continuing: java.io.IOException: No valid orbit file found for 06-JUL-2021 05:24:42.000000\n",
      "Orbit files may be downloaded from https://scihub.copernicus.eu/gnss/odata/v1/\n",
      "and placed in /home/test/.snap/auxdata/Orbits/Sentinel-1/POEORB/S1B/2021/07\n"
     ]
    },
    {
     "name": "stdout",
     "output_type": "stream",
     "text": [
      "version = 3.31\n",
      "....11%....23%....34%....46%....57%....69%....80%.... done.\n"
     ]
    },
    {
     "name": "stderr",
     "output_type": "stream",
     "text": [
      "INFO:root:0\n",
      "INFO:ComponentProgress:0\n",
      "INFO:ComponentProgress:0\n",
      "INFO:root:Scene 1 of 2\n",
      "INFO:root:Process S1A_IW_GRDH_1SDV_20210707T051822_20210707T051847_038667_04901E_1B6B_GC_RC_No_Su.dim with SNAP.\n"
     ]
    },
    {
     "name": "stdout",
     "output_type": "stream",
     "text": [
      "start step 2\n"
     ]
    },
    {
     "name": "stderr",
     "output_type": "stream",
     "text": [
      "INFO: org.esa.snap.core.gpf.operators.tooladapter.ToolAdapterIO: Initializing external tool adapters\n",
      "INFO: org.esa.s2tbx.dataio.gdal.GDALVersion: Incompatible GDAL 3.3.1 found on system. Internal GDAL 3.0.0 from distribution will be used.\n",
      "INFO: org.esa.s2tbx.dataio.gdal.GDALVersion: Internal GDAL 3.0.0 set to be used by SNAP.\n",
      "INFO: org.esa.snap.core.util.EngineVersionCheckActivator: Please check regularly for new updates for the best SNAP experience.\n",
      "INFO: org.esa.s2tbx.dataio.gdal.GDALVersion: Internal GDAL 3.0.0 set to be used by SNAP.\n"
     ]
    },
    {
     "name": "stdout",
     "output_type": "stream",
     "text": [
      "Executing processing graph\n"
     ]
    },
    {
     "name": "stderr",
     "output_type": "stream",
     "text": [
      "INFO: org.hsqldb.persist.Logger: dataFileCache open start\n"
     ]
    },
    {
     "name": "stdout",
     "output_type": "stream",
     "text": [
      "...."
     ]
    },
    {
     "name": "stderr",
     "output_type": "stream",
     "text": [
      "14638 [main] INFO serverStartup - Nc4Iosp: NetCDF-4 C library loaded (jna_path='/home/test/.snap/auxdata/netcdf_natives/8.0.5/amd64', libname='netcdf').\n",
      "14676 [main] INFO serverStartup - NetcdfLoader: set log level: old=0 new=0\n",
      "14676 [main] INFO serverStartup - Nc4Iosp: set log level: old=0 new=0\n"
     ]
    },
    {
     "name": "stdout",
     "output_type": "stream",
     "text": [
      "11%....22%...32%....43%...53%....64%....75%...85%.."
     ]
    },
    {
     "name": "stderr",
     "output_type": "stream",
     "text": [
      "-- org.jblas INFO Deleting /tmp/jblas4819000381521070295/libjblas.so\n",
      "-- org.jblas INFO Deleting /tmp/jblas4819000381521070295/libgfortran-4.so\n",
      "-- org.jblas INFO Deleting /tmp/jblas4819000381521070295/libjblas_arch_flavor.so\n",
      "-- org.jblas INFO Deleting /tmp/jblas4819000381521070295/libquadmath-0.so\n",
      "-- org.jblas INFO Deleting /tmp/jblas4819000381521070295\n",
      "INFO:root:0\n",
      "INFO:root:2021-08-29 20:28:51.715338\n",
      "INFO:ComponentProgress:50\n",
      "INFO:ComponentProgress:50\n",
      "INFO:root:Scene 2 of 2\n",
      "INFO:root:Process S1B_IW_GRDH_1SDV_20210706T052551_20210706T052616_027669_034D60_888E_GC_RC_No_Su.dim with SNAP.\n"
     ]
    },
    {
     "name": "stdout",
     "output_type": "stream",
     "text": [
      " done.\n"
     ]
    },
    {
     "name": "stderr",
     "output_type": "stream",
     "text": [
      "INFO: org.esa.snap.core.gpf.operators.tooladapter.ToolAdapterIO: Initializing external tool adapters\n",
      "INFO: org.esa.s2tbx.dataio.gdal.GDALVersion: Incompatible GDAL 3.3.1 found on system. Internal GDAL 3.0.0 from distribution will be used.\n",
      "INFO: org.esa.s2tbx.dataio.gdal.GDALVersion: Internal GDAL 3.0.0 set to be used by SNAP.\n",
      "INFO: org.esa.snap.core.util.EngineVersionCheckActivator: Please check regularly for new updates for the best SNAP experience.\n",
      "INFO: org.esa.s2tbx.dataio.gdal.GDALVersion: Internal GDAL 3.0.0 set to be used by SNAP.\n"
     ]
    },
    {
     "name": "stdout",
     "output_type": "stream",
     "text": [
      "Executing processing graph\n"
     ]
    },
    {
     "name": "stderr",
     "output_type": "stream",
     "text": [
      "INFO: org.hsqldb.persist.Logger: dataFileCache open start\n",
      "INFO: org.esa.snap.core.datamodel.Product: raster width 3341 not equal to 3340\n",
      "INFO: org.esa.snap.core.datamodel.Product: raster width 3341 not equal to 3340\n"
     ]
    },
    {
     "name": "stdout",
     "output_type": "stream",
     "text": [
      "...."
     ]
    },
    {
     "name": "stderr",
     "output_type": "stream",
     "text": [
      "14858 [main] INFO serverStartup - Nc4Iosp: NetCDF-4 C library loaded (jna_path='/home/test/.snap/auxdata/netcdf_natives/8.0.5/amd64', libname='netcdf').\n",
      "14895 [main] INFO serverStartup - NetcdfLoader: set log level: old=0 new=0\n",
      "14895 [main] INFO serverStartup - Nc4Iosp: set log level: old=0 new=0\n"
     ]
    },
    {
     "name": "stdout",
     "output_type": "stream",
     "text": [
      "11%....22%...32%....43%...53%....64%....75%...85%.. done.\n"
     ]
    },
    {
     "name": "stderr",
     "output_type": "stream",
     "text": [
      "-- org.jblas INFO Deleting /tmp/jblas4294428937644417987/libjblas.so\n",
      "-- org.jblas INFO Deleting /tmp/jblas4294428937644417987/libgfortran-4.so\n",
      "-- org.jblas INFO Deleting /tmp/jblas4294428937644417987/libjblas_arch_flavor.so\n",
      "-- org.jblas INFO Deleting /tmp/jblas4294428937644417987/libquadmath-0.so\n",
      "-- org.jblas INFO Deleting /tmp/jblas4294428937644417987\n",
      "INFO:root:0\n",
      "INFO:root:2021-08-29 20:29:42.545034\n",
      "INFO:root:combination of default multi temporal speckle filter and user defined graphs is not supported yet\n"
     ]
    },
    {
     "name": "stdout",
     "output_type": "stream",
     "text": [
      "start step 3\n",
      "start add netcdf information\n"
     ]
    },
    {
     "name": "stderr",
     "output_type": "stream",
     "text": [
      "INFO:root:Number of scenes found for processing: 2\n"
     ]
    },
    {
     "name": "stdout",
     "output_type": "stream",
     "text": [
      "start create netcdf stack\n",
      "\n",
      "Scene 1 of 2\n",
      "/home/test/Desktop/data4/step2/S1B_IW_GRDH_1SDV_20210706T052551_20210706T052616_027669_034D60_888E_GC_RC_No_Su_Co.nc\n",
      "\n",
      "Scene 2 of 2\n",
      "/home/test/Desktop/data4/step2/S1A_IW_GRDH_1SDV_20210707T051822_20210707T051847_038667_04901E_1B6B_GC_RC_No_Su_Co.nc\n"
     ]
    }
   ],
   "source": [
    "from sar_pre_processing.sar_pre_processor import *\n",
    "import warnings\n",
    "warnings.filterwarnings(\"ignore\")\n",
    "\n",
    "processing = SARPreProcessor(config='test_config_file.yaml')\n",
    "processing.create_processing_file_list()\n",
    "print('start step 1')\n",
    "processing.pre_process_step1()\n",
    "print('start step 2')\n",
    "processing.pre_process_step2()\n",
    "print('start step 3')\n",
    "processing.pre_process_step3()\n",
    "print('start add netcdf information')\n",
    "processing.add_netcdf_information()\n",
    "print('start create netcdf stack')\n",
    "processing.create_netcdf_stack()"
   ]
  },
  {
   "cell_type": "markdown",
   "metadata": {},
   "source": [
    "## 4. View processed data"
   ]
  },
  {
   "cell_type": "markdown",
   "metadata": {},
   "source": [
    "Load netcdf file with processed data"
   ]
  },
  {
   "cell_type": "code",
   "execution_count": 11,
   "metadata": {},
   "outputs": [
    {
     "name": "stdout",
     "output_type": "stream",
     "text": [
      "/home/test/Desktop/sar-pre-processing/docs/notebooks\n",
      "/home/test/Desktop/data4\n"
     ]
    }
   ],
   "source": [
    "import os\n",
    "print(os.getcwd())\n",
    "print(output_folder)"
   ]
  },
  {
   "cell_type": "code",
   "execution_count": 12,
   "metadata": {},
   "outputs": [],
   "source": [
    "from netCDF4 import Dataset\n",
    "import numpy as np\n",
    "\n",
    "my_example_nc_file = os.path.join(output_folder, 'data4.nc')\n",
    "data = Dataset(my_example_nc_file, mode='r') "
   ]
  },
  {
   "cell_type": "markdown",
   "metadata": {},
   "source": [
    "View information about dataset"
   ]
  },
  {
   "cell_type": "code",
   "execution_count": 13,
   "metadata": {},
   "outputs": [
    {
     "data": {
      "text/plain": [
       "<class 'netCDF4._netCDF4.Dataset'>\n",
       "root group (NETCDF4 data model, file format HDF5):\n",
       "    dimensions(sizes): lat(2227), lon(3341), time(2)\n",
       "    variables(dimensions): float32 time(time), float32 orbitdirection(time), float32 relorbit(time), float32 satellite(time), float32 lat(lat), float32 lon(lon), float32 Sigma0_VH(time, lat, lon), float32 Sigma0_VV(time, lat, lon)\n",
       "    groups: "
      ]
     },
     "execution_count": 13,
     "metadata": {},
     "output_type": "execute_result"
    }
   ],
   "source": [
    "data"
   ]
  },
  {
   "cell_type": "markdown",
   "metadata": {},
   "source": [
    "Read data from netcdf file"
   ]
  },
  {
   "cell_type": "code",
   "execution_count": 14,
   "metadata": {},
   "outputs": [
    {
     "data": {
      "text/plain": [
       "dict_keys(['time', 'orbitdirection', 'relorbit', 'satellite', 'lat', 'lon', 'Sigma0_VH', 'Sigma0_VV'])"
      ]
     },
     "execution_count": 14,
     "metadata": {},
     "output_type": "execute_result"
    }
   ],
   "source": [
    "data.variables['orbitdirection'][:]\n",
    "data.variables['time'][:]\n",
    "lons = data.variables['lon'][:]\n",
    "lats = data.variables['lat'][:]\n",
    "data.variables.keys()"
   ]
  },
  {
   "cell_type": "code",
   "execution_count": 15,
   "metadata": {},
   "outputs": [],
   "source": [
    "vv = data.variables['Sigma0_VV'][:]\n"
   ]
  },
  {
   "cell_type": "markdown",
   "metadata": {},
   "source": [
    "Close netcdf file"
   ]
  },
  {
   "cell_type": "code",
   "execution_count": 16,
   "metadata": {},
   "outputs": [],
   "source": [
    "data.close()"
   ]
  },
  {
   "cell_type": "markdown",
   "metadata": {},
   "source": [
    "Plot vv polorized data"
   ]
  },
  {
   "cell_type": "code",
   "execution_count": 17,
   "metadata": {},
   "outputs": [
    {
     "data": {
      "application/vnd.jupyter.widget-view+json": {
       "model_id": "fa5712a611614067a28769e7d42d2284",
       "version_major": 2,
       "version_minor": 0
      },
      "text/plain": [
       "interactive(children=(IntSlider(value=0, description='x', max=1), Output()), _dom_classes=('widget-interact',)…"
      ]
     },
     "metadata": {},
     "output_type": "display_data"
    },
    {
     "data": {
      "image/png": "[encoded data removed]",
      "text/plain": [
       "<Figure size 432x288 with 2 Axes>"
      ]
     },
     "metadata": {
      "needs_background": "light"
     },
     "output_type": "display_data"
    }
   ],
   "source": [
    "%matplotlib inline\n",
    "from ipywidgets import interactive\n",
    "import matplotlib.pyplot as plt\n",
    "import numpy as np\n",
    "\n",
    "def f(x):\n",
    "    # Problem: border pixel might be zero or negative\n",
    "    # pixel eqal or smaller than zero are set to nan\n",
    "    array = np.copy(vv[x])\n",
    "    array[array <= 0] = np.nan\n",
    "    # plot backscatter data in dB scale\n",
    "    plt.imshow(10*np.log10(array))\n",
    "    cbar = plt.colorbar()\n",
    "    cbar.set_label('dB')\n",
    "    plt.clim(-25, 0)\n",
    "\n",
    "interactive_plot = interactive(f, x=(0,len(vv)-1))\n",
    "interactive_plot"
   ]
  }
 ],
 "metadata": {
  "kernelspec": {
   "display_name": "Python 3",
   "language": "python",
   "name": "python3"
  },
  "language_info": {
   "codemirror_mode": {
    "name": "ipython",
    "version": 3
   },
   "file_extension": ".py",
   "mimetype": "text/x-python",
   "name": "python",
   "nbconvert_exporter": "python",
   "pygments_lexer": "ipython3",
   "version": "3.7.4"
  }
 },
 "nbformat": 4,
 "nbformat_minor": 2
}
